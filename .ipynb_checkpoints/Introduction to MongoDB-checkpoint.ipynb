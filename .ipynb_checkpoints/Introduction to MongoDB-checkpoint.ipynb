{
 "metadata": {
  "name": "",
  "signature": "sha256:47e383d5e162f69d13b389af9852d8e471a8f99156d7f149bb0b3e1831294e7f"
 },
 "nbformat": 3,
 "nbformat_minor": 0,
 "worksheets": [
  {
   "cells": [
    {
     "cell_type": "markdown",
     "metadata": {},
     "source": [
      "# Exploring Data from MongoDB #\n",
      "## Importing Vehicle Data to Mongo from a CSV File ##\n",
      "\n",
      "The focus of this exercise is to demonstrate reading data directly from Mongo, which of course requires having some data in a Mongo database. We'll be using [data from fueleconomy.gov][1]. Simply download the [ZIP file of vehicle data in CSV format][2] and unzip it into the same folder as this notebook file. You may want to refer to the [documentation for the vehicle data][3].\n",
      "\n",
      "To run this yourself, just do the following:\n",
      "\n",
      "1.  Make sure you have `vehicles.csv` in the same directory as this notebook.  You'll need to unzip the downloaded file using:\n",
      "    <pre>unzip vehicles.csv.zip</pre>\n",
      "   \n",
      "2.  Make sure you have a mongo server running on `localhost` on port `27017`. (If you're running one elsewhere, you'll just need to change the connection line below. \n",
      "\n",
      "To check if MongoDB is running, run the following command in your terminal:\n",
      "\n",
      "```\n",
      "> mongo\n",
      "```\n",
      "\n",
      "If you complains that it cannot connect to the server, MongoDB isn't running. \n",
      "\n",
      "We can fix that by starting the MongoDB daemon (background process. Issuing the following command:\n",
      "\n",
      "```\n",
      "> mongod\n",
      "```\n",
      "\n",
      "If you run into errors regarding `/data/db` not existing, run `mkdir -p /data/db` to initalize the required directory. The `-p` stands for parent, and will create the full path even if the parent directories (in this case, `/data`) don't exist yet. Create the directory and start the database using `mongod`.\n",
      "\n",
      "\n",
      "[1]: http://www.fueleconomy.gov/feg/ws/index.shtml\n",
      "[2]: http://www.fueleconomy.gov/feg/epadata/vehicles.csv.zip\n",
      "[3]: http://www.fueleconomy.gov/feg/ws/index.shtml#vehicle\n",
      "[4]: http://www.7-zip.org/"
     ]
    },
    {
     "cell_type": "markdown",
     "metadata": {},
     "source": [
      "## Connect to Mongo ##\n",
      "\n",
      "First, we'll connect to Mongo on the default host and port. If you need to connect a server other than `localhost` and/or a port other than `27017`, you'll need to explicitly specify them with `MongoClient(server, port)`."
     ]
    },
    {
     "cell_type": "code",
     "collapsed": false,
     "input": [
      "from pymongo import MongoClient # pip install pymongo\n",
      "\n",
      "mongo_client = MongoClient()\n",
      "db = mongo_client.vehicles"
     ],
     "language": "python",
     "metadata": {},
     "outputs": [],
     "prompt_number": 3
    },
    {
     "cell_type": "markdown",
     "metadata": {},
     "source": [
      "## Import the Data ##\n",
      "\n",
      "Before importing from the CSV file, let's clear out anything that might already be in the collection from a previous import:"
     ]
    },
    {
     "cell_type": "code",
     "collapsed": false,
     "input": [
      "db.vehicles.drop()"
     ],
     "language": "python",
     "metadata": {},
     "outputs": [],
     "prompt_number": 4
    },
    {
     "cell_type": "markdown",
     "metadata": {},
     "source": [
      "Python's `csv` module makes importing from a CSV file trivially simple. The `csv.DictReader` class automatically interprets the first record as the column names, returning the remaining records as Python `dict`s (where the column names are the keys). The dicts can then be directly inserted into our collections.\n",
      "\n",
      "Note that `insert()` can accept any iterable for easily inserting multiple documents."
     ]
    },
    {
     "cell_type": "code",
     "collapsed": false,
     "input": [
      "import csv\n",
      "with open('vehicles.csv') as f:\n",
      "    records = csv.DictReader(f)\n",
      "    db.vehicles.insert(records)"
     ],
     "language": "python",
     "metadata": {},
     "outputs": [],
     "prompt_number": 5
    },
    {
     "cell_type": "markdown",
     "metadata": {},
     "source": [
      "## Some Notes ##\n",
      "\n",
      "Even though Mongo documents are ordered, Python `dict`s are not. This means the column order won't be preserved when using `DictReader`. Also, since CSV records are inherently flat, so too will your Mongo documents be. If you want to create ordered and/or nested documents from a CSV file, you can manually compose an instance of [`pymongo.bson.son.SON`][1] for each record.\n",
      "\n",
      "Python can also very easily import JSON documents\u2014just check out the [`json` package][2].\n",
      "\n",
      "[1]: http://api.mongodb.org/python/current/api/bson/son.html\n",
      "[2]: http://docs.python.org/2/library/json.html"
     ]
    },
    {
     "cell_type": "markdown",
     "metadata": {},
     "source": [
      "Now let's double check what collections we have in our MongoDB datebase:"
     ]
    },
    {
     "cell_type": "code",
     "collapsed": false,
     "input": [
      "print ', '.join(db.collection_names())"
     ],
     "language": "python",
     "metadata": {},
     "outputs": [
      {
       "output_type": "stream",
       "stream": "stdout",
       "text": [
        "system.indexes, vehicles\n"
       ]
      }
     ],
     "prompt_number": 6
    },
    {
     "cell_type": "markdown",
     "metadata": {},
     "source": [
      "We're interested in the `vehicles` collection, of course. Let's fetch a single record:"
     ]
    },
    {
     "cell_type": "code",
     "collapsed": false,
     "input": [
      "db.vehicles.find_one()"
     ],
     "language": "python",
     "metadata": {},
     "outputs": [
      {
       "metadata": {},
       "output_type": "pyout",
       "prompt_number": 7,
       "text": [
        "{u'UCity': u'23.3333',\n",
        " u'UCityA': u'0.0',\n",
        " u'UHighway': u'35.0',\n",
        " u'UHighwayA': u'0.0',\n",
        " u'VClass': u'Two Seaters',\n",
        " u'_id': ObjectId('5395426192ba3a373df463b3'),\n",
        " u'atvType': u'',\n",
        " u'barrels08': u'15.689436',\n",
        " u'barrelsA08': u'0.0',\n",
        " u'charge120': u'0.0',\n",
        " u'charge240': u'0.0',\n",
        " u'city08': u'19',\n",
        " u'city08U': u'0.0',\n",
        " u'cityA08': u'0',\n",
        " u'cityA08U': u'0.0',\n",
        " u'cityCD': u'0.0',\n",
        " u'cityE': u'0.0',\n",
        " u'cityUF': u'0.0',\n",
        " u'co2': u'-1',\n",
        " u'co2A': u'-1',\n",
        " u'co2TailpipeAGpm': u'0.0',\n",
        " u'co2TailpipeGpm': u'423.1904761904762',\n",
        " u'comb08': u'21',\n",
        " u'comb08U': u'0.0',\n",
        " u'combA08': u'0',\n",
        " u'combA08U': u'0.0',\n",
        " u'combE': u'0.0',\n",
        " u'combinedCD': u'0.0',\n",
        " u'combinedUF': u'0.0',\n",
        " u'cylinders': u'4',\n",
        " u'displ': u'2.0',\n",
        " u'drive': u'Rear-Wheel Drive',\n",
        " u'engId': u'9011',\n",
        " u'eng_dscr': u'(FFS)',\n",
        " u'evMotor': u'',\n",
        " u'feScore': u'-1',\n",
        " u'fuelCost08': u'2600',\n",
        " u'fuelCostA08': u'0',\n",
        " u'fuelType': u'Regular',\n",
        " u'fuelType1': u'Regular Gasoline',\n",
        " u'fuelType2': u'',\n",
        " u'ghgScore': u'-1',\n",
        " u'ghgScoreA': u'-1',\n",
        " u'guzzler': u'',\n",
        " u'highway08': u'25',\n",
        " u'highway08U': u'0.0',\n",
        " u'highwayA08': u'0',\n",
        " u'highwayA08U': u'0.0',\n",
        " u'highwayCD': u'0.0',\n",
        " u'highwayE': u'0.0',\n",
        " u'highwayUF': u'0.0',\n",
        " u'hlv': u'0',\n",
        " u'hpv': u'0',\n",
        " u'id': u'1',\n",
        " u'lv2': u'0',\n",
        " u'lv4': u'0',\n",
        " u'make': u'Alfa Romeo',\n",
        " u'mfrCode': u'',\n",
        " u'model': u'Spider Veloce 2000',\n",
        " u'mpgData': u'Y',\n",
        " u'phevBlended': u'false',\n",
        " u'pv2': u'0',\n",
        " u'pv4': u'0',\n",
        " u'range': u'0',\n",
        " u'rangeA': u'',\n",
        " u'rangeCity': u'0.0',\n",
        " u'rangeCityA': u'0.0',\n",
        " u'rangeHwy': u'0.0',\n",
        " u'rangeHwyA': u'0.0',\n",
        " u'sCharger': u'',\n",
        " u'tCharger': u'',\n",
        " u'trans_dscr': u'',\n",
        " u'trany': u'Manual 5-spd',\n",
        " u'year': u'1985',\n",
        " u'youSaveSpend': u'-1000'}"
       ]
      }
     ],
     "prompt_number": 7
    },
    {
     "cell_type": "markdown",
     "metadata": {},
     "source": [
      "iPython has kindly pretty-printed that for us, but it's still not so easy on the eyes. Let's help ourselves out a bit."
     ]
    },
    {
     "cell_type": "code",
     "collapsed": false,
     "input": [
      "def pretty_print_flat_object(obj):\n",
      "    max_key_width = max(len(field) for field in obj.iterkeys())\n",
      "    for field in vehicle.iterkeys():\n",
      "        print \"{:>{width}}: {}\".format(field, vehicle[field], width=max_key_width)\n",
      "\n",
      "vehicle = db.vehicles.find_one()\n",
      "pretty_print_flat_object(vehicle)"
     ],
     "language": "python",
     "metadata": {},
     "outputs": [
      {
       "output_type": "stream",
       "stream": "stdout",
       "text": [
        "      UHighwayA: 0.0\n",
        "      charge240: 0.0\n",
        "      fuelType1: Regular Gasoline\n",
        "         cityCD: 0.0\n",
        "     trans_dscr: \n",
        "            hlv: 0\n",
        "        guzzler: \n",
        "        city08U: 0.0\n",
        "co2TailpipeAGpm: 0.0\n",
        "        combA08: 0\n",
        "         cityUF: 0.0\n",
        "     barrelsA08: 0.0\n",
        "           year: 1985\n",
        "          range: 0\n",
        "    phevBlended: false\n",
        "        comb08U: 0.0\n",
        "       fuelType: Regular\n",
        "          combE: 0.0\n",
        "       sCharger: \n",
        "        feScore: -1\n",
        "            lv4: 0\n",
        "         city08: 19\n",
        "     highway08U: 0.0\n",
        "        mpgData: Y\n",
        "      charge120: 0.0\n",
        "            lv2: 0\n",
        "    highwayA08U: 0.0\n",
        "        mfrCode: \n",
        "           make: Alfa Romeo\n",
        "        evMotor: \n",
        "            hpv: 0\n",
        "       ghgScore: -1\n",
        "             id: 1\n",
        "          displ: 2.0\n",
        "      highwayCD: 0.0\n",
        "     fuelCost08: 2600\n",
        "         comb08: 21\n",
        "      ghgScoreA: -1\n",
        "      rangeCity: 0.0\n",
        "       cityA08U: 0.0\n",
        "            pv2: 0\n",
        "            pv4: 0\n",
        "       rangeHwy: 0.0\n",
        "     rangeCityA: 0.0\n",
        "       eng_dscr: (FFS)\n",
        "          engId: 9011\n",
        "        cityA08: 0\n",
        "     combinedCD: 0.0\n",
        "            co2: -1\n",
        "       combA08U: 0.0\n",
        "     highwayA08: 0\n",
        " co2TailpipeGpm: 423.1904761904762\n",
        "    fuelCostA08: 0\n",
        "        atvType: \n",
        "      barrels08: 15.689436\n",
        "           co2A: -1\n",
        "      highway08: 25\n",
        "         VClass: Two Seaters\n",
        "         rangeA: \n",
        "      cylinders: 4\n",
        "       highwayE: 0.0\n",
        "       UHighway: 35.0\n",
        "   youSaveSpend: -1000\n",
        "          drive: Rear-Wheel Drive\n",
        "          cityE: 0.0\n",
        "          trany: Manual 5-spd\n",
        "       tCharger: \n",
        "      rangeHwyA: 0.0\n",
        "      fuelType2: \n",
        "      highwayUF: 0.0\n",
        "         UCityA: 0.0\n",
        "          model: Spider Veloce 2000\n",
        "            _id: 5395426192ba3a373df463b3\n",
        "     combinedUF: 0.0\n",
        "          UCity: 23.3333\n"
       ]
      }
     ],
     "prompt_number": 8
    },
    {
     "cell_type": "markdown",
     "metadata": {},
     "source": [
      "How many documents are in the collection?"
     ]
    },
    {
     "cell_type": "code",
     "collapsed": false,
     "input": [
      "db.vehicles.count()"
     ],
     "language": "python",
     "metadata": {},
     "outputs": [
      {
       "metadata": {},
       "output_type": "pyout",
       "prompt_number": 9,
       "text": [
        "34770"
       ]
      }
     ],
     "prompt_number": 9
    },
    {
     "cell_type": "markdown",
     "metadata": {},
     "source": [
      "## Loading Data ##\n",
      "\n",
      "Starting simple, let's plot a histogram of the vehicle models by year. Of course, before we can plot the histogram we'll need to compute it. We'll load just the model year from each vehicle model and put them into a `Counter`."
     ]
    },
    {
     "cell_type": "code",
     "collapsed": false,
     "input": [
      "cursor = db.vehicles.find({}, ['year'])\n",
      "\n",
      "from collections import Counter\n",
      "counts_by_year = Counter(int(vehicle['year']) for vehicle in cursor)"
     ],
     "language": "python",
     "metadata": {},
     "outputs": [],
     "prompt_number": 10
    },
    {
     "cell_type": "markdown",
     "metadata": {},
     "source": [
      "Let's take a peek at what we've got..."
     ]
    },
    {
     "cell_type": "code",
     "collapsed": false,
     "input": [
      "print \"{} vehicle models for {}\".format(counts_by_year[1990], 1990)\n",
      "print \"{} vehicle models for {}\".format(counts_by_year[2000], 2000)\n",
      "print \"{} vehicle models for {}\".format(counts_by_year[2010], 2010)"
     ],
     "language": "python",
     "metadata": {},
     "outputs": [
      {
       "output_type": "stream",
       "stream": "stdout",
       "text": [
        "1078 vehicle models for 1990\n",
        "840 vehicle models for 2000\n",
        "1109 vehicle models for 2010\n"
       ]
      }
     ],
     "prompt_number": 11
    },
    {
     "cell_type": "markdown",
     "metadata": {},
     "source": [
      "...and make sure our `Counter` accounts for everything:"
     ]
    },
    {
     "cell_type": "code",
     "collapsed": false,
     "input": [
      "print sum(counts_by_year.values())"
     ],
     "language": "python",
     "metadata": {},
     "outputs": [
      {
       "output_type": "stream",
       "stream": "stdout",
       "text": [
        "34770\n"
       ]
      }
     ],
     "prompt_number": 12
    },
    {
     "cell_type": "markdown",
     "metadata": {},
     "source": [
      "\n",
      "Awesome. Now we can plot."
     ]
    },
    {
     "cell_type": "code",
     "collapsed": false,
     "input": [
      "import matplotlib.pyplot as plt\n",
      "%matplotlib inline\n",
      "plt.bar(counts_by_year.keys(), counts_by_year.values())"
     ],
     "language": "python",
     "metadata": {},
     "outputs": [
      {
       "metadata": {},
       "output_type": "pyout",
       "prompt_number": 13,
       "text": [
        "<Container object of 32 artists>"
       ]
      },
      {
       "metadata": {},
       "output_type": "display_data",
       "png": "[encoded data removed]",
       "text": [
        "<matplotlib.figure.Figure at 0x104ae0c90>"
       ]
      }
     ],
     "prompt_number": 13
    },
    {
     "cell_type": "markdown",
     "metadata": {},
     "source": [
      "### Querying for More Than One Document\n",
      "To get more than a single document as the result of a query we use the `find()` method. `find()` returns a `Cursor` instance, which allows us to iterate over all matching documents. For example, we can iterate over every document in the posts collection:"
     ]
    },
    {
     "cell_type": "code",
     "collapsed": false,
     "input": [
      "for vehicle in db.vehicles.find({u'make': u'Alfa Romeo'}):\n",
      "    print vehicle[\"UCity\"] \n",
      "\n",
      "import numpy as np\n",
      "np.mean([float(v[\"UCity\"]) for v in db.vehicles.find({u'make': u'Alfa Romeo'})])"
     ],
     "language": "python",
     "metadata": {},
     "outputs": [
      {
       "output_type": "stream",
       "stream": "stdout",
       "text": [
        "23.3333\n",
        "24.0\n",
        "17.0\n",
        "19.0\n",
        "17.0\n",
        "19.0\n",
        "23.3333\n",
        "21.0\n",
        "23.0\n",
        "21.0\n",
        "23.0\n",
        "21.0\n",
        "23.3333\n",
        "20.0\n",
        "14.035\n",
        "20.0\n",
        "20.0\n",
        "21.0\n",
        "21.0\n",
        "23.3333\n",
        "20.0\n",
        "20.0\n",
        "20.0\n",
        "23.3333\n",
        "20.0\n",
        "20.0\n",
        "20.0\n",
        "25.0\n",
        "24.4444\n",
        "24.0\n",
        "20.0\n",
        "20.0\n",
        "19.0\n",
        "24.4444\n",
        "24.0\n",
        "20.0\n",
        "20.0\n",
        "19.0\n",
        "24.4444\n",
        "24.0\n",
        "20.0\n",
        "20.0\n",
        "19.0\n"
       ]
      },
      {
       "metadata": {},
       "output_type": "pyout",
       "prompt_number": 20,
       "text": [
        "21.047318604651164"
       ]
      }
     ],
     "prompt_number": 20
    },
    {
     "cell_type": "markdown",
     "metadata": {},
     "source": [
      "You can also find a documents that match a field or condition. In this case, let's find the count of all cars that are made by Toyota."
     ]
    },
    {
     "cell_type": "code",
     "collapsed": false,
     "input": [
      "np.count_nonzero([v for v in db.vehicles.find({u'make': u'Toyota'})])\n"
     ],
     "language": "python",
     "metadata": {},
     "outputs": [
      {
       "metadata": {},
       "output_type": "pyout",
       "prompt_number": 18,
       "text": [
        "1775"
       ]
      }
     ],
     "prompt_number": 18
    },
    {
     "cell_type": "markdown",
     "metadata": {},
     "source": [
      "Or all cars that have a 35 MPG on the highway:"
     ]
    },
    {
     "cell_type": "code",
     "collapsed": false,
     "input": [
      "db.vehicles.find({'UHighway': \"35.0\"}).count()\n"
     ],
     "language": "python",
     "metadata": {},
     "outputs": [
      {
       "metadata": {},
       "output_type": "pyout",
       "prompt_number": 50,
       "text": [
        "520"
       ]
      }
     ],
     "prompt_number": 50
    },
    {
     "cell_type": "code",
     "collapsed": false,
     "input": [],
     "language": "python",
     "metadata": {},
     "outputs": []
    }
   ],
   "metadata": {}
  }
 ]
}