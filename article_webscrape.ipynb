{
 "metadata": {
  "name": ""
 },
 "nbformat": 3,
 "nbformat_minor": 0,
 "worksheets": [
  {
   "cells": [
    {
     "cell_type": "markdown",
     "metadata": {},
     "source": [
      "### Data Sources (ranked by ease of use... usually)\n",
      "\n",
      "#### DaaS -- Data as a service \n",
      "* time series: [Quandl](http://www.quandl.com/)\n",
      "* public datasets: [enigma](http://enigma.io/)\n",
      "* location contextualization: [factual](http://www.factual.com/)\n",
      "* financial modeling: [Quantopian](https://www.quantopian.com/)\n",
      "* email contextualization: [Rapleaf](http://www.rapleaf.com/why-rapleaf/)\n",
      "* social media: [Gnip](http://gnip.com/)\n",
      "        \n",
      "#### Bulk Downloads -- just like the good ol' days\n",
      "\n",
      "* FTP servers\n",
      "* Amazon S3 public datasets\n",
      "* InfoChimps\n",
      "* academia\n",
      "\n",
      "#### APIs -- public and hidden\n",
      "* Twitter\n",
      "* Foursquare\n",
      "* Facebook\n",
      "* Tumblr\n",
      "* Rdio\n",
      "* Yelp\n",
      "* Last.fm\n",
      "* bitly\n",
      "* etc.\n",
      "* etc.\n",
      "* etc.\n",
      "\n",
      "#### DIY\n",
      "* Webscraping \n",
      "* manual downloads"
     ]
    },
    {
     "cell_type": "markdown",
     "metadata": {},
     "source": [
      "### Tools to get the Data\n",
      "\n",
      "* [wget](http://www.gnu.org/software/wget/) is your friend. [curl](http://curl.haxx.se/) is your homie. \n",
      "* [Scrapy](http://scrapy.org/)\n",
      "* [Beautiful Soup](http://www.crummy.com/software/BeautifulSoup/) and [Nokogiri](http://nokogiri.org/)\n",
      "* [Requests](http://docs.python-requests.org/) (or any HTTP library)"
     ]
    },
    {
     "cell_type": "code",
     "collapsed": false,
     "input": [
      "from bs4 import BeautifulSoup\n",
      "import requests\n",
      "import json\n",
      "import time\n",
      "import nltk\n",
      "from dateutil import parser\n",
      "\n",
      "from nltk.corpus import stopwords\n",
      "from nltk.tokenize import sent_tokenize, word_tokenize\n",
      "\n",
      "from pymongo import MongoClient\n",
      "from pymongo import errors\n",
      "client = MongoClient()\n",
      "db = client.nyt\n",
      "\n",
      "# get mongoDB collection\n",
      "collection = db.articles"
     ],
     "language": "python",
     "metadata": {},
     "outputs": [],
     "prompt_number": 1
    },
    {
     "cell_type": "markdown",
     "metadata": {},
     "source": [
      "### Goals\n",
      "\n",
      "* Find the __urls__ of every __NYT__ article (ever written!) using their __API__\n",
      "* Fetch the associated __HTML__ and __content__ each article through __webscraping__\n",
      "* __Join__ these datasets (metadata and content) and __store__ the result in a __database__"
     ]
    },
    {
     "cell_type": "markdown",
     "metadata": {},
     "source": [
      "![NYT_api](http://zipfianacademy.com/data/NYT_api.png)\n",
      "\n",
      "#### let us retrieve a list of NYT articles.  All of them..."
     ]
    },
    {
     "cell_type": "code",
     "collapsed": false,
     "input": [
      "api_key='81a22f3f3c6dfe5cd7d36d5a345117cd:3:66835804'\n",
      "\n",
      "url = 'http://api.nytimes.com/svc/search/v2/articlesearch.json?sort=newest&api-key=' + api_key\n",
      "\n",
      "# make an API request\n",
      "api = requests.get(url)"
     ],
     "language": "python",
     "metadata": {},
     "outputs": [],
     "prompt_number": 10
    },
    {
     "cell_type": "code",
     "collapsed": false,
     "input": [
      "# parse resulting JSON and insert into a mongoDB collection\n",
      "for content in api.json()['response']['docs']:\n",
      "    if not collection.find_one(content):\n",
      "        collection.insert(content)\n",
      "    \n",
      "# only returns 10 per page\n",
      "\"There are only %i docuemtns returned 0_o\" % len(api.json()['response']['docs'])"
     ],
     "language": "python",
     "metadata": {},
     "outputs": [
      {
       "output_type": "pyout",
       "prompt_number": 12,
       "text": [
        "'There are only 10 docuemtns returned 0_o'"
       ]
      }
     ],
     "prompt_number": 12
    },
    {
     "cell_type": "code",
     "collapsed": false,
     "input": [
      "# parse resulting JSON and insert into a mongoDB collection\n",
      "for content in api.json()['response']['docs']:\n",
      "    print content['pub_date']"
     ],
     "language": "python",
     "metadata": {},
     "outputs": [
      {
       "output_type": "stream",
       "stream": "stdout",
       "text": [
        "2013-10-22T00:00:00Z\n",
        "2013-10-13T00:00:00Z\n",
        "2013-10-09T00:00:00Z\n",
        "2013-10-09T00:00:00Z\n",
        "2013-10-09T00:00:00Z\n",
        "2013-10-08T00:00:00Z\n",
        "2013-10-07T14:00:00Z\n",
        "2013-10-07T00:00:00Z\n",
        "2013-10-07T00:00:00Z\n",
        "2013-10-07T00:00:00Z\n"
       ]
      }
     ],
     "prompt_number": 13
    },
    {
     "cell_type": "code",
     "collapsed": false,
     "input": [
      "api.json"
     ],
     "language": "python",
     "metadata": {},
     "outputs": [
      {
       "output_type": "pyout",
       "prompt_number": 3,
       "text": [
        "{u'copyright': u'Copyright (c) 2013 The New York Times Company.  All Rights Reserved.',\n",
        " u'response': {u'docs': [{u'_id': u'51c0cfc87e0d9c0839d29423',\n",
        "    u'abstract': None,\n",
        "    u'blog': [],\n",
        "    u'byline': {u'original': u'By KATIE PARLA',\n",
        "     u'person': [{u'firstname': u'Katie',\n",
        "       u'lastname': u'PARLA',\n",
        "       u'organization': u'',\n",
        "       u'rank': 1,\n",
        "       u'role': u'reported'}]},\n",
        "    u'document_type': u'article',\n",
        "    u'headline': {u'kicker': u'Bites',\n",
        "     u'main': u'Restaurant Report: Rustic Canyon in Santa Monica',\n",
        "     u'print_headline': u'Trying SoCal Seasonal'},\n",
        "    u'keywords': [{u'is_major': u'N',\n",
        "      u'name': u'subject',\n",
        "      u'rank': u'3',\n",
        "      u'value': u'Travel and Vacations'},\n",
        "     {u'is_major': u'N',\n",
        "      u'name': u'subject',\n",
        "      u'rank': u'1',\n",
        "      u'value': u'Restaurants'},\n",
        "     {u'is_major': u'N',\n",
        "      u'name': u'glocations',\n",
        "      u'rank': u'2',\n",
        "      u'value': u'Santa Monica (Calif)'}],\n",
        "    u'lead_paragraph': u'This Southern California seasonal spot features a menu driven by local ingredients and, as of January, a chef who starred in Napa.',\n",
        "    u'multimedia': [{u'height': 126,\n",
        "      u'legacy': {u'wide': u'images/2013/06/23/travel/23BITES_SPAN/23BITES_SPAN-thumbWide.jpg',\n",
        "       u'wideheight': u'126',\n",
        "       u'widewidth': u'190'},\n",
        "      u'subtype': u'wide',\n",
        "      u'type': u'image',\n",
        "      u'url': u'images/2013/06/23/travel/23BITES_SPAN/23BITES_SPAN-thumbWide.jpg',\n",
        "      u'width': 190},\n",
        "     {u'height': 400,\n",
        "      u'legacy': {u'xlarge': u'images/2013/06/23/travel/23BITES_SPAN/23BITES_SPAN-articleLarge.jpg',\n",
        "       u'xlargeheight': u'400',\n",
        "       u'xlargewidth': u'600'},\n",
        "      u'subtype': u'xlarge',\n",
        "      u'type': u'image',\n",
        "      u'url': u'images/2013/06/23/travel/23BITES_SPAN/23BITES_SPAN-articleLarge.jpg',\n",
        "      u'width': 600},\n",
        "     {u'height': 75,\n",
        "      u'legacy': {u'thumbnail': u'images/2013/06/23/travel/23BITES_SPAN/23BITES_SPAN-thumbStandard.jpg',\n",
        "       u'thumbnailheight': u'75',\n",
        "       u'thumbnailwidth': u'75'},\n",
        "      u'subtype': u'thumbnail',\n",
        "      u'type': u'image',\n",
        "      u'url': u'images/2013/06/23/travel/23BITES_SPAN/23BITES_SPAN-thumbStandard.jpg',\n",
        "      u'width': 75}],\n",
        "    u'news_desk': u'Travel',\n",
        "    u'print_page': u'8',\n",
        "    u'pub_date': u'2013-06-23T00:00:00Z',\n",
        "    u'section_name': u'Travel',\n",
        "    u'snippet': u'This Southern California seasonal spot features a menu driven by local ingredients and, as of January, a chef who starred in Napa.',\n",
        "    u'source': u'The New York Times',\n",
        "    u'subsection_name': None,\n",
        "    u'type_of_material': u'News',\n",
        "    u'web_url': u'http://travel.nytimes.com/2013/06/23/travel/restaurant-report-rustic-canyon-in-santa-monica.html',\n",
        "    u'word_count': u'424'},\n",
        "   {u'_id': u'51c0c25c7e0d9c0839d293ea',\n",
        "    u'abstract': None,\n",
        "    u'blog': [],\n",
        "    u'byline': {u'original': u'By RATHA TEP',\n",
        "     u'person': [{u'firstname': u'Ratha',\n",
        "       u'lastname': u'TEP',\n",
        "       u'organization': u'',\n",
        "       u'rank': 1,\n",
        "       u'role': u'reported'}]},\n",
        "    u'document_type': u'article',\n",
        "    u'headline': {u'kicker': u'Heads Up',\n",
        "     u'main': u'In Milan, a Surge of Burger Spots',\n",
        "     u'print_headline': u'Burgers With a Certain Accent '},\n",
        "    u'keywords': [{u'is_major': u'N',\n",
        "      u'name': u'glocations',\n",
        "      u'rank': u'3',\n",
        "      u'value': u'Milan (Italy)'},\n",
        "     {u'is_major': u'N',\n",
        "      u'name': u'subject',\n",
        "      u'rank': u'1',\n",
        "      u'value': u'Hamburgers'},\n",
        "     {u'is_major': u'N',\n",
        "      u'name': u'subject',\n",
        "      u'rank': u'2',\n",
        "      u'value': u'Restaurants'}],\n",
        "    u'lead_paragraph': u'Burger bars and restaurants are popping up across the city, including some seasoned with a bit of New York City flavor.',\n",
        "    u'multimedia': [{u'height': 126,\n",
        "      u'legacy': {u'wide': u'images/2013/06/23/travel/23SUBHEADSUP/23SUBHEADSUP-thumbWide-v2.jpg',\n",
        "       u'wideheight': u'126',\n",
        "       u'widewidth': u'190'},\n",
        "      u'subtype': u'wide',\n",
        "      u'type': u'image',\n",
        "      u'url': u'images/2013/06/23/travel/23SUBHEADSUP/23SUBHEADSUP-thumbWide-v2.jpg',\n",
        "      u'width': 190},\n",
        "     {u'height': 470,\n",
        "      u'legacy': {u'xlarge': u'images/2013/06/23/travel/23SUBHEADSUP/23SUBHEADSUP-articleLarge-v2.jpg',\n",
        "       u'xlargeheight': u'470',\n",
        "       u'xlargewidth': u'600'},\n",
        "      u'subtype': u'xlarge',\n",
        "      u'type': u'image',\n",
        "      u'url': u'images/2013/06/23/travel/23SUBHEADSUP/23SUBHEADSUP-articleLarge-v2.jpg',\n",
        "      u'width': 600},\n",
        "     {u'height': 75,\n",
        "      u'legacy': {u'thumbnail': u'images/2013/06/23/travel/23SUBHEADSUP/SUB23HEADSUP-thumbStandard.jpg',\n",
        "       u'thumbnailheight': u'75',\n",
        "       u'thumbnailwidth': u'75'},\n",
        "      u'subtype': u'thumbnail',\n",
        "      u'type': u'image',\n",
        "      u'url': u'images/2013/06/23/travel/23SUBHEADSUP/SUB23HEADSUP-thumbStandard.jpg',\n",
        "      u'width': 75}],\n",
        "    u'news_desk': u'Travel',\n",
        "    u'print_page': u'5',\n",
        "    u'pub_date': u'2013-06-23T00:00:00Z',\n",
        "    u'section_name': u'Travel',\n",
        "    u'snippet': u'Burger bars and restaurants are popping up across the city, including some seasoned with a bit of New York City flavor.',\n",
        "    u'source': u'The New York Times',\n",
        "    u'subsection_name': None,\n",
        "    u'type_of_material': u'News',\n",
        "    u'web_url': u'http://travel.nytimes.com/2013/06/23/travel/in-milan-a-surge-of-burger-spots.html',\n",
        "    u'word_count': u'801'},\n",
        "   {u'_id': u'51c0c20a7e0d9c0839d293e9',\n",
        "    u'abstract': None,\n",
        "    u'blog': [],\n",
        "    u'byline': {u'original': u'By ONDINE COHANE',\n",
        "     u'person': [{u'firstname': u'Ondine',\n",
        "       u'lastname': u'COHANE',\n",
        "       u'organization': u'',\n",
        "       u'rank': 1,\n",
        "       u'role': u'reported'}]},\n",
        "    u'document_type': u'article',\n",
        "    u'headline': {u'kicker': u'Personal Journeys',\n",
        "     u'main': u'Finding Gems on the Tuscan Coast',\n",
        "     u'print_headline': u'Lesser-Known Gems on a Well-Traveled Coast '},\n",
        "    u'keywords': [{u'is_major': u'N',\n",
        "      u'name': u'subject',\n",
        "      u'rank': u'1',\n",
        "      u'value': u'Travel and Vacations'},\n",
        "     {u'is_major': u'N',\n",
        "      u'name': u'subject',\n",
        "      u'rank': u'3',\n",
        "      u'value': u'Beaches'},\n",
        "     {u'is_major': u'N',\n",
        "      u'name': u'glocations',\n",
        "      u'rank': u'2',\n",
        "      u'value': u'Tuscany (Italy)'}],\n",
        "    u'lead_paragraph': u'Away from the region\\u2019s well-known beachfront playgrounds lies a more secluded world.',\n",
        "    u'multimedia': [{u'height': 126,\n",
        "      u'legacy': {u'wide': u'images/2013/06/23/travel/23-personal-span/23-personal-span-thumbWide.jpg',\n",
        "       u'wideheight': u'126',\n",
        "       u'widewidth': u'190'},\n",
        "      u'subtype': u'wide',\n",
        "      u'type': u'image',\n",
        "      u'url': u'images/2013/06/23/travel/23-personal-span/23-personal-span-thumbWide.jpg',\n",
        "      u'width': 190},\n",
        "     {u'height': 900,\n",
        "      u'legacy': {u'xlarge': u'images/2013/06/23/travel/23-personal-fish-new/23-personal-fish-new-articleLarge.jpg',\n",
        "       u'xlargeheight': u'900',\n",
        "       u'xlargewidth': u'600'},\n",
        "      u'subtype': u'xlarge',\n",
        "      u'type': u'image',\n",
        "      u'url': u'images/2013/06/23/travel/23-personal-fish-new/23-personal-fish-new-articleLarge.jpg',\n",
        "      u'width': 600},\n",
        "     {u'height': 75,\n",
        "      u'legacy': {u'thumbnail': u'images/2013/06/23/travel/23-personal-span/23-personal-span-thumbStandard.jpg',\n",
        "       u'thumbnailheight': u'75',\n",
        "       u'thumbnailwidth': u'75'},\n",
        "      u'subtype': u'thumbnail',\n",
        "      u'type': u'image',\n",
        "      u'url': u'images/2013/06/23/travel/23-personal-span/23-personal-span-thumbStandard.jpg',\n",
        "      u'width': 75}],\n",
        "    u'news_desk': u'Travel',\n",
        "    u'print_page': u'4',\n",
        "    u'pub_date': u'2013-06-23T00:00:00Z',\n",
        "    u'section_name': u'Travel',\n",
        "    u'snippet': u'Away from the region\\u2019s well-known beachfront playgrounds lies a more secluded world.',\n",
        "    u'source': u'The New York Times',\n",
        "    u'subsection_name': None,\n",
        "    u'type_of_material': u'News',\n",
        "    u'web_url': u'http://travel.nytimes.com/2013/06/23/travel/finding-gems-on-the-tuscan-coast.html',\n",
        "    u'word_count': u'2233'},\n",
        "   {u'_id': u'51c0b41d7e0d9c0839d293ad',\n",
        "    u'abstract': None,\n",
        "    u'blog': [],\n",
        "    u'byline': {u'original': u'By LISA PREVOST',\n",
        "     u'person': [{u'firstname': u'Lisa',\n",
        "       u'lastname': u'PREVOST',\n",
        "       u'organization': u'',\n",
        "       u'rank': 1,\n",
        "       u'role': u'reported'}]},\n",
        "    u'document_type': u'article',\n",
        "    u'headline': {u'kicker': u'Living in',\n",
        "     u'main': u'New Milford, Conn.: One Town, Many Neighborhoods',\n",
        "     u'print_headline': u' A Country Town and How It Grew '},\n",
        "    u'keywords': [{u'is_major': u'N',\n",
        "      u'name': u'glocations',\n",
        "      u'rank': u'1',\n",
        "      u'value': u'New Milford (Conn)'},\n",
        "     {u'is_major': u'N',\n",
        "      u'name': u'subject',\n",
        "      u'rank': u'2',\n",
        "      u'value': u'Real Estate and Housing (Residential)'}],\n",
        "    u'lead_paragraph': u'A housing market that offers something for everyone \\u2014 from subdivisions to rustic lake homes to storied estates with dazzling vistas.',\n",
        "    u'multimedia': [{u'height': 126,\n",
        "      u'legacy': {u'wide': u'images/2013/06/23/realestate/23LIVING_SPAN/23LIVING_SPAN-thumbWide-v2.jpg',\n",
        "       u'wideheight': u'126',\n",
        "       u'widewidth': u'190'},\n",
        "      u'subtype': u'wide',\n",
        "      u'type': u'image',\n",
        "      u'url': u'images/2013/06/23/realestate/23LIVING_SPAN/23LIVING_SPAN-thumbWide-v2.jpg',\n",
        "      u'width': 190},\n",
        "     {u'height': 374,\n",
        "      u'legacy': {u'xlarge': u'images/2013/06/23/realestate/23LIVING_SPAN/23LIVING_SPAN-articleLarge-v2.jpg',\n",
        "       u'xlargeheight': u'374',\n",
        "       u'xlargewidth': u'600'},\n",
        "      u'subtype': u'xlarge',\n",
        "      u'type': u'image',\n",
        "      u'url': u'images/2013/06/23/realestate/23LIVING_SPAN/23LIVING_SPAN-articleLarge-v2.jpg',\n",
        "      u'width': 600},\n",
        "     {u'height': 75,\n",
        "      u'legacy': {u'thumbnail': u'images/2013/06/23/realestate/23LIVING_SPAN/23LIVING_SPAN-thumbStandard-v2.jpg',\n",
        "       u'thumbnailheight': u'75',\n",
        "       u'thumbnailwidth': u'75'},\n",
        "      u'subtype': u'thumbnail',\n",
        "      u'type': u'image',\n",
        "      u'url': u'images/2013/06/23/realestate/23LIVING_SPAN/23LIVING_SPAN-thumbStandard-v2.jpg',\n",
        "      u'width': 75}],\n",
        "    u'news_desk': u'RealEstate',\n",
        "    u'print_page': u'',\n",
        "    u'pub_date': u'2013-06-23T00:00:00Z',\n",
        "    u'section_name': u'Real Estate',\n",
        "    u'snippet': u'A housing market that offers something for everyone \\u2014 from subdivisions to rustic lake homes to storied estates with dazzling vistas.',\n",
        "    u'source': u'The New York Times',\n",
        "    u'subsection_name': None,\n",
        "    u'type_of_material': u'News',\n",
        "    u'web_url': u'http://www.nytimes.com/2013/06/23/realestate/new-milford-conn-one-town-many-neighborhoods.html',\n",
        "    u'word_count': u'517'},\n",
        "   {u'_id': u'51c0b4157e0d9c0839d293ac',\n",
        "    u'abstract': None,\n",
        "    u'blog': [],\n",
        "    u'byline': [],\n",
        "    u'document_type': u'multimedia',\n",
        "    u'headline': {u'main': u'Living in New Milford, Conn.'},\n",
        "    u'keywords': [{u'is_major': u'N',\n",
        "      u'name': u'glocations',\n",
        "      u'rank': u'1',\n",
        "      u'value': u'New Milford (Conn)'},\n",
        "     {u'is_major': u'N',\n",
        "      u'name': u'subject',\n",
        "      u'rank': u'2',\n",
        "      u'value': u'Real Estate and Housing (Residential)'}],\n",
        "    u'lead_paragraph': u'Residents and weekenders enjoy Candlewood Lake, pastoral expanses and a lively town center.',\n",
        "    u'multimedia': [{u'height': 126,\n",
        "      u'legacy': {u'wide': u'images/2013/06/23/realestate/20130623-LIVING-slide-1UT4/20130623-LIVING-slide-1UT4-thumbWide.jpg',\n",
        "       u'wideheight': u'126',\n",
        "       u'widewidth': u'190'},\n",
        "      u'subtype': u'wide',\n",
        "      u'type': u'image',\n",
        "      u'url': u'images/2013/06/23/realestate/20130623-LIVING-slide-1UT4/20130623-LIVING-slide-1UT4-thumbWide.jpg',\n",
        "      u'width': 190},\n",
        "     {u'height': 400,\n",
        "      u'legacy': {u'xlarge': u'images/2013/06/23/realestate/20130623-LIVING-slide-RFVX/20130623-LIVING-slide-RFVX-articleLarge.jpg',\n",
        "       u'xlargeheight': u'400',\n",
        "       u'xlargewidth': u'600'},\n",
        "      u'subtype': u'xlarge',\n",
        "      u'type': u'image',\n",
        "      u'url': u'images/2013/06/23/realestate/20130623-LIVING-slide-RFVX/20130623-LIVING-slide-RFVX-articleLarge.jpg',\n",
        "      u'width': 600},\n",
        "     {u'height': 75,\n",
        "      u'legacy': {u'thumbnail': u'images/2013/06/23/realestate/20130623-LIVING-slide-AT8J/20130623-LIVING-slide-AT8J-thumbStandard.jpg',\n",
        "       u'thumbnailheight': u'75',\n",
        "       u'thumbnailwidth': u'75'},\n",
        "      u'subtype': u'thumbnail',\n",
        "      u'type': u'image',\n",
        "      u'url': u'images/2013/06/23/realestate/20130623-LIVING-slide-AT8J/20130623-LIVING-slide-AT8J-thumbStandard.jpg',\n",
        "      u'width': 75}],\n",
        "    u'news_desk': u'Real Estate',\n",
        "    u'print_page': None,\n",
        "    u'pub_date': u'2013-06-23T00:00:00Z',\n",
        "    u'section_name': u'Real Estate',\n",
        "    u'snippet': u'Residents and weekenders enjoy Candlewood Lake, pastoral expanses and a lively town center.',\n",
        "    u'source': u'The New York Times',\n",
        "    u'subsection_name': None,\n",
        "    u'type_of_material': u'Slideshow',\n",
        "    u'web_url': u'http://www.nytimes.com/slideshow/2013/06/23/realestate/20130623-LIVING.html',\n",
        "    u'word_count': u'13'},\n",
        "   {u'_id': u'51c021a17e0d9c0839d291ba',\n",
        "    u'abstract': None,\n",
        "    u'blog': [],\n",
        "    u'byline': {u'original': u'By ADAM DAVIDSON',\n",
        "     u'person': [{u'firstname': u'Adam',\n",
        "       u'lastname': u'DAVIDSON',\n",
        "       u'organization': u'',\n",
        "       u'rank': 1,\n",
        "       u'role': u'reported'}]},\n",
        "    u'document_type': u'article',\n",
        "    u'headline': {u'kicker': u'It\\u2019s the Economy',\n",
        "     u'main': u'What Paintbrush Makers Know About How to Beat China',\n",
        "     u'print_headline': u'Brush With Disaster'},\n",
        "    u'keywords': [{u'is_major': u'N',\n",
        "      u'name': u'subject',\n",
        "      u'rank': u'3',\n",
        "      u'value': u'United States Economy'},\n",
        "     {u'is_major': u'N',\n",
        "      u'name': u'subject',\n",
        "      u'rank': u'1',\n",
        "      u'value': u'Factories and Manufacturing'},\n",
        "     {u'is_major': u'N',\n",
        "      u'name': u'subject',\n",
        "      u'rank': u'2',\n",
        "      u'value': u'International Trade and World Market'},\n",
        "     {u'is_major': u'N',\n",
        "      u'name': u'glocations',\n",
        "      u'rank': u'4',\n",
        "      u'value': u'China'}],\n",
        "    u'lead_paragraph': u'Change your business all the time. Or don\\u2019t ever change a thing.',\n",
        "    u'multimedia': [{u'height': 126,\n",
        "      u'legacy': {u'wide': u'images/2013/06/23/magazine/23economy/mag-23Economy-t_CA0-thumbWide.jpg',\n",
        "       u'wideheight': u'126',\n",
        "       u'widewidth': u'190'},\n",
        "      u'subtype': u'wide',\n",
        "      u'type': u'image',\n",
        "      u'url': u'images/2013/06/23/magazine/23economy/mag-23Economy-t_CA0-thumbWide.jpg',\n",
        "      u'width': 190},\n",
        "     {u'height': 491,\n",
        "      u'legacy': {u'xlarge': u'images/2013/06/23/magazine/23economy/mag-23Economy-t_CA0-articleLarge.jpg',\n",
        "       u'xlargeheight': u'491',\n",
        "       u'xlargewidth': u'600'},\n",
        "      u'subtype': u'xlarge',\n",
        "      u'type': u'image',\n",
        "      u'url': u'images/2013/06/23/magazine/23economy/mag-23Economy-t_CA0-articleLarge.jpg',\n",
        "      u'width': 600},\n",
        "     {u'height': 75,\n",
        "      u'legacy': {u'thumbnail': u'images/2013/06/23/magazine/23economy/mag-23Economy-t_CA0-thumbStandard.jpg',\n",
        "       u'thumbnailheight': u'75',\n",
        "       u'thumbnailwidth': u'75'},\n",
        "      u'subtype': u'thumbnail',\n",
        "      u'type': u'image',\n",
        "      u'url': u'images/2013/06/23/magazine/23economy/mag-23Economy-t_CA0-thumbStandard.jpg',\n",
        "      u'width': 75}],\n",
        "    u'news_desk': u'Magazine',\n",
        "    u'print_page': u'14',\n",
        "    u'pub_date': u'2013-06-23T00:00:00Z',\n",
        "    u'section_name': u'Magazine',\n",
        "    u'snippet': u'Change your business all the time. Or don\\u2019t ever change a thing.',\n",
        "    u'source': u'The New York Times',\n",
        "    u'subsection_name': None,\n",
        "    u'type_of_material': u'News',\n",
        "    u'web_url': u'http://www.nytimes.com/2013/06/23/magazine/what-paintbrush-makers-know-about-how-to-beat-china.html',\n",
        "    u'word_count': u'1264'},\n",
        "   {u'_id': u'51bb35b57e0d9c0839d287c7',\n",
        "    u'abstract': None,\n",
        "    u'blog': [],\n",
        "    u'byline': {u'original': u'By GREGORY COWLES',\n",
        "     u'person': [{u'firstname': u'Gregory',\n",
        "       u'lastname': u'COWLES',\n",
        "       u'organization': u'',\n",
        "       u'rank': 1,\n",
        "       u'role': u'reported'}]},\n",
        "    u'document_type': u'article',\n",
        "    u'headline': {u'main': u'Inside the List'},\n",
        "    u'keywords': [{u'is_major': u'N',\n",
        "      u'name': u'subject',\n",
        "      u'rank': u'1',\n",
        "      u'value': u'Books and Literature'}],\n",
        "    u'lead_paragraph': u'Colum McCann says that in writing about Frederick Douglass for his novel \\u201cTransAtlantic\\u201d (at No. 13 on the hardcover fiction list), he saw surprising parallels to President Obama.',\n",
        "    u'multimedia': [{u'height': 126,\n",
        "      u'legacy': {u'wide': u'images/2013/06/16/books/review/16mccann/16mccann-thumbWide.jpg',\n",
        "       u'wideheight': u'126',\n",
        "       u'widewidth': u'190'},\n",
        "      u'subtype': u'wide',\n",
        "      u'type': u'image',\n",
        "      u'url': u'images/2013/06/16/books/review/16mccann/16mccann-thumbWide.jpg',\n",
        "      u'width': 190},\n",
        "     {u'height': 75,\n",
        "      u'legacy': {u'thumbnail': u'images/2013/06/16/books/review/16mccann/16mccann-thumbStandard.jpg',\n",
        "       u'thumbnailheight': u'75',\n",
        "       u'thumbnailwidth': u'75'},\n",
        "      u'subtype': u'thumbnail',\n",
        "      u'type': u'image',\n",
        "      u'url': u'images/2013/06/16/books/review/16mccann/16mccann-thumbStandard.jpg',\n",
        "      u'width': 75}],\n",
        "    u'news_desk': u'BookReview',\n",
        "    u'print_page': u'26',\n",
        "    u'pub_date': u'2013-06-23T00:00:00Z',\n",
        "    u'section_name': u'Books',\n",
        "    u'snippet': u'Colum McCann says that in writing about Frederick Douglass for his novel \\u201cTransAtlantic\\u201d (at No. 13 on the hardcover fiction list), he saw surprising parallels to President Obama.',\n",
        "    u'source': u'The New York Times',\n",
        "    u'subsection_name': u'Sunday Book Review',\n",
        "    u'type_of_material': u'News',\n",
        "    u'web_url': u'http://www.nytimes.com/2013/06/23/books/review/inside-the-list.html',\n",
        "    u'word_count': u'592'},\n",
        "   {u'_id': u'51bf79277e0d9c0839d29054',\n",
        "    u'abstract': None,\n",
        "    u'blog': [],\n",
        "    u'byline': {u'original': u'By MARTHA ROSE SHULMAN',\n",
        "     u'person': [{u'firstname': u'Martha',\n",
        "       u'lastname': u'SHULMAN',\n",
        "       u'middlename': u'Rose',\n",
        "       u'organization': u'',\n",
        "       u'rank': 1,\n",
        "       u'role': u'reported'}]},\n",
        "    u'document_type': u'article',\n",
        "    u'headline': {u'kicker': u'Recipes for Health',\n",
        "     u'main': u'Fava Bean and Asparagus Salad'},\n",
        "    u'keywords': [{u'is_major': u'N',\n",
        "      u'name': u'subject',\n",
        "      u'rank': u'3',\n",
        "      u'value': u'Diet and Nutrition'},\n",
        "     {u'is_major': u'N',\n",
        "      u'name': u'subject',\n",
        "      u'rank': u'1',\n",
        "      u'value': u'Medicine and Health'},\n",
        "     {u'is_major': u'N',\n",
        "      u'name': u'subject',\n",
        "      u'rank': u'2',\n",
        "      u'value': u'Recipes'},\n",
        "     {u'is_major': u'N',\n",
        "      u'name': u'subject',\n",
        "      u'rank': u'4',\n",
        "      u'value': u'Beans'}],\n",
        "    u'lead_paragraph': u'Thick asparagus spears are best for this flavorful, intensely green salad.',\n",
        "    u'multimedia': [{u'height': 126,\n",
        "      u'legacy': {u'wide': u'images/2013/06/18/science/21recipehealth/21recipehealth-thumbWide.jpg',\n",
        "       u'wideheight': u'126',\n",
        "       u'widewidth': u'190'},\n",
        "      u'subtype': u'wide',\n",
        "      u'type': u'image',\n",
        "      u'url': u'images/2013/06/18/science/21recipehealth/21recipehealth-thumbWide.jpg',\n",
        "      u'width': 190},\n",
        "     {u'height': 400,\n",
        "      u'legacy': {u'xlarge': u'images/2013/06/18/science/21recipehealth/21recipehealth-articleLarge.jpg',\n",
        "       u'xlargeheight': u'400',\n",
        "       u'xlargewidth': u'600'},\n",
        "      u'subtype': u'xlarge',\n",
        "      u'type': u'image',\n",
        "      u'url': u'images/2013/06/18/science/21recipehealth/21recipehealth-articleLarge.jpg',\n",
        "      u'width': 600},\n",
        "     {u'height': 75,\n",
        "      u'legacy': {u'thumbnail': u'images/2013/06/18/science/21recipehealth/21recipehealth-thumbStandard.jpg',\n",
        "       u'thumbnailheight': u'75',\n",
        "       u'thumbnailwidth': u'75'},\n",
        "      u'subtype': u'thumbnail',\n",
        "      u'type': u'image',\n",
        "      u'url': u'images/2013/06/18/science/21recipehealth/21recipehealth-thumbStandard.jpg',\n",
        "      u'width': 75}],\n",
        "    u'news_desk': u'Science',\n",
        "    u'print_page': None,\n",
        "    u'pub_date': u'2013-06-21T00:00:00Z',\n",
        "    u'section_name': u'Health',\n",
        "    u'snippet': u'Thick asparagus spears are best for this flavorful, intensely green salad.',\n",
        "    u'source': u'The New York Times',\n",
        "    u'subsection_name': None,\n",
        "    u'type_of_material': u'Recipe',\n",
        "    u'web_url': u'http://www.nytimes.com/2013/06/21/health/fava-bean-and-asparagus-salad.html',\n",
        "    u'word_count': u'394'},\n",
        "   {u'_id': u'51bf75527e0d9c0839d2904a',\n",
        "    u'abstract': None,\n",
        "    u'blog': [],\n",
        "    u'byline': {u'original': u'By MARTHA ROSE SHULMAN',\n",
        "     u'person': [{u'firstname': u'Martha',\n",
        "       u'lastname': u'SHULMAN',\n",
        "       u'middlename': u'Rose',\n",
        "       u'organization': u'',\n",
        "       u'rank': 1,\n",
        "       u'role': u'reported'}]},\n",
        "    u'document_type': u'article',\n",
        "    u'headline': {u'kicker': u'Recipes for Health',\n",
        "     u'main': u'Red Bean and Green Bean Salad'},\n",
        "    u'keywords': [{u'is_major': u'N',\n",
        "      u'name': u'subject',\n",
        "      u'rank': u'3',\n",
        "      u'value': u'Diet and Nutrition'},\n",
        "     {u'is_major': u'N',\n",
        "      u'name': u'subject',\n",
        "      u'rank': u'1',\n",
        "      u'value': u'Medicine and Health'},\n",
        "     {u'is_major': u'N',\n",
        "      u'name': u'subject',\n",
        "      u'rank': u'2',\n",
        "      u'value': u'Recipes'},\n",
        "     {u'is_major': u'N',\n",
        "      u'name': u'subject',\n",
        "      u'rank': u'4',\n",
        "      u'value': u'Beans'}],\n",
        "    u'lead_paragraph': u'Whether you use dried or canned red beans, copious herbs and bright green beans add a fresh note.',\n",
        "    u'multimedia': [{u'height': 126,\n",
        "      u'legacy': {u'wide': u'images/2013/06/18/science/20recipehealth/20recipehealth-thumbWide.jpg',\n",
        "       u'wideheight': u'126',\n",
        "       u'widewidth': u'190'},\n",
        "      u'subtype': u'wide',\n",
        "      u'type': u'image',\n",
        "      u'url': u'images/2013/06/18/science/20recipehealth/20recipehealth-thumbWide.jpg',\n",
        "      u'width': 190},\n",
        "     {u'height': 399,\n",
        "      u'legacy': {u'xlarge': u'images/2013/06/18/science/20recipehealth/20recipehealth-articleLarge.jpg',\n",
        "       u'xlargeheight': u'399',\n",
        "       u'xlargewidth': u'600'},\n",
        "      u'subtype': u'xlarge',\n",
        "      u'type': u'image',\n",
        "      u'url': u'images/2013/06/18/science/20recipehealth/20recipehealth-articleLarge.jpg',\n",
        "      u'width': 600},\n",
        "     {u'height': 75,\n",
        "      u'legacy': {u'thumbnail': u'images/2013/06/18/science/20recipehealth/20recipehealth-thumbStandard.jpg',\n",
        "       u'thumbnailheight': u'75',\n",
        "       u'thumbnailwidth': u'75'},\n",
        "      u'subtype': u'thumbnail',\n",
        "      u'type': u'image',\n",
        "      u'url': u'images/2013/06/18/science/20recipehealth/20recipehealth-thumbStandard.jpg',\n",
        "      u'width': 75}],\n",
        "    u'news_desk': u'Science',\n",
        "    u'print_page': None,\n",
        "    u'pub_date': u'2013-06-20T00:00:00Z',\n",
        "    u'section_name': u'Health',\n",
        "    u'snippet': u'Whether you use dried or canned red beans, copious herbs and bright green beans add a fresh note.',\n",
        "    u'source': u'The New York Times',\n",
        "    u'subsection_name': None,\n",
        "    u'type_of_material': u'Recipe',\n",
        "    u'web_url': u'http://www.nytimes.com/2013/06/20/health/red-bean-and-green-bean-salad.html',\n",
        "    u'word_count': u'486'},\n",
        "   {u'_id': u'51bf72407e0d9c0839d29040',\n",
        "    u'abstract': None,\n",
        "    u'blog': [],\n",
        "    u'byline': {u'original': u'By ALEXANDRA JACOBS',\n",
        "     u'person': [{u'firstname': u'Alexandra',\n",
        "       u'lastname': u'JACOBS',\n",
        "       u'organization': u'',\n",
        "       u'rank': 1,\n",
        "       u'role': u'reported'}]},\n",
        "    u'document_type': u'article',\n",
        "    u'headline': {u'kicker': u'Critical Shopper',\n",
        "     u'main': u'Prom Memories at Halston Heritage',\n",
        "     u'print_headline': u'Yesterday&#8217;s Child'},\n",
        "    u'keywords': [{u'is_major': u'N',\n",
        "      u'name': u'subject',\n",
        "      u'rank': u'1',\n",
        "      u'value': u'Fashion and Apparel'},\n",
        "     {u'is_major': u'N',\n",
        "      u'name': u'subject',\n",
        "      u'rank': u'2',\n",
        "      u'value': u'Shopping and Retail'}],\n",
        "    u'lead_paragraph': u'At its new Madison Avenue shop, Halston Heritage features dresses with daring silhouettes and jewel tones.',\n",
        "    u'multimedia': [{u'height': 126,\n",
        "      u'legacy': {u'wide': u'images/2013/06/20/fashion/20SUBCRITICAL2_SPAN/20zSUBCRITICAL2-thumbWide.jpg',\n",
        "       u'wideheight': u'126',\n",
        "       u'widewidth': u'190'},\n",
        "      u'subtype': u'wide',\n",
        "      u'type': u'image',\n",
        "      u'url': u'images/2013/06/20/fashion/20SUBCRITICAL2_SPAN/20zSUBCRITICAL2-thumbWide.jpg',\n",
        "      u'width': 190},\n",
        "     {u'height': 1120,\n",
        "      u'legacy': {u'xlarge': u'images/2013/06/20/fashion/20CRITICAL3/20zCRITICAL3-articleLarge.jpg',\n",
        "       u'xlargeheight': u'1120',\n",
        "       u'xlargewidth': u'600'},\n",
        "      u'subtype': u'xlarge',\n",
        "      u'type': u'image',\n",
        "      u'url': u'images/2013/06/20/fashion/20CRITICAL3/20zCRITICAL3-articleLarge.jpg',\n",
        "      u'width': 600},\n",
        "     {u'height': 75,\n",
        "      u'legacy': {u'thumbnail': u'images/2013/06/20/fashion/20SUBCRITICAL2_SPAN/20zSUBCRITICAL2-thumbStandard.jpg',\n",
        "       u'thumbnailheight': u'75',\n",
        "       u'thumbnailwidth': u'75'},\n",
        "      u'subtype': u'thumbnail',\n",
        "      u'type': u'image',\n",
        "      u'url': u'images/2013/06/20/fashion/20SUBCRITICAL2_SPAN/20zSUBCRITICAL2-thumbStandard.jpg',\n",
        "      u'width': 75}],\n",
        "    u'news_desk': u'Styles',\n",
        "    u'print_page': u'',\n",
        "    u'pub_date': u'2013-06-20T00:00:00Z',\n",
        "    u'section_name': u'Fashion & Style',\n",
        "    u'snippet': u'At its new Madison Avenue shop, Halston Heritage features dresses with daring silhouettes and jewel tones.',\n",
        "    u'source': u'The New York Times',\n",
        "    u'subsection_name': None,\n",
        "    u'type_of_material': u'News',\n",
        "    u'web_url': u'http://www.nytimes.com/2013/06/20/fashion/yesterdays-child.html',\n",
        "    u'word_count': u'766'}],\n",
        "  u'meta': {u'hits': 15034397, u'offset': 0, u'time': 131}},\n",
        " u'status': u'OK'}"
       ]
      }
     ],
     "prompt_number": 3
    },
    {
     "cell_type": "markdown",
     "metadata": {},
     "source": [
      "### Tools to store the Data\n",
      "\n",
      "* Relational Database: Postgres and MySQL \n",
      "* NoSQL: Document (MongoDB, CouchDB), Key-Value (Redis), Distributed (HDFS, Riak, Cassandra)\n",
      "* Text Files (never hurt anyone)"
     ]
    },
    {
     "cell_type": "code",
     "collapsed": false,
     "input": [
      "# there are many more than 10 articles however\n",
      "total_articles = articles_left = api.json()['response']['meta']['hits']\n",
      "\n",
      "print \"There are currently %s articles in the NYT archive\" % total_articles"
     ],
     "language": "python",
     "metadata": {},
     "outputs": [
      {
       "output_type": "stream",
       "stream": "stdout",
       "text": [
        "There are currently 15210506 articles in the NYT archive\n"
       ]
      }
     ],
     "prompt_number": 14
    },
    {
     "cell_type": "code",
     "collapsed": false,
     "input": [
      "\n",
      "max_pages = 10,000\n",
      "page = 0\n",
      "page_count = 0\n",
      "cursor_count = 0\n",
      "articles_left = total_articles\n",
      "last_date = \"20131003\"\n",
      "latest_article = \"\"\n",
      "\n",
      "# let us loop (and hopefully not hit our rate limit)\n",
      "while articles_left > 0 and page_count < max_pages:\n",
      "    more_articles = requests.get(url + \"&page=\" + str(page) + \"&end_date=\" + str(last_date))\n",
      "    print \"Inserting page \" + str(page)\n",
      "    # make sure it was successful\n",
      "    if more_articles.status_code == 200:\n",
      "        for content in more_articles.json()['response']['docs']:\n",
      "            latest_article = parser.parse(content['pub_date']).strftime(\"%Y%m%d\")\n",
      "            if not collection.find_one(content):\n",
      "                print \"No dups\"\n",
      "                try:\n",
      "                    print \"Inserting article \" + str(content['headline'])\n",
      "                    collection.insert(content)\n",
      "                except errors.DuplicateKeyError:\n",
      "                    print \"Duplicates\"\n",
      "                    continue\n",
      "            else:\n",
      "                print \"In collection already\"\n",
      "                    \n",
      "        articles_left -= 10\n",
      "        page += 1\n",
      "        page_count += 1\n",
      "        cursor_count += 1\n",
      "        final_page = max(final_page, page)\n",
      "    else:\n",
      "        if more_articles.status_code == 403:\n",
      "            print \"Sleepy...\"\n",
      "            # account for rate limiting\n",
      "            time.sleep(2)\n",
      "        elif cursor_count > 100:\n",
      "            print \"Adjusting date\"\n",
      "            cursor_count = 0\n",
      "            page = 0\n",
      "            last_date = latest_article\n",
      "        else:\n",
      "            print \"ERRORS: \" + str(more_articles.status_code)\n",
      "            cursor_count = 0\n",
      "            page = 0\n",
      "            last_date = latest_article"
     ],
     "language": "python",
     "metadata": {},
     "outputs": [],
     "prompt_number": 5
    },
    {
     "cell_type": "code",
     "collapsed": false,
     "input": [
      "more_articles = requests.get(url + \"&page=\" + str(100))\n",
      "more_articles.json['response']['docs'][0]"
     ],
     "language": "python",
     "metadata": {},
     "outputs": [
      {
       "output_type": "pyout",
       "prompt_number": 6,
       "text": [
        "{u'_id': u'51bfe3d07e0d9c0839d2915f',\n",
        " u'abstract': None,\n",
        " u'blog': [],\n",
        " u'byline': {u'organization': u'THE ASSOCIATED PRESS',\n",
        "  u'original': u'By THE ASSOCIATED PRESS',\n",
        "  u'person': []},\n",
        " u'document_type': u'article',\n",
        " u'headline': {u'main': u\"Stanton's 2 HRs Lead Marlins Past Diamondbacks 3-2\",\n",
        "  u'print_headline': u\"Stanton's 2 HRs Lead Marlins Past Diamondbacks 3-2\"},\n",
        " u'keywords': [],\n",
        " u'lead_paragraph': u'Giancarlo Stanton drove in all three Miami runs with a pair of homers and the Marlins handed the Arizona Diamondbacks their fourth straight loss, 3-2 on Monday night.',\n",
        " u'multimedia': [],\n",
        " u'news_desk': u'None',\n",
        " u'print_page': None,\n",
        " u'pub_date': u'2013-06-18T00:34:34Z',\n",
        " u'section_name': u'Sports',\n",
        " u'snippet': u'Giancarlo Stanton drove in all three Miami runs with a pair of homers and the Marlins handed the Arizona Diamondbacks their fourth straight loss, 3-2 on Monday night.',\n",
        " u'source': u'AP',\n",
        " u'subsection_name': u'Baseball',\n",
        " u'type_of_material': u'News',\n",
        " u'web_url': u'http://www.nytimes.com/aponline/2013/06/18/sports/baseball/ap-bbn-marlins-diamondbacks.html',\n",
        " u'word_count': u'500'}"
       ]
      }
     ],
     "prompt_number": 6
    },
    {
     "cell_type": "markdown",
     "metadata": {},
     "source": [
      "### Where are we \n",
      "\n",
      "* We have successful gathered article metadata from the NYT API\n",
      "* We have stored said data in MongoDB\n",
      "* We have URLs for each article that we can now use for scraping"
     ]
    },
    {
     "cell_type": "code",
     "collapsed": false,
     "input": [
      "# now we can get some content!\n",
      "#limit = 100\n",
      "\n",
      "for article in collection.find({'html' : {'$exists' : False} }):\n",
      "    if limit and limit > 0:\n",
      "        if not article.has_key('html') and article['document_type'] == 'article':\n",
      "            #limit -= 1\n",
      "            print article['web_url']\n",
      "            html = requests.get(article['web_url'] + \"?smid=tw-nytimes\")\n",
      "            \n",
      "            if html.status_code == 200:\n",
      "                soup = BeautifulSoup(html.text)\n",
      "                \n",
      "                # serialize html\n",
      "                collection.update({ '_id' : article['_id'] }, { '$set' : { 'html' : unicode(soup), 'content' : [] } } )\n",
      "            \n",
      "                for p in soup.find_all('div', class_='articleBody'):\n",
      "                    collection.update({ '_id' : article['_id'] }, { '$push' : { 'content' : p.get_text() } })"
     ],
     "language": "python",
     "metadata": {},
     "outputs": [
      {
       "output_type": "stream",
       "stream": "stdout",
       "text": [
        "http://query.nytimes.com/gst/fullpage.html?res=9501EED7123AF93BA1575AC0A9659D8B63\n",
        "http://query.nytimes.com/gst/fullpage.html?res=9406EED7123AF93BA1575AC0A9659D8B63"
       ]
      },
      {
       "output_type": "stream",
       "stream": "stdout",
       "text": [
        "\n",
        "http://query.nytimes.com/gst/fullpage.html?res=9B07EED7123AF93BA1575AC0A9659D8B63"
       ]
      },
      {
       "output_type": "stream",
       "stream": "stdout",
       "text": [
        "\n",
        "http://query.nytimes.com/gst/fullpage.html?res=9A04EED7123AF93BA1575AC0A9659D8B63"
       ]
      },
      {
       "output_type": "stream",
       "stream": "stdout",
       "text": [
        "\n",
        "http://query.nytimes.com/gst/fullpage.html?res=9905EED7123AF93BA1575AC0A9659D8B63"
       ]
      },
      {
       "output_type": "stream",
       "stream": "stdout",
       "text": [
        "\n",
        "http://query.nytimes.com/gst/fullpage.html?res=9F0CEFD7123AF93BA1575AC0A9659D8B63"
       ]
      },
      {
       "output_type": "stream",
       "stream": "stdout",
       "text": [
        "\n",
        "http://query.nytimes.com/gst/fullpage.html?res=9E0DEFD7123AF93BA1575AC0A9659D8B63"
       ]
      },
      {
       "output_type": "stream",
       "stream": "stdout",
       "text": [
        "\n",
        "http://query.nytimes.com/gst/fullpage.html?res=9D02EFD7123AF93BA1575AC0A9659D8B63"
       ]
      },
      {
       "output_type": "stream",
       "stream": "stdout",
       "text": [
        "\n",
        "http://query.nytimes.com/gst/fullpage.html?res=9C03EFD7123AF93BA1575AC0A9659D8B63"
       ]
      },
      {
       "output_type": "stream",
       "stream": "stdout",
       "text": [
        "\n",
        "http://query.nytimes.com/gst/fullpage.html?res=9500EFD7123AF93BA1575AC0A9659D8B63\n",
        "http://query.nytimes.com/gst/fullpage.html?res=9401EFD7123AF93BA1575AC0A9659D8B63"
       ]
      },
      {
       "output_type": "stream",
       "stream": "stdout",
       "text": [
        "\n",
        "http://query.nytimes.com/gst/fullpage.html?res=9B06EFD7123AF93BA1575AC0A9659D8B63"
       ]
      },
      {
       "output_type": "stream",
       "stream": "stdout",
       "text": [
        "\n",
        "http://query.nytimes.com/gst/fullpage.html?res=9A07EFD7123AF93BA1575AC0A9659D8B63\n",
        "http://query.nytimes.com/gst/fullpage.html?res=9904EFD7123AF93BA1575AC0A9659D8B63"
       ]
      },
      {
       "output_type": "stream",
       "stream": "stdout",
       "text": [
        "\n",
        "http://query.nytimes.com/gst/fullpage.html?res=9805EFD7123AF93BA1575AC0A9659D8B63\n",
        "http://query.nytimes.com/gst/fullpage.html?res=9E0CE0D7123AF93BA1575AC0A9659D8B63"
       ]
      },
      {
       "output_type": "stream",
       "stream": "stdout",
       "text": [
        "\n",
        "http://query.nytimes.com/gst/fullpage.html?res=9D0DE0D7123AF93BA1575AC0A9659D8B63"
       ]
      },
      {
       "output_type": "stream",
       "stream": "stdout",
       "text": [
        "\n",
        "http://query.nytimes.com/gst/fullpage.html?res=9C02E0D7123AF93BA1575AC0A9659D8B63"
       ]
      },
      {
       "output_type": "stream",
       "stream": "stdout",
       "text": [
        "\n",
        "http://query.nytimes.com/gst/fullpage.html?res=9A03E3D7123AF934A1575AC0A9659D8B63"
       ]
      },
      {
       "output_type": "stream",
       "stream": "stdout",
       "text": [
        "\n",
        "http://query.nytimes.com/gst/fullpage.html?res=9900E3D7123AF934A1575AC0A9659D8B63\n",
        "http://query.nytimes.com/gst/fullpage.html?res=9801E3D7123AF934A1575AC0A9659D8B63"
       ]
      },
      {
       "output_type": "stream",
       "stream": "stdout",
       "text": [
        "\n",
        "http://query.nytimes.com/gst/fullpage.html?res=9F06E3D7123AF934A1575AC0A9659D8B63"
       ]
      },
      {
       "output_type": "stream",
       "stream": "stdout",
       "text": [
        "\n",
        "http://query.nytimes.com/gst/fullpage.html?res=9E07E3D7123AF934A1575AC0A9659D8B63"
       ]
      },
      {
       "output_type": "stream",
       "stream": "stdout",
       "text": [
        "\n",
        "http://query.nytimes.com/gst/fullpage.html?res=9D04E3D7123AF934A1575AC0A9659D8B63"
       ]
      },
      {
       "output_type": "stream",
       "stream": "stdout",
       "text": [
        "\n",
        "http://query.nytimes.com/gst/fullpage.html?res=9C05E3D7123AF934A1575AC0A9659D8B63"
       ]
      },
      {
       "output_type": "stream",
       "stream": "stdout",
       "text": [
        "\n",
        "http://query.nytimes.com/gst/fullpage.html?res=950DE2D7123AF934A1575AC0A9659D8B63"
       ]
      },
      {
       "output_type": "stream",
       "stream": "stdout",
       "text": [
        "\n",
        "http://query.nytimes.com/gst/fullpage.html?res=9402E2D7123AF934A1575AC0A9659D8B63"
       ]
      },
      {
       "output_type": "stream",
       "stream": "stdout",
       "text": [
        "\n",
        "http://query.nytimes.com/gst/fullpage.html?res=9B03E2D7123AF934A1575AC0A9659D8B63\n",
        "http://query.nytimes.com/gst/fullpage.html?res=9A00E2D7123AF934A1575AC0A9659D8B63"
       ]
      },
      {
       "output_type": "stream",
       "stream": "stdout",
       "text": [
        "\n",
        "http://query.nytimes.com/gst/fullpage.html?res=9901E2D7123AF934A1575AC0A9659D8B63\n",
        "http://query.nytimes.com/gst/fullpage.html?res=9806E2D7123AF934A1575AC0A9659D8B63"
       ]
      },
      {
       "output_type": "stream",
       "stream": "stdout",
       "text": [
        "\n",
        "http://query.nytimes.com/gst/fullpage.html?res=9F07E2D7123AF934A1575AC0A9659D8B63\n",
        "http://query.nytimes.com/gst/fullpage.html?res=9E04E2D7123AF934A1575AC0A9659D8B63"
       ]
      },
      {
       "output_type": "stream",
       "stream": "stdout",
       "text": [
        "\n",
        "http://query.nytimes.com/gst/fullpage.html?res=9D05E2D7123AF934A1575AC0A9659D8B63\n",
        "http://query.nytimes.com/gst/fullpage.html?res=950CE3D7123AF934A1575AC0A9659D8B63"
       ]
      },
      {
       "output_type": "stream",
       "stream": "stdout",
       "text": [
        "\n",
        "http://query.nytimes.com/gst/fullpage.html?res=940DE3D7123AF934A1575AC0A9659D8B63"
       ]
      },
      {
       "output_type": "stream",
       "stream": "stdout",
       "text": [
        "\n",
        "http://query.nytimes.com/gst/fullpage.html?res=9B02E3D7123AF934A1575AC0A9659D8B63\n",
        "http://query.nytimes.com/gst/fullpage.html?res=9405E5D7123AF935A1575AC0A9659D8B63"
       ]
      },
      {
       "output_type": "stream",
       "stream": "stdout",
       "text": [
        "\n",
        "http://query.nytimes.com/gst/fullpage.html?res=9A0CE6D7123AF935A1575AC0A9659D8B63"
       ]
      },
      {
       "output_type": "stream",
       "stream": "stdout",
       "text": [
        "\n",
        "http://query.nytimes.com/gst/fullpage.html?res=990DE6D7123AF935A1575AC0A9659D8B63"
       ]
      },
      {
       "output_type": "stream",
       "stream": "stdout",
       "text": [
        "\n",
        "http://query.nytimes.com/gst/fullpage.html?res=9802E6D7123AF935A1575AC0A9659D8B63"
       ]
      },
      {
       "output_type": "stream",
       "stream": "stdout",
       "text": [
        "\n",
        "http://query.nytimes.com/gst/fullpage.html?res=9F03E6D7123AF935A1575AC0A9659D8B63"
       ]
      },
      {
       "output_type": "stream",
       "stream": "stdout",
       "text": [
        "\n",
        "http://query.nytimes.com/gst/fullpage.html?res=9E00E6D7123AF935A1575AC0A9659D8B63\n",
        "http://query.nytimes.com/gst/fullpage.html?res=9D01E6D7123AF935A1575AC0A9659D8B63"
       ]
      },
      {
       "output_type": "stream",
       "stream": "stdout",
       "text": [
        "\n",
        "http://query.nytimes.com/gst/fullpage.html?res=9C06E6D7123AF935A1575AC0A9659D8B63\n",
        "http://query.nytimes.com/gst/fullpage.html?res=9507E6D7123AF935A1575AC0A9659D8B63"
       ]
      },
      {
       "output_type": "stream",
       "stream": "stdout",
       "text": [
        "\n",
        "http://query.nytimes.com/gst/fullpage.html?res=9B05E6D7123AF935A1575AC0A9659D8B63\n",
        "http://query.nytimes.com/gst/fullpage.html?res=9404E6D7123AF935A1575AC0A9659D8B63"
       ]
      },
      {
       "output_type": "stream",
       "stream": "stdout",
       "text": [
        "\n",
        "http://query.nytimes.com/gst/fullpage.html?res=990CE7D7123AF935A1575AC0A9659D8B63"
       ]
      },
      {
       "output_type": "stream",
       "stream": "stdout",
       "text": [
        "\n",
        "http://query.nytimes.com/gst/fullpage.html?res=980DE7D7123AF935A1575AC0A9659D8B63\n",
        "http://query.nytimes.com/gst/fullpage.html?res=9E03E7D7123AF935A1575AC0A9659D8B63"
       ]
      },
      {
       "output_type": "stream",
       "stream": "stdout",
       "text": [
        "\n",
        "http://query.nytimes.com/gst/fullpage.html?res=9F02E7D7123AF935A1575AC0A9659D8B63\n",
        "http://query.nytimes.com/gst/fullpage.html?res=9D00E7D7123AF935A1575AC0A9659D8B63"
       ]
      },
      {
       "output_type": "stream",
       "stream": "stdout",
       "text": [
        "\n",
        "http://query.nytimes.com/gst/fullpage.html?res=9D0DEFD8123AF936A1575AC0A9659D8B63"
       ]
      },
      {
       "output_type": "stream",
       "stream": "stdout",
       "text": [
        "\n",
        "http://query.nytimes.com/gst/fullpage.html?res=9C02EFD8123AF936A1575AC0A9659D8B63"
       ]
      },
      {
       "output_type": "stream",
       "stream": "stdout",
       "text": [
        "\n",
        "http://query.nytimes.com/gst/fullpage.html?res=9503EFD8123AF936A1575AC0A9659D8B63\n",
        "http://query.nytimes.com/gst/fullpage.html?res=9400EFD8123AF936A1575AC0A9659D8B63"
       ]
      },
      {
       "output_type": "stream",
       "stream": "stdout",
       "text": [
        "\n",
        "http://query.nytimes.com/gst/fullpage.html?res=9B01EFD8123AF936A1575AC0A9659D8B63\n",
        "http://query.nytimes.com/gst/fullpage.html?res=9A06EFD8123AF936A1575AC0A9659D8B63"
       ]
      },
      {
       "output_type": "stream",
       "stream": "stdout",
       "text": [
        "\n",
        "http://query.nytimes.com/gst/fullpage.html?res=9907EFD8123AF936A1575AC0A9659D8B63"
       ]
      },
      {
       "output_type": "stream",
       "stream": "stdout",
       "text": [
        "\n",
        "http://query.nytimes.com/gst/fullpage.html?res=9804EFD8123AF936A1575AC0A9659D8B63\n",
        "http://query.nytimes.com/gst/fullpage.html?res=9F05EFD8123AF936A1575AC0A9659D8B63"
       ]
      },
      {
       "output_type": "stream",
       "stream": "stdout",
       "text": [
        "\n",
        "http://query.nytimes.com/gst/fullpage.html?res=9D0CE0D8123AF936A1575AC0A9659D8B63\n",
        "http://query.nytimes.com/gst/fullpage.html?res=9502E0D8123AF936A1575AC0A9659D8B63"
       ]
      },
      {
       "output_type": "stream",
       "stream": "stdout",
       "text": [
        "\n",
        "http://query.nytimes.com/gst/fullpage.html?res=9C0DE0D8123AF936A1575AC0A9659D8B63"
       ]
      },
      {
       "output_type": "stream",
       "stream": "stdout",
       "text": [
        "\n",
        "http://query.nytimes.com/gst/fullpage.html?res=9403E0D8123AF936A1575AC0A9659D8B63\n",
        "http://query.nytimes.com/gst/fullpage.html?res=9A01E0D8123AF936A1575AC0A9659D8B63"
       ]
      },
      {
       "output_type": "stream",
       "stream": "stdout",
       "text": [
        "\n",
        "http://query.nytimes.com/gst/fullpage.html?res=9B00E0D8123AF936A1575AC0A9659D8B63"
       ]
      },
      {
       "output_type": "stream",
       "stream": "stdout",
       "text": [
        "\n",
        "http://query.nytimes.com/gst/fullpage.html?res=9906E0D8123AF936A1575AC0A9659D8B63\n",
        "http://query.nytimes.com/gst/fullpage.html?res=9807E0D8123AF936A1575AC0A9659D8B63"
       ]
      },
      {
       "output_type": "stream",
       "stream": "stdout",
       "text": [
        "\n",
        "http://query.nytimes.com/gst/fullpage.html?res=9F04E0D8123AF936A1575AC0A9659D8B63\n",
        "http://query.nytimes.com/gst/fullpage.html?res=9E05E0D8123AF936A1575AC0A9659D8B63"
       ]
      },
      {
       "output_type": "stream",
       "stream": "stdout",
       "text": [
        "\n",
        "http://query.nytimes.com/gst/fullpage.html?res=9C0CE1D8123AF936A1575AC0A9659D8B63\n",
        "http://query.nytimes.com/gst/fullpage.html?res=950DE1D8123AF936A1575AC0A9659D8B63"
       ]
      },
      {
       "output_type": "stream",
       "stream": "stdout",
       "text": [
        "\n",
        "http://query.nytimes.com/gst/fullpage.html?res=9402E1D8123AF936A1575AC0A9659D8B63\n",
        "http://query.nytimes.com/gst/fullpage.html?res=9B03E1D8123AF936A1575AC0A9659D8B63"
       ]
      },
      {
       "output_type": "stream",
       "stream": "stdout",
       "text": [
        "\n",
        "http://query.nytimes.com/gst/fullpage.html?res=9A00E1D8123AF936A1575AC0A9659D8B63\n",
        "http://query.nytimes.com/gst/fullpage.html?res=9901E1D8123AF936A1575AC0A9659D8B63"
       ]
      },
      {
       "output_type": "stream",
       "stream": "stdout",
       "text": [
        "\n",
        "http://query.nytimes.com/gst/fullpage.html?res=9806E1D8123AF936A1575AC0A9659D8B63"
       ]
      },
      {
       "output_type": "stream",
       "stream": "stdout",
       "text": [
        "\n",
        "http://query.nytimes.com/gst/fullpage.html?res=9F07E1D8123AF936A1575AC0A9659D8B63\n",
        "http://query.nytimes.com/gst/fullpage.html?res=9E04E1D8123AF936A1575AC0A9659D8B63"
       ]
      },
      {
       "output_type": "stream",
       "stream": "stdout",
       "text": [
        "\n",
        "http://query.nytimes.com/gst/fullpage.html?res=9C07E4D8123AF937A1575AC0A9659D8B63\n",
        "http://query.nytimes.com/gst/fullpage.html?res=9504E4D8123AF937A1575AC0A9659D8B63"
       ]
      },
      {
       "output_type": "stream",
       "stream": "stdout",
       "text": [
        "\n",
        "http://query.nytimes.com/gst/fullpage.html?res=9405E4D8123AF937A1575AC0A9659D8B63\n",
        "http://query.nytimes.com/gst/fullpage.html?res=9A0CE5D8123AF937A1575AC0A9659D8B63"
       ]
      },
      {
       "output_type": "stream",
       "stream": "stdout",
       "text": [
        "\n",
        "http://query.nytimes.com/gst/fullpage.html?res=990DE5D8123AF937A1575AC0A9659D8B63"
       ]
      },
      {
       "output_type": "stream",
       "stream": "stdout",
       "text": [
        "\n",
        "http://query.nytimes.com/gst/fullpage.html?res=9802E5D8123AF937A1575AC0A9659D8B63\n",
        "http://query.nytimes.com/gst/fullpage.html?res=9F03E5D8123AF937A1575AC0A9659D8B63"
       ]
      },
      {
       "output_type": "stream",
       "stream": "stdout",
       "text": [
        "\n",
        "http://query.nytimes.com/gst/fullpage.html?res=9E00E5D8123AF937A1575AC0A9659D8B63\n",
        "http://query.nytimes.com/gst/fullpage.html?res=9D01E5D8123AF937A1575AC0A9659D8B63"
       ]
      },
      {
       "output_type": "stream",
       "stream": "stdout",
       "text": [
        "\n",
        "http://query.nytimes.com/gst/fullpage.html?res=9C06E5D8123AF937A1575AC0A9659D8B63\n",
        "http://query.nytimes.com/gst/fullpage.html?res=9507E5D8123AF937A1575AC0A9659D8B63"
       ]
      },
      {
       "output_type": "stream",
       "stream": "stdout",
       "text": [
        "\n",
        "http://query.nytimes.com/gst/fullpage.html?res=9404E5D8123AF937A1575AC0A9659D8B63\n",
        "http://query.nytimes.com/gst/fullpage.html?res=9B05E5D8123AF937A1575AC0A9659D8B63"
       ]
      },
      {
       "output_type": "stream",
       "stream": "stdout",
       "text": [
        "\n",
        "http://query.nytimes.com/gst/fullpage.html?res=990CE6D8123AF937A1575AC0A9659D8B63"
       ]
      },
      {
       "output_type": "stream",
       "stream": "stdout",
       "text": [
        "\n",
        "http://query.nytimes.com/gst/fullpage.html?res=980DE6D8123AF937A1575AC0A9659D8B63"
       ]
      },
      {
       "output_type": "stream",
       "stream": "stdout",
       "text": [
        "\n",
        "http://query.nytimes.com/gst/fullpage.html?res=9F02E6D8123AF937A1575AC0A9659D8B63"
       ]
      },
      {
       "output_type": "stream",
       "stream": "stdout",
       "text": [
        "\n",
        "http://query.nytimes.com/gst/fullpage.html?res=9E03E6D8123AF937A1575AC0A9659D8B63"
       ]
      },
      {
       "output_type": "stream",
       "stream": "stdout",
       "text": [
        "\n",
        "http://query.nytimes.com/gst/fullpage.html?res=9D00E6D8123AF937A1575AC0A9659D8B63"
       ]
      },
      {
       "output_type": "stream",
       "stream": "stdout",
       "text": [
        "\n",
        "http://query.nytimes.com/gst/fullpage.html?res=9C01E6D8123AF937A1575AC0A9659D8B63"
       ]
      },
      {
       "output_type": "stream",
       "stream": "stdout",
       "text": [
        "\n",
        "http://query.nytimes.com/gst/fullpage.html?res=9506E6D8123AF937A1575AC0A9659D8B63"
       ]
      },
      {
       "output_type": "stream",
       "stream": "stdout",
       "text": [
        "\n",
        "http://query.nytimes.com/gst/fullpage.html?res=9407E6D8123AF937A1575AC0A9659D8B63"
       ]
      },
      {
       "output_type": "stream",
       "stream": "stdout",
       "text": [
        "\n",
        "http://query.nytimes.com/gst/fullpage.html?res=9B04E6D8123AF937A1575AC0A9659D8B63"
       ]
      },
      {
       "output_type": "stream",
       "stream": "stdout",
       "text": [
        "\n",
        "http://query.nytimes.com/gst/fullpage.html?res=9A05E6D8123AF937A1575AC0A9659D8B63"
       ]
      },
      {
       "output_type": "stream",
       "stream": "stdout",
       "text": [
        "\n",
        "http://query.nytimes.com/gst/fullpage.html?res=980CE7D8123AF937A1575AC0A9659D8B63"
       ]
      },
      {
       "output_type": "stream",
       "stream": "stdout",
       "text": [
        "\n",
        "http://query.nytimes.com/gst/fullpage.html?res=9F0DE7D8123AF937A1575AC0A9659D8B63"
       ]
      },
      {
       "output_type": "stream",
       "stream": "stdout",
       "text": [
        "\n",
        "http://query.nytimes.com/gst/fullpage.html?res=9E02E7D8123AF937A1575AC0A9659D8B63"
       ]
      },
      {
       "output_type": "stream",
       "stream": "stdout",
       "text": [
        "\n",
        "http://query.nytimes.com/gst/fullpage.html?res=9E05EFD9123AF930A1575AC0A9659D8B63"
       ]
      },
      {
       "output_type": "stream",
       "stream": "stdout",
       "text": [
        "\n",
        "http://query.nytimes.com/gst/fullpage.html?res=9C0CE0D9123AF930A1575AC0A9659D8B63"
       ]
      },
      {
       "output_type": "stream",
       "stream": "stdout",
       "text": [
        "\n",
        "http://query.nytimes.com/gst/fullpage.html?res=950DE0D9123AF930A1575AC0A9659D8B63"
       ]
      },
      {
       "output_type": "stream",
       "stream": "stdout",
       "text": [
        "\n",
        "http://query.nytimes.com/gst/fullpage.html?res=9402E0D9123AF930A1575AC0A9659D8B63"
       ]
      },
      {
       "output_type": "stream",
       "stream": "stdout",
       "text": [
        "\n",
        "http://query.nytimes.com/gst/fullpage.html?res=9B03E0D9123AF930A1575AC0A9659D8B63"
       ]
      },
      {
       "output_type": "stream",
       "stream": "stdout",
       "text": [
        "\n",
        "http://query.nytimes.com/gst/fullpage.html?res=9A00E0D9123AF930A1575AC0A9659D8B63"
       ]
      },
      {
       "output_type": "stream",
       "stream": "stdout",
       "text": [
        "\n",
        "http://query.nytimes.com/gst/fullpage.html?res=9901E0D9123AF930A1575AC0A9659D8B63"
       ]
      },
      {
       "output_type": "stream",
       "stream": "stdout",
       "text": [
        "\n",
        "http://query.nytimes.com/gst/fullpage.html?res=9806E0D9123AF930A1575AC0A9659D8B63"
       ]
      },
      {
       "output_type": "stream",
       "stream": "stdout",
       "text": [
        "\n",
        "http://query.nytimes.com/gst/fullpage.html?res=9F07E0D9123AF930A1575AC0A9659D8B63"
       ]
      },
      {
       "output_type": "stream",
       "stream": "stdout",
       "text": [
        "\n",
        "http://query.nytimes.com/gst/fullpage.html?res=9E04E0D9123AF930A1575AC0A9659D8B63"
       ]
      },
      {
       "output_type": "stream",
       "stream": "stdout",
       "text": [
        "\n",
        "http://query.nytimes.com/gst/fullpage.html?res=9D05E0D9123AF930A1575AC0A9659D8B63"
       ]
      },
      {
       "output_type": "stream",
       "stream": "stdout",
       "text": [
        "\n",
        "http://query.nytimes.com/gst/fullpage.html?res=950CE1D9123AF930A1575AC0A9659D8B63"
       ]
      },
      {
       "output_type": "stream",
       "stream": "stdout",
       "text": [
        "\n",
        "http://query.nytimes.com/gst/fullpage.html?res=940DE1D9123AF930A1575AC0A9659D8B63"
       ]
      },
      {
       "output_type": "stream",
       "stream": "stdout",
       "text": [
        "\n",
        "http://query.nytimes.com/gst/fullpage.html?res=9B02E1D9123AF930A1575AC0A9659D8B63"
       ]
      },
      {
       "output_type": "stream",
       "stream": "stdout",
       "text": [
        "\n",
        "http://query.nytimes.com/gst/fullpage.html?res=9A03E1D9123AF930A1575AC0A9659D8B63"
       ]
      },
      {
       "output_type": "stream",
       "stream": "stdout",
       "text": [
        "\n",
        "http://query.nytimes.com/gst/fullpage.html?res=9900E1D9123AF930A1575AC0A9659D8B63"
       ]
      },
      {
       "output_type": "stream",
       "stream": "stdout",
       "text": [
        "\n",
        "http://query.nytimes.com/gst/fullpage.html?res=9C07EFD7153DF931A1575AC0A9659D8B63"
       ]
      },
      {
       "output_type": "stream",
       "stream": "stdout",
       "text": [
        "\n",
        "http://query.nytimes.com/gst/fullpage.html?res=9A0DE3D9123AF931A1575AC0A9659D8B63"
       ]
      },
      {
       "output_type": "stream",
       "stream": "stdout",
       "text": [
        "\n",
        "http://query.nytimes.com/gst/fullpage.html?res=9902E3D9123AF931A1575AC0A9659D8B63"
       ]
      },
      {
       "output_type": "stream",
       "stream": "stdout",
       "text": [
        "\n",
        "http://query.nytimes.com/gst/fullpage.html?res=9803E3D9123AF931A1575AC0A9659D8B63"
       ]
      },
      {
       "output_type": "stream",
       "stream": "stdout",
       "text": [
        "\n",
        "http://query.nytimes.com/gst/fullpage.html?res=9F00E3D9123AF931A1575AC0A9659D8B63"
       ]
      },
      {
       "output_type": "stream",
       "stream": "stdout",
       "text": [
        "\n",
        "http://query.nytimes.com/gst/fullpage.html?res=9E01E3D9123AF931A1575AC0A9659D8B63"
       ]
      },
      {
       "output_type": "stream",
       "stream": "stdout",
       "text": [
        "\n",
        "http://query.nytimes.com/gst/fullpage.html?res=9D06E3D9123AF931A1575AC0A9659D8B63"
       ]
      },
      {
       "output_type": "stream",
       "stream": "stdout",
       "text": [
        "\n",
        "http://query.nytimes.com/gst/fullpage.html?res=9C07E3D9123AF931A1575AC0A9659D8B63"
       ]
      },
      {
       "output_type": "stream",
       "stream": "stdout",
       "text": [
        "\n",
        "http://query.nytimes.com/gst/fullpage.html?res=9504E3D9123AF931A1575AC0A9659D8B63"
       ]
      },
      {
       "output_type": "stream",
       "stream": "stdout",
       "text": [
        "\n",
        "http://query.nytimes.com/gst/fullpage.html?res=9405E3D9123AF931A1575AC0A9659D8B63"
       ]
      },
      {
       "output_type": "stream",
       "stream": "stdout",
       "text": [
        "\n",
        "http://query.nytimes.com/gst/fullpage.html?res=9A0CE4D9123AF931A1575AC0A9659D8B63"
       ]
      },
      {
       "output_type": "stream",
       "stream": "stdout",
       "text": [
        "\n",
        "http://query.nytimes.com/gst/fullpage.html?res=990DE4D9123AF931A1575AC0A9659D8B63"
       ]
      },
      {
       "output_type": "stream",
       "stream": "stdout",
       "text": [
        "\n",
        "http://query.nytimes.com/gst/fullpage.html?res=9802E4D9123AF931A1575AC0A9659D8B63"
       ]
      },
      {
       "output_type": "stream",
       "stream": "stdout",
       "text": [
        "\n",
        "http://query.nytimes.com/gst/fullpage.html?res=9F03E4D9123AF931A1575AC0A9659D8B63"
       ]
      },
      {
       "output_type": "stream",
       "stream": "stdout",
       "text": [
        "\n",
        "http://query.nytimes.com/gst/fullpage.html?res=9E00E4D9123AF931A1575AC0A9659D8B63"
       ]
      },
      {
       "output_type": "stream",
       "stream": "stdout",
       "text": [
        "\n",
        "http://query.nytimes.com/gst/fullpage.html?res=9D01E4D9123AF931A1575AC0A9659D8B63"
       ]
      },
      {
       "output_type": "stream",
       "stream": "stdout",
       "text": [
        "\n",
        "http://query.nytimes.com/gst/fullpage.html?res=9C06E4D9123AF931A1575AC0A9659D8B63"
       ]
      },
      {
       "output_type": "stream",
       "stream": "stdout",
       "text": [
        "\n",
        "http://query.nytimes.com/gst/fullpage.html?res=9507E4D9123AF931A1575AC0A9659D8B63"
       ]
      },
      {
       "output_type": "stream",
       "stream": "stdout",
       "text": [
        "\n",
        "http://query.nytimes.com/gst/fullpage.html?res=9404E4D9123AF931A1575AC0A9659D8B63"
       ]
      },
      {
       "output_type": "stream",
       "stream": "stdout",
       "text": [
        "\n",
        "http://query.nytimes.com/gst/fullpage.html?res=9B05E4D9123AF931A1575AC0A9659D8B63"
       ]
      },
      {
       "output_type": "stream",
       "stream": "stdout",
       "text": [
        "\n",
        "http://query.nytimes.com/gst/fullpage.html?res=990CE5D9123AF931A1575AC0A9659D8B63"
       ]
      },
      {
       "output_type": "stream",
       "stream": "stdout",
       "text": [
        "\n",
        "http://query.nytimes.com/gst/fullpage.html?res=980DE5D9123AF931A1575AC0A9659D8B63"
       ]
      },
      {
       "output_type": "stream",
       "stream": "stdout",
       "text": [
        "\n",
        "http://query.nytimes.com/gst/fullpage.html?res=9F02E5D9123AF931A1575AC0A9659D8B63"
       ]
      },
      {
       "output_type": "stream",
       "stream": "stdout",
       "text": [
        "\n",
        "http://query.nytimes.com/gst/fullpage.html?res=9E03E5D9123AF931A1575AC0A9659D8B63"
       ]
      },
      {
       "output_type": "stream",
       "stream": "stdout",
       "text": [
        "\n",
        "http://query.nytimes.com/gst/fullpage.html?res=9D00E5D9123AF931A1575AC0A9659D8B63"
       ]
      },
      {
       "output_type": "stream",
       "stream": "stdout",
       "text": [
        "\n",
        "http://query.nytimes.com/gst/fullpage.html?res=9C01E5D9123AF931A1575AC0A9659D8B63"
       ]
      },
      {
       "output_type": "stream",
       "stream": "stdout",
       "text": [
        "\n",
        "http://query.nytimes.com/gst/fullpage.html?res=9506E5D9123AF931A1575AC0A9659D8B63"
       ]
      },
      {
       "output_type": "stream",
       "stream": "stdout",
       "text": [
        "\n",
        "http://query.nytimes.com/gst/fullpage.html?res=9407E5D9123AF931A1575AC0A9659D8B63"
       ]
      },
      {
       "output_type": "stream",
       "stream": "stdout",
       "text": [
        "\n",
        "http://query.nytimes.com/gst/fullpage.html?res=9B04E5D9123AF931A1575AC0A9659D8B63"
       ]
      },
      {
       "output_type": "stream",
       "stream": "stdout",
       "text": [
        "\n",
        "http://query.nytimes.com/gst/fullpage.html?res=9A05E5D9123AF931A1575AC0A9659D8B63"
       ]
      },
      {
       "output_type": "stream",
       "stream": "stdout",
       "text": [
        "\n",
        "http://query.nytimes.com/gst/fullpage.html?res=980CE6D9123AF931A1575AC0A9659D8B63"
       ]
      },
      {
       "output_type": "stream",
       "stream": "stdout",
       "text": [
        "\n",
        "http://query.nytimes.com/gst/fullpage.html?res=9F0DE6D9123AF931A1575AC0A9659D8B63\n",
        "http://query.nytimes.com/gst/fullpage.html?res=9E02E6D9123AF931A1575AC0A9659D8B63"
       ]
      },
      {
       "output_type": "stream",
       "stream": "stdout",
       "text": [
        "\n",
        "http://query.nytimes.com/gst/fullpage.html?res=9D03E6D9123AF931A1575AC0A9659D8B63\n",
        "http://query.nytimes.com/gst/fullpage.html?res=9C00E6D9123AF931A1575AC0A9659D8B63"
       ]
      },
      {
       "output_type": "stream",
       "stream": "stdout",
       "text": [
        "\n",
        "http://query.nytimes.com/gst/fullpage.html?res=9501E6D9123AF931A1575AC0A9659D8B63"
       ]
      },
      {
       "output_type": "stream",
       "stream": "stdout",
       "text": [
        "\n",
        "http://query.nytimes.com/gst/fullpage.html?res=9406E6D9123AF931A1575AC0A9659D8B63\n",
        "http://query.nytimes.com/gst/fullpage.html?res=9B07E6D9123AF931A1575AC0A9659D8B63"
       ]
      },
      {
       "output_type": "stream",
       "stream": "stdout",
       "text": [
        "\n",
        "http://query.nytimes.com/gst/fullpage.html?res=9A04E6D9123AF931A1575AC0A9659D8B63\n",
        "http://query.nytimes.com/gst/fullpage.html?res=9905E6D9123AF931A1575AC0A9659D8B63"
       ]
      },
      {
       "output_type": "stream",
       "stream": "stdout",
       "text": [
        "\n",
        "http://query.nytimes.com/gst/fullpage.html?res=9F0CE7D9123AF931A1575AC0A9659D8B63\n",
        "http://query.nytimes.com/gst/fullpage.html?res=9E0DE7D9123AF931A1575AC0A9659D8B63"
       ]
      },
      {
       "output_type": "stream",
       "stream": "stdout",
       "text": [
        "\n",
        "http://query.nytimes.com/gst/fullpage.html?res=9D02E7D9123AF931A1575AC0A9659D8B63\n",
        "http://query.nytimes.com/gst/fullpage.html?res=9C03E7D9123AF931A1575AC0A9659D8B63"
       ]
      },
      {
       "output_type": "stream",
       "stream": "stdout",
       "text": [
        "\n",
        "http://query.nytimes.com/gst/fullpage.html?res=9500E7D9123AF931A1575AC0A9659D8B63\n",
        "http://query.nytimes.com/gst/fullpage.html?res=9401E7D9123AF931A1575AC0A9659D8B63"
       ]
      },
      {
       "output_type": "stream",
       "stream": "stdout",
       "text": [
        "\n",
        "http://query.nytimes.com/gst/fullpage.html?res=9B06E7D9123AF931A1575AC0A9659D8B63\n",
        "http://query.nytimes.com/gst/fullpage.html?res=9A07E7D9123AF931A1575AC0A9659D8B63"
       ]
      },
      {
       "output_type": "stream",
       "stream": "stdout",
       "text": [
        "\n",
        "http://query.nytimes.com/gst/fullpage.html?res=9805E7D9123AF931A1575AC0A9659D8B63"
       ]
      },
      {
       "output_type": "stream",
       "stream": "stdout",
       "text": [
        "\n",
        "http://query.nytimes.com/gst/fullpage.html?res=9904E7D9123AF931A1575AC0A9659D8B63\n",
        "http://query.nytimes.com/gst/fullpage.html?res=9D0CEEDA123AF931A1575AC0A9659D8B63"
       ]
      },
      {
       "output_type": "stream",
       "stream": "stdout",
       "text": [
        "\n",
        "http://query.nytimes.com/gst/fullpage.html?res=9C0DEEDA123AF931A1575AC0A9659D8B63\n",
        "http://query.nytimes.com/gst/fullpage.html?res=9502EEDA123AF931A1575AC0A9659D8B63"
       ]
      },
      {
       "output_type": "stream",
       "stream": "stdout",
       "text": [
        "\n",
        "http://query.nytimes.com/gst/fullpage.html?res=9403EEDA123AF931A1575AC0A9659D8B63\n"
       ]
      },
      {
       "output_type": "stream",
       "stream": "stdout",
       "text": [
        "http://query.nytimes.com/gst/fullpage.html?res=9B00EEDA123AF931A1575AC0A9659D8B63\n",
        "http://query.nytimes.com/gst/fullpage.html?res=9A01EEDA123AF931A1575AC0A9659D8B63"
       ]
      },
      {
       "output_type": "stream",
       "stream": "stdout",
       "text": [
        "\n",
        "http://query.nytimes.com/gst/fullpage.html?res=9906EEDA123AF931A1575AC0A9659D8B63"
       ]
      },
      {
       "output_type": "stream",
       "stream": "stdout",
       "text": [
        "\n",
        "http://query.nytimes.com/gst/fullpage.html?res=9807EEDA123AF931A1575AC0A9659D8B63\n",
        "http://query.nytimes.com/gst/fullpage.html?res=9F04EEDA123AF931A1575AC0A9659D8B63"
       ]
      },
      {
       "output_type": "stream",
       "stream": "stdout",
       "text": [
        "\n",
        "http://query.nytimes.com/gst/fullpage.html?res=9407E4DA123AF932A1575AC0A9659D8B63"
       ]
      },
      {
       "output_type": "stream",
       "stream": "stdout",
       "text": [
        "\n",
        "http://query.nytimes.com/gst/fullpage.html?res=9B04E4DA123AF932A1575AC0A9659D8B63\n",
        "http://query.nytimes.com/gst/fullpage.html?res=9A05E4DA123AF932A1575AC0A9659D8B63"
       ]
      },
      {
       "output_type": "stream",
       "stream": "stdout",
       "text": [
        "\n",
        "http://query.nytimes.com/gst/fullpage.html?res=980CE5DA123AF932A1575AC0A9659D8B63\n",
        "http://query.nytimes.com/gst/fullpage.html?res=9F0DE5DA123AF932A1575AC0A9659D8B63"
       ]
      },
      {
       "output_type": "stream",
       "stream": "stdout",
       "text": [
        "\n",
        "http://query.nytimes.com/gst/fullpage.html?res=9E02E5DA123AF932A1575AC0A9659D8B63\n",
        "http://query.nytimes.com/gst/fullpage.html?res=9D03E5DA123AF932A1575AC0A9659D8B63"
       ]
      },
      {
       "output_type": "stream",
       "stream": "stdout",
       "text": [
        "\n",
        "http://query.nytimes.com/gst/fullpage.html?res=9501E5DA123AF932A1575AC0A9659D8B63\n",
        "http://query.nytimes.com/gst/fullpage.html?res=9C00E5DA123AF932A1575AC0A9659D8B63"
       ]
      },
      {
       "output_type": "stream",
       "stream": "stdout",
       "text": [
        "\n",
        "http://query.nytimes.com/gst/fullpage.html?res=9406E5DA123AF932A1575AC0A9659D8B63\n",
        "http://query.nytimes.com/gst/fullpage.html?res=9B07E5DA123AF932A1575AC0A9659D8B63"
       ]
      },
      {
       "output_type": "stream",
       "stream": "stdout",
       "text": [
        "\n",
        "http://www.nytimes.com/reuters/2013/09/20/business/20reuters-rwe-savings.html"
       ]
      },
      {
       "output_type": "stream",
       "stream": "stdout",
       "text": [
        "\n",
        "http://www.nytimes.com/aponline/2013/09/20/sports/hockey/ap-hkn-lightning-blues.html"
       ]
      },
      {
       "output_type": "stream",
       "stream": "stdout",
       "text": [
        "\n",
        "http://www.nytimes.com/reuters/2013/09/20/sports/soccer/20reuters-soccer-argentina-championship.html"
       ]
      },
      {
       "output_type": "stream",
       "stream": "stdout",
       "text": [
        "\n",
        "http://www.nytimes.com/aponline/2013/09/20/sports/baseball/ap-bba-white-sox-tigers.html"
       ]
      },
      {
       "output_type": "stream",
       "stream": "stdout",
       "text": [
        "\n",
        "http://www.nytimes.com/aponline/2013/09/20/sports/baseball/ap-bbo-astros-indians.html"
       ]
      },
      {
       "output_type": "stream",
       "stream": "stdout",
       "text": [
        "\n",
        "http://www.nytimes.com/aponline/2013/09/20/sports/hockey/ap-hkn-hurricanes-canadiens.html"
       ]
      },
      {
       "output_type": "stream",
       "stream": "stdout",
       "text": [
        "\n",
        "http://www.nytimes.com/aponline/2013/09/20/us/ap-us-hiccup-girl-trial.html"
       ]
      },
      {
       "output_type": "stream",
       "stream": "stdout",
       "text": [
        "\n",
        "http://www.nytimes.com/aponline/2013/09/20/sports/baseball/ap-bbn-mets-phillies.html"
       ]
      },
      {
       "output_type": "stream",
       "stream": "stdout",
       "text": [
        "\n",
        "http://www.nytimes.com/aponline/2013/09/20/sports/ap-box-ward-rodriguez.html"
       ]
      },
      {
       "output_type": "stream",
       "stream": "stdout",
       "text": [
        "\n",
        "http://www.nytimes.com/aponline/2013/09/20/sports/hockey/ap-hkn-blackhawks-capitals.html"
       ]
      },
      {
       "output_type": "stream",
       "stream": "stdout",
       "text": [
        "\n",
        "http://www.nytimes.com/reuters/2013/09/20/world/middleeast/20reuters-usa-guantanamo.html"
       ]
      },
      {
       "output_type": "stream",
       "stream": "stdout",
       "text": [
        "\n",
        "http://www.nytimes.com/reuters/2013/09/20/world/asia/20reuters-korea-north.html"
       ]
      },
      {
       "output_type": "stream",
       "stream": "stdout",
       "text": [
        "\n",
        "http://www.nytimes.com/aponline/2013/09/20/sports/baseball/ap-bbn-marlins-nationals.html"
       ]
      },
      {
       "output_type": "stream",
       "stream": "stdout",
       "text": [
        "\n",
        "http://www.nytimes.com/aponline/2013/09/20/sports/basketball/ap-bkl-fever-sky.html"
       ]
      },
      {
       "output_type": "stream",
       "stream": "stdout",
       "text": [
        "\n",
        "http://www.nytimes.com/aponline/2013/09/20/us/ap-us-super-bowl-mia-middle-finger.html"
       ]
      },
      {
       "output_type": "stream",
       "stream": "stdout",
       "text": [
        "\n",
        "http://www.nytimes.com/reuters/2013/09/20/business/20reuters-lockheed-missile.html"
       ]
      },
      {
       "output_type": "stream",
       "stream": "stdout",
       "text": [
        "\n",
        "http://www.nytimes.com/aponline/2013/09/20/us/politics/ap-us-china-us-nkorea.html"
       ]
      },
      {
       "output_type": "stream",
       "stream": "stdout",
       "text": [
        "\n",
        "http://www.nytimes.com/aponline/2013/09/20/us/ap-fbc-spartan-stadium-go-blue.html"
       ]
      },
      {
       "output_type": "stream",
       "stream": "stdout",
       "text": [
        "\n",
        "http://www.nytimes.com/reuters/2013/09/20/us/20reuters-usa-california-fracking.html"
       ]
      },
      {
       "output_type": "stream",
       "stream": "stdout",
       "text": [
        "\n",
        "http://www.nytimes.com/reuters/2013/09/20/sports/golf/20reuters-golf-pga-spieth.html"
       ]
      },
      {
       "output_type": "stream",
       "stream": "stdout",
       "text": [
        "\n",
        "http://www.nytimes.com/aponline/2013/09/20/us/ap-us-penn-state-abuse-gricar.html"
       ]
      },
      {
       "output_type": "stream",
       "stream": "stdout",
       "text": [
        "\n",
        "http://www.nytimes.com/aponline/2013/09/20/us/ap-us-vegas-newspapers.html"
       ]
      },
      {
       "output_type": "stream",
       "stream": "stdout",
       "text": [
        "\n",
        "http://www.nytimes.com/reuters/2013/09/20/sports/soccer/20reuters-soccer-england-chelsea-mata.html"
       ]
      },
      {
       "output_type": "stream",
       "stream": "stdout",
       "text": [
        "\n",
        "http://www.nytimes.com/reuters/2013/09/20/us/20reuters-usa-school-evacuation.html"
       ]
      },
      {
       "output_type": "stream",
       "stream": "stdout",
       "text": [
        "\n",
        "http://www.nytimes.com/reuters/2013/09/20/sports/golf/20reuters-golf-pga-stenson.html"
       ]
      },
      {
       "output_type": "stream",
       "stream": "stdout",
       "text": [
        "\n",
        "http://www.nytimes.com/aponline/2013/09/20/us/politics/ap-us-navy-contractor-suspension.html"
       ]
      },
      {
       "output_type": "stream",
       "stream": "stdout",
       "text": [
        "\n",
        "http://www.nytimes.com/aponline/2013/09/20/sports/ap-car-nascar-kentucky-nationwide.html"
       ]
      },
      {
       "output_type": "stream",
       "stream": "stdout",
       "text": [
        "\n",
        "http://www.nytimes.com/reuters/2013/09/20/us/20reuters-usa-police-indianapolis.html"
       ]
      },
      {
       "output_type": "stream",
       "stream": "stdout",
       "text": [
        "\n",
        "http://www.nytimes.com/reuters/2013/09/20/us/20reuters-usa-alabama-harperlee.html"
       ]
      },
      {
       "output_type": "stream",
       "stream": "stdout",
       "text": [
        "\n",
        "http://www.nytimes.com/aponline/2013/09/20/us/ap-co-colorado-flooding-drilling.html"
       ]
      },
      {
       "output_type": "stream",
       "stream": "stdout",
       "text": [
        "\n",
        "http://www.nytimes.com/reuters/2013/09/20/business/20reuters-newscorp-results.html"
       ]
      },
      {
       "output_type": "stream",
       "stream": "stdout",
       "text": [
        "\n",
        "http://www.nytimes.com/reuters/2013/09/20/business/20reuters-vilar-tanaka.html"
       ]
      },
      {
       "output_type": "stream",
       "stream": "stdout",
       "text": [
        "\n",
        "http://www.nytimes.com/aponline/2013/09/20/us/ap-us-deputy-drug-charges.html"
       ]
      },
      {
       "output_type": "stream",
       "stream": "stdout",
       "text": [
        "\n",
        "http://www.nytimes.com/aponline/2013/09/20/sports/ap-car-arca-kentucky.html"
       ]
      },
      {
       "output_type": "stream",
       "stream": "stdout",
       "text": [
        "\n",
        "http://www.nytimes.com/aponline/2013/09/20/sports/golf/ap-glf-paul-newberry-092013.html"
       ]
      },
      {
       "output_type": "stream",
       "stream": "stdout",
       "text": [
        "\n",
        "http://www.nytimes.com/reuters/2013/09/20/us/20reuters-usa-bomb.html"
       ]
      },
      {
       "output_type": "stream",
       "stream": "stdout",
       "text": [
        "\n",
        "http://www.nytimes.com/aponline/2013/09/20/world/middleeast/ap-un-un-sudan-us.html"
       ]
      },
      {
       "output_type": "stream",
       "stream": "stdout",
       "text": [
        "\n",
        "http://www.nytimes.com/reuters/2013/09/20/world/americas/20reuters-vatican-peru-abuse.html"
       ]
      },
      {
       "output_type": "stream",
       "stream": "stdout",
       "text": [
        "\n",
        "http://www.nytimes.com/reuters/2013/09/20/us/20reuters-waffle-cones-rodents.html"
       ]
      },
      {
       "output_type": "stream",
       "stream": "stdout",
       "text": [
        "\n",
        "http://www.nytimes.com/reuters/2013/09/20/us/20reuters-usa-crime-tennessee.html"
       ]
      },
      {
       "output_type": "stream",
       "stream": "stdout",
       "text": [
        "\n",
        "http://www.nytimes.com/reuters/2013/09/20/business/20reuters-fireeye-ipo.html"
       ]
      },
      {
       "output_type": "stream",
       "stream": "stdout",
       "text": [
        "\n",
        "http://www.nytimes.com/reuters/2013/09/20/business/20reuters-fox-studio.html"
       ]
      },
      {
       "output_type": "stream",
       "stream": "stdout",
       "text": [
        "\n",
        "http://www.nytimes.com/reuters/2013/09/20/us/20reuters-milan-fashionweek.html"
       ]
      },
      {
       "output_type": "stream",
       "stream": "stdout",
       "text": [
        "\n",
        "http://www.nytimes.com/aponline/2013/09/20/us/ap-us-transgender-youth-protections.html"
       ]
      },
      {
       "output_type": "stream",
       "stream": "stdout",
       "text": [
        "\n",
        "http://www.nytimes.com/reuters/2013/09/20/sports/soccer/20reuters-soccer-spain-barcelona-busquets.html"
       ]
      },
      {
       "output_type": "stream",
       "stream": "stdout",
       "text": [
        "\n",
        "http://www.nytimes.com/reuters/2013/09/20/us/politics/20reuters-usa-benghazi-congress.html"
       ]
      },
      {
       "output_type": "stream",
       "stream": "stdout",
       "text": [
        "\n",
        "http://www.nytimes.com/aponline/2013/09/20/us/ap-us-university-of-alabama-sororities.html"
       ]
      },
      {
       "output_type": "stream",
       "stream": "stdout",
       "text": [
        "\n",
        "http://www.nytimes.com/reuters/2013/09/20/business/20reuters-groupon-lawsuit.html"
       ]
      },
      {
       "output_type": "stream",
       "stream": "stdout",
       "text": [
        "\n",
        "http://www.nytimes.com/reuters/2013/09/20/business/20reuters-usa-stocks-weekahead.html"
       ]
      },
      {
       "output_type": "stream",
       "stream": "stdout",
       "text": [
        "\n",
        "http://www.nytimes.com/reuters/2013/09/20/business/20reuters-ireland-moodys-outlook.html"
       ]
      },
      {
       "output_type": "stream",
       "stream": "stdout",
       "text": [
        "\n",
        "http://www.nytimes.com/aponline/2013/09/20/us/ap-us-fedex-killing-men-freed.html"
       ]
      },
      {
       "output_type": "stream",
       "stream": "stdout",
       "text": [
        "\n",
        "http://www.nytimes.com/reuters/2013/09/20/business/20reuters-usa-tax-salem-financial.html"
       ]
      },
      {
       "output_type": "stream",
       "stream": "stdout",
       "text": [
        "\n",
        "http://www.nytimes.com/reuters/2013/09/20/sports/20reuters-sailing-americascup-oracle.html"
       ]
      },
      {
       "output_type": "stream",
       "stream": "stdout",
       "text": [
        "\n",
        "http://www.nytimes.com/reuters/2013/09/20/us/20reuters-usa-colorado-flooding.html"
       ]
      },
      {
       "output_type": "stream",
       "stream": "stdout",
       "text": [
        "\n",
        "http://www.nytimes.com/reuters/2013/09/20/sports/basketball/20reuters-basketball-european.html"
       ]
      },
      {
       "output_type": "stream",
       "stream": "stdout",
       "text": [
        "\n",
        "http://www.nytimes.com/reuters/2013/09/20/us/politics/20reuters-usa-fed-yellen.html"
       ]
      },
      {
       "output_type": "stream",
       "stream": "stdout",
       "text": [
        "\n",
        "http://www.nytimes.com/aponline/2013/09/20/us/politics/ap-us-united-states-egypt.html"
       ]
      },
      {
       "output_type": "stream",
       "stream": "stdout",
       "text": [
        "\n",
        "http://www.nytimes.com/aponline/2013/09/20/us/ap-us-bus-stop-crash.html"
       ]
      },
      {
       "output_type": "stream",
       "stream": "stdout",
       "text": [
        "\n",
        "http://www.nytimes.com/aponline/2013/09/20/business/ap-us-oracle-executive-compensation.html"
       ]
      },
      {
       "output_type": "stream",
       "stream": "stdout",
       "text": [
        "\n",
        "http://www.nytimes.com/aponline/2013/09/20/sports/baseball/ap-bbn-braves-cubs.html"
       ]
      },
      {
       "output_type": "stream",
       "stream": "stdout",
       "text": [
        "\n",
        "http://www.nytimes.com/reuters/2013/09/20/business/20reuters-jcpenney-funding.html"
       ]
      },
      {
       "output_type": "stream",
       "stream": "stdout",
       "text": [
        "\n",
        "http://www.nytimes.com/aponline/2013/09/20/us/ap-us-molasses-spill.html"
       ]
      },
      {
       "output_type": "stream",
       "stream": "stdout",
       "text": [
        "\n",
        "http://www.nytimes.com/aponline/2013/09/20/world/africa/ap-af-guinea-legislative-election.html"
       ]
      },
      {
       "output_type": "stream",
       "stream": "stdout",
       "text": [
        "\n",
        "http://www.nytimes.com/aponline/2013/09/20/us/ap-us-jackson-aeg-suit.html"
       ]
      },
      {
       "output_type": "stream",
       "stream": "stdout",
       "text": [
        "\n",
        "http://www.nytimes.com/reuters/2013/09/20/us/20reuters-of-media-typhoons-and-media-tycoons.html"
       ]
      },
      {
       "output_type": "stream",
       "stream": "stdout",
       "text": [
        "\n",
        "http://www.nytimes.com/aponline/2013/09/20/arts/ap-us-news-shows.html"
       ]
      },
      {
       "output_type": "stream",
       "stream": "stdout",
       "text": [
        "\n",
        "http://www.nytimes.com/aponline/2013/09/20/sports/ap-car-nascar-new-hampshire-qualifying.html"
       ]
      },
      {
       "output_type": "stream",
       "stream": "stdout",
       "text": [
        "\n",
        "http://www.nytimes.com/reuters/2013/09/20/nyregion/20reuters-usa-newyork-bedbugs.html"
       ]
      },
      {
       "output_type": "stream",
       "stream": "stdout",
       "text": [
        "\n",
        "http://www.nytimes.com/aponline/2013/09/20/us/ap-us-hip-hop-chicago-violence.html"
       ]
      },
      {
       "output_type": "stream",
       "stream": "stdout",
       "text": [
        "\n",
        "http://www.nytimes.com/aponline/2013/09/20/sports/football/ap-fbn-the-davis-bowl.html"
       ]
      },
      {
       "output_type": "stream",
       "stream": "stdout",
       "text": [
        "\n",
        "http://www.nytimes.com/aponline/2013/09/20/us/politics/ap-us-va-medical-center-columbia.html"
       ]
      },
      {
       "output_type": "stream",
       "stream": "stdout",
       "text": [
        "\n",
        "http://www.nytimes.com/aponline/2013/09/20/us/ap-us-film-disney-jerry-bruckheimer-.html"
       ]
      },
      {
       "output_type": "stream",
       "stream": "stdout",
       "text": [
        "\n",
        "http://www.nytimes.com/aponline/2013/09/20/us/ap-us-rare-brain-disease.html"
       ]
      },
      {
       "output_type": "stream",
       "stream": "stdout",
       "text": [
        "\n",
        "http://www.nytimes.com/aponline/2013/09/20/arts/ap-eu-italy-milan-fashion-week-versace.html"
       ]
      },
      {
       "output_type": "stream",
       "stream": "stdout",
       "text": [
        "\n",
        "http://www.nytimes.com/aponline/2013/09/20/sports/baseball/ap-bbn-dodgers-pool-party.html"
       ]
      },
      {
       "output_type": "stream",
       "stream": "stdout",
       "text": [
        "\n",
        "http://www.nytimes.com/reuters/2013/09/20/us/politics/20reuters-usa-energy-mccarthy.html"
       ]
      },
      {
       "output_type": "stream",
       "stream": "stdout",
       "text": [
        "\n",
        "http://www.nytimes.com/aponline/2013/09/20/sports/golf/ap-glf-pga-cup.html"
       ]
      },
      {
       "output_type": "stream",
       "stream": "stdout",
       "text": [
        "\n",
        "http://www.nytimes.com/reuters/2013/09/20/technology/20reuters-att-smartphones-towers.html"
       ]
      },
      {
       "output_type": "stream",
       "stream": "stdout",
       "text": [
        "\n",
        "http://www.nytimes.com/aponline/2013/09/20/us/ap-us-strip-shooting-crash.html"
       ]
      },
      {
       "output_type": "stream",
       "stream": "stdout",
       "text": [
        "\n",
        "http://www.nytimes.com/reuters/2013/09/20/us/20reuters-usa-crime-kentucky.html"
       ]
      },
      {
       "output_type": "stream",
       "stream": "stdout",
       "text": [
        "\n",
        "http://www.nytimes.com/reuters/2013/09/20/world/europe/20reuters-russia-koran.html"
       ]
      },
      {
       "output_type": "stream",
       "stream": "stdout",
       "text": [
        "\n",
        "http://www.nytimes.com/aponline/2013/09/20/sports/ap-sai-americas-cup.html"
       ]
      },
      {
       "output_type": "stream",
       "stream": "stdout",
       "text": [
        "\n",
        "http://www.nytimes.com/reuters/2013/09/20/world/americas/20reuters-guatemala-court.html"
       ]
      },
      {
       "output_type": "stream",
       "stream": "stdout",
       "text": [
        "\n",
        "http://www.nytimes.com/aponline/2013/09/20/us/ap-us-copper-king-heiress.html"
       ]
      },
      {
       "output_type": "stream",
       "stream": "stdout",
       "text": [
        "\n",
        "http://www.nytimes.com/reuters/2013/09/20/sports/20reuters-sailing-americascup-cancelation.html"
       ]
      },
      {
       "output_type": "stream",
       "stream": "stdout",
       "text": [
        "\n",
        "http://www.nytimes.com/reuters/2013/09/20/business/20reuters-covenant-lite-loans.html"
       ]
      },
      {
       "output_type": "stream",
       "stream": "stdout",
       "text": [
        "\n",
        "http://www.nytimes.com/reuters/2013/09/20/sports/golf/20reuters-golf-pga-woods.html"
       ]
      },
      {
       "output_type": "stream",
       "stream": "stdout",
       "text": [
        "\n",
        "http://www.nytimes.com/aponline/2013/09/20/us/ap-us-inmate-escape-killings.html"
       ]
      },
      {
       "output_type": "stream",
       "stream": "stdout",
       "text": [
        "\n",
        "http://www.nytimes.com/reuters/2013/09/20/us/20reuters-usa-energy-emissions-kemper.html"
       ]
      },
      {
       "output_type": "stream",
       "stream": "stdout",
       "text": [
        "\n",
        "http://www.nytimes.com/aponline/2013/09/20/business/ap-us-sprint-plan.html"
       ]
      },
      {
       "output_type": "stream",
       "stream": "stdout",
       "text": [
        "\n",
        "http://www.nytimes.com/reuters/2013/09/20/business/20reuters-soros-wedding.html"
       ]
      },
      {
       "output_type": "stream",
       "stream": "stdout",
       "text": [
        "\n",
        "http://www.nytimes.com/aponline/2013/09/20/sports/football/ap-fbn-perfect-chiefs.html"
       ]
      },
      {
       "output_type": "stream",
       "stream": "stdout",
       "text": [
        "\n",
        "http://www.nytimes.com/aponline/2013/09/20/us/ap-us-flubbing-texas-front-runners.html"
       ]
      },
      {
       "output_type": "stream",
       "stream": "stdout",
       "text": [
        "\n",
        "http://www.nytimes.com/aponline/2013/09/20/world/middleeast/ap-ml-syria-the-war-analysis.html"
       ]
      },
      {
       "output_type": "stream",
       "stream": "stdout",
       "text": [
        "\n",
        "http://www.nytimes.com/aponline/2013/09/20/arts/ap-eu-italy-milan-fashion-week-tods.html"
       ]
      },
      {
       "output_type": "stream",
       "stream": "stdout",
       "text": [
        "\n",
        "http://www.nytimes.com/aponline/2013/09/20/us/ap-us-navy-yard-shooting-seattle.html"
       ]
      },
      {
       "output_type": "stream",
       "stream": "stdout",
       "text": [
        "\n",
        "http://www.nytimes.com/reuters/2013/09/20/sports/soccer/20reuters-soccer-spain-atletico.html"
       ]
      },
      {
       "output_type": "stream",
       "stream": "stdout",
       "text": [
        "\n",
        "http://www.nytimes.com/aponline/2013/09/20/us/ap-us-ohio-mobile-home-fire.html"
       ]
      },
      {
       "output_type": "stream",
       "stream": "stdout",
       "text": [
        "\n",
        "http://www.nytimes.com/aponline/2013/09/20/us/ap-us-whitey-bulger.html"
       ]
      },
      {
       "output_type": "stream",
       "stream": "stdout",
       "text": [
        "\n",
        "http://www.nytimes.com/aponline/2013/09/20/us/ap-us-travel-brief-flight-93-memorial.html"
       ]
      },
      {
       "output_type": "stream",
       "stream": "stdout",
       "text": [
        "\n",
        "http://www.nytimes.com/aponline/2013/09/20/business/ap-us-wall-street-stocks.html"
       ]
      },
      {
       "output_type": "stream",
       "stream": "stdout",
       "text": [
        "\n",
        "http://www.nytimes.com/reuters/2013/09/20/sports/soccer/20reuters-soccer-germany.html"
       ]
      },
      {
       "output_type": "stream",
       "stream": "stdout",
       "text": [
        "\n",
        "http://www.nytimes.com/aponline/2013/09/20/us/ap-us-travel-brief-airline-merger-lawsuit.html"
       ]
      },
      {
       "output_type": "stream",
       "stream": "stdout",
       "text": [
        "\n",
        "http://www.nytimes.com/reuters/2013/09/20/sports/soccer/20reuters-soccer-argentina-hooligans.html"
       ]
      },
      {
       "output_type": "stream",
       "stream": "stdout",
       "text": [
        "\n",
        "http://www.nytimes.com/aponline/2013/09/20/us/ap-us-travel-brief-harper-lee-museum.html"
       ]
      },
      {
       "output_type": "stream",
       "stream": "stdout",
       "text": [
        "\n",
        "http://www.nytimes.com/aponline/2013/09/20/us/ap-us-boston-marathon-bombing-florida.html"
       ]
      },
      {
       "output_type": "stream",
       "stream": "stdout",
       "text": [
        "\n",
        "http://www.nytimes.com/reuters/2013/09/20/world/middleeast/20reuters-turkey-attack.html"
       ]
      },
      {
       "output_type": "stream",
       "stream": "stdout",
       "text": [
        "\n",
        "http://www.nytimes.com/aponline/2013/09/20/business/ap-us-smithfield-foods-starboard-summary-box.html"
       ]
      },
      {
       "output_type": "stream",
       "stream": "stdout",
       "text": [
        "\n",
        "http://www.nytimes.com/aponline/2013/09/20/sports/football/ap-fbn-titans-battle-fined.html"
       ]
      },
      {
       "output_type": "stream",
       "stream": "stdout",
       "text": [
        "\n",
        "http://www.nytimes.com/aponline/2013/09/20/sports/golf/ap-glf-tour-championship-woods.html"
       ]
      },
      {
       "output_type": "stream",
       "stream": "stdout",
       "text": [
        "\n",
        "http://www.nytimes.com/aponline/2013/09/20/us/ap-us-missing-vehicles-bodies.html"
       ]
      },
      {
       "output_type": "stream",
       "stream": "stdout",
       "text": [
        "\n",
        "http://www.nytimes.com/reuters/2013/09/20/sports/soccer/20reuters-soccer-fifa-africa.html"
       ]
      },
      {
       "output_type": "stream",
       "stream": "stdout",
       "text": [
        "\n",
        "http://www.nytimes.com/reuters/2013/09/20/sports/golf/20reuters-golf-pga.html"
       ]
      },
      {
       "output_type": "stream",
       "stream": "stdout",
       "text": [
        "\n",
        "http://www.nytimes.com/aponline/2013/09/20/us/ap-us-wall-street-close.html"
       ]
      },
      {
       "output_type": "stream",
       "stream": "stdout",
       "text": [
        "\n",
        "http://www.nytimes.com/reuters/2013/09/20/business/20reuters-rocket-fuel-ipo.html"
       ]
      },
      {
       "output_type": "stream",
       "stream": "stdout",
       "text": [
        "\n",
        "http://www.nytimes.com/reuters/2013/09/20/business/20reuters-blackberry-warning-minister.html"
       ]
      },
      {
       "output_type": "stream",
       "stream": "stdout",
       "text": [
        "\n",
        "http://www.nytimes.com/aponline/2013/09/20/us/ap-us-united-states-iran-glance.html"
       ]
      },
      {
       "output_type": "stream",
       "stream": "stdout",
       "text": [
        "\n",
        "http://www.nytimes.com/reuters/2013/09/20/us/20reuters-usa-guantanamo-cable.html"
       ]
      },
      {
       "output_type": "stream",
       "stream": "stdout",
       "text": [
        "\n",
        "http://www.nytimes.com/reuters/2013/09/20/business/20reuters-colombia-refinery-strike.html"
       ]
      },
      {
       "output_type": "stream",
       "stream": "stdout",
       "text": [
        "\n",
        "http://www.nytimes.com/aponline/2013/09/20/business/ap-us-ipo-preview.html"
       ]
      },
      {
       "output_type": "stream",
       "stream": "stdout",
       "text": [
        "\n",
        "http://www.nytimes.com/aponline/2013/09/20/business/ap-us-gov-finances.html"
       ]
      },
      {
       "output_type": "stream",
       "stream": "stdout",
       "text": [
        "\n",
        "http://www.nytimes.com/aponline/2013/09/20/world/americas/ap-cb-turks-and-caicos-corruption.html"
       ]
      },
      {
       "output_type": "stream",
       "stream": "stdout",
       "text": [
        "\n",
        "http://www.nytimes.com/aponline/2013/09/20/sports/ncaafootball/ap-fbc-tennessee-foster.html"
       ]
      },
      {
       "output_type": "stream",
       "stream": "stdout",
       "text": [
        "\n",
        "http://www.nytimes.com/reuters/2013/09/20/business/20reuters-usa-bank-mailings.html"
       ]
      },
      {
       "output_type": "stream",
       "stream": "stdout",
       "text": [
        "\n",
        "http://www.nytimes.com/aponline/2013/09/20/world/americas/ap-lt-peru-cat-eaters.html"
       ]
      },
      {
       "output_type": "stream",
       "stream": "stdout",
       "text": [
        "\n",
        "http://www.nytimes.com/aponline/2013/09/20/us/ap-us-harper-lee-museum.html"
       ]
      },
      {
       "output_type": "stream",
       "stream": "stdout",
       "text": [
        "\n",
        "http://www.nytimes.com/aponline/2013/09/20/us/ap-us-sex-abuse-peters-husband.html"
       ]
      },
      {
       "output_type": "stream",
       "stream": "stdout",
       "text": [
        "\n",
        "http://www.nytimes.com/aponline/2013/09/20/world/middleeast/ap-ml-egypt-syria.html"
       ]
      },
      {
       "output_type": "stream",
       "stream": "stdout",
       "text": [
        "\n",
        "http://www.nytimes.com/reuters/2013/09/20/business/20reuters-usa-fed.html"
       ]
      },
      {
       "output_type": "stream",
       "stream": "stdout",
       "text": [
        "\n",
        "http://www.nytimes.com/reuters/2013/09/20/arts/20reuters-emmys-gameofthrones.html"
       ]
      },
      {
       "output_type": "stream",
       "stream": "stdout",
       "text": [
        "\n",
        "http://www.nytimes.com/aponline/2013/09/20/us/politics/ap-us-obama-un.html"
       ]
      },
      {
       "output_type": "stream",
       "stream": "stdout",
       "text": [
        "\n",
        "http://www.nytimes.com/aponline/2013/09/20/technology/ap-cn-tec-blackberry-layoffs.html"
       ]
      },
      {
       "output_type": "stream",
       "stream": "stdout",
       "text": [
        "\n",
        "http://www.nytimes.com/reuters/2013/09/20/technology/20reuters-apple-iphone-scuffles.html"
       ]
      },
      {
       "output_type": "stream",
       "stream": "stdout",
       "text": [
        "\n",
        "http://www.nytimes.com/aponline/2013/09/20/us/ap-us-colorado-flooding-roads.html"
       ]
      },
      {
       "output_type": "stream",
       "stream": "stdout",
       "text": [
        "\n",
        "http://www.nytimes.com/aponline/2013/09/20/us/politics/ap-us-budget-battle-gop-goals.html"
       ]
      },
      {
       "output_type": "stream",
       "stream": "stdout",
       "text": [
        "\n",
        "http://www.nytimes.com/reuters/2013/09/20/business/20reuters-blackberry-results.html"
       ]
      },
      {
       "output_type": "stream",
       "stream": "stdout",
       "text": [
        "\n",
        "http://www.nytimes.com/reuters/2013/09/20/world/middleeast/20reuters-syria-crisis-france-iran.html"
       ]
      },
      {
       "output_type": "stream",
       "stream": "stdout",
       "text": [
        "\n",
        "http://www.nytimes.com/aponline/2013/09/20/world/americas/ap-lt-argentina-priest-abuse.html"
       ]
      },
      {
       "output_type": "stream",
       "stream": "stdout",
       "text": [
        "\n",
        "http://www.nytimes.com/reuters/2013/09/20/world/middleeast/20reuters-usa-palestinians-obama.html"
       ]
      },
      {
       "output_type": "stream",
       "stream": "stdout",
       "text": [
        "\n",
        "http://www.nytimes.com/reuters/2013/09/20/us/20reuters-usa-georgia-kidnap.html"
       ]
      },
      {
       "output_type": "stream",
       "stream": "stdout",
       "text": [
        "\n",
        "http://www.nytimes.com/reuters/2013/09/20/business/20reuters-blackberry-warning.html"
       ]
      },
      {
       "output_type": "stream",
       "stream": "stdout",
       "text": [
        "\n",
        "http://www.nytimes.com/reuters/2013/09/20/world/europe/20reuters-versace-stake.html"
       ]
      },
      {
       "output_type": "stream",
       "stream": "stdout",
       "text": [
        "\n",
        "http://www.nytimes.com/aponline/2013/09/20/world/middleeast/ap-ml-israel-french-diplomat.html"
       ]
      },
      {
       "output_type": "stream",
       "stream": "stdout",
       "text": [
        "\n",
        "http://www.nytimes.com/reuters/2013/09/20/sports/soccer/20reuters-soccer-uefa-finance.html"
       ]
      },
      {
       "output_type": "stream",
       "stream": "stdout",
       "text": [
        "\n",
        "http://www.nytimes.com/aponline/2013/09/20/business/ap-us-airline-merger-lawsuit.html"
       ]
      },
      {
       "output_type": "stream",
       "stream": "stdout",
       "text": [
        "\n",
        "http://www.nytimes.com/reuters/2013/09/20/world/americas/20reuters-venezuela-police.html"
       ]
      },
      {
       "output_type": "stream",
       "stream": "stdout",
       "text": [
        "\n",
        "http://www.nytimes.com/reuters/2013/09/20/world/europe/20reuters-italy-trafficking.html"
       ]
      },
      {
       "output_type": "stream",
       "stream": "stdout",
       "text": [
        "\n",
        "http://www.nytimes.com/reuters/2013/09/20/technology/20reuters-blackberry-halt.html"
       ]
      },
      {
       "output_type": "stream",
       "stream": "stdout",
       "text": [
        "\n",
        "http://www.nytimes.com/reuters/2013/09/20/us/20reuters-for-biden-mexicos-endless-allure.html"
       ]
      },
      {
       "output_type": "stream",
       "stream": "stdout",
       "text": [
        "\n",
        "http://www.nytimes.com/reuters/2013/09/20/us/politics/20reuters-usa-security-transparency-congress.html"
       ]
      },
      {
       "output_type": "stream",
       "stream": "stdout",
       "text": [
        "\n",
        "http://www.nytimes.com/reuters/2013/09/20/business/20reuters-usa-fed-poll-economists.html"
       ]
      },
      {
       "output_type": "stream",
       "stream": "stdout",
       "text": [
        "\n",
        "http://www.nytimes.com/reuters/2013/09/20/world/asia/20reuters-usa-india-nuclear.html"
       ]
      },
      {
       "output_type": "stream",
       "stream": "stdout",
       "text": [
        "\n",
        "http://www.nytimes.com/reuters/2013/09/20/us/20reuters-stepping-up-to-the-plate.html"
       ]
      },
      {
       "output_type": "stream",
       "stream": "stdout",
       "text": [
        "\n",
        "http://www.nytimes.com/aponline/2013/09/20/us/politics/ap-us-food-stamps-news-guide.html"
       ]
      },
      {
       "output_type": "stream",
       "stream": "stdout",
       "text": [
        "\n",
        "http://www.nytimes.com/aponline/2013/09/20/us/ap-commodities-review.html"
       ]
      },
      {
       "output_type": "stream",
       "stream": "stdout",
       "text": [
        "\n",
        "http://www.nytimes.com/aponline/2013/09/20/us/ap-us-italian-consulate-nj.html"
       ]
      },
      {
       "output_type": "stream",
       "stream": "stdout",
       "text": [
        "\n",
        "http://www.nytimes.com/reuters/2013/09/20/us/20reuters-britain-religion.html"
       ]
      },
      {
       "output_type": "stream",
       "stream": "stdout",
       "text": [
        "\n",
        "http://www.nytimes.com/reuters/2013/09/20/business/20reuters-sec-akamai-taylor-rajaratnam.html"
       ]
      },
      {
       "output_type": "stream",
       "stream": "stdout",
       "text": [
        "\n",
        "http://www.nytimes.com/aponline/2013/09/20/world/americas/ap-cb-guantanamo-sept-11-trial.html"
       ]
      },
      {
       "output_type": "stream",
       "stream": "stdout",
       "text": [
        "\n",
        "http://www.nytimes.com/reuters/2013/09/20/arts/20reuters-belgium-hitler.html"
       ]
      },
      {
       "output_type": "stream",
       "stream": "stdout",
       "text": [
        "\n",
        "http://www.nytimes.com/reuters/2013/09/20/sports/20reuters-americascup-rules-factbox.html"
       ]
      },
      {
       "output_type": "stream",
       "stream": "stdout",
       "text": [
        "\n",
        "http://www.nytimes.com/reuters/2013/09/20/sports/20reuters-sailing-americascup.html"
       ]
      },
      {
       "output_type": "stream",
       "stream": "stdout",
       "text": [
        "\n",
        "http://www.nytimes.com/aponline/2013/09/20/us/ap-us-missing-women-found-suicide.html"
       ]
      },
      {
       "output_type": "stream",
       "stream": "stdout",
       "text": [
        "\n",
        "http://www.nytimes.com/reuters/2013/09/20/world/middleeast/20reuters-syria-crisis-unicef.html"
       ]
      },
      {
       "output_type": "stream",
       "stream": "stdout",
       "text": [
        "\n",
        "http://www.nytimes.com/reuters/2013/09/20/world/africa/20reuters-tunisia-politics.html"
       ]
      },
      {
       "output_type": "stream",
       "stream": "stdout",
       "text": [
        "\n",
        "http://www.nytimes.com/reuters/2013/09/20/business/20reuters-americanairlines-usairways-justice.html"
       ]
      },
      {
       "output_type": "stream",
       "stream": "stdout",
       "text": [
        "\n",
        "http://www.nytimes.com/reuters/2013/09/20/us/politics/20reuters-usa-fiscal-crisis-obama.html"
       ]
      },
      {
       "output_type": "stream",
       "stream": "stdout",
       "text": [
        "\n",
        "http://www.nytimes.com/reuters/2013/09/20/sports/soccer/20reuters-soccer-world-mexico.html"
       ]
      },
      {
       "output_type": "stream",
       "stream": "stdout",
       "text": [
        "\n",
        "http://www.nytimes.com/aponline/2013/09/20/business/ap-us-moodys-report-gambling.html"
       ]
      },
      {
       "output_type": "stream",
       "stream": "stdout",
       "text": [
        "\n",
        "http://www.nytimes.com/aponline/2013/09/20/us/politics/ap-us-fed-bullard.html"
       ]
      },
      {
       "output_type": "stream",
       "stream": "stdout",
       "text": [
        "\n",
        "http://www.nytimes.com/reuters/2013/09/20/sports/basketball/20reuters-basketball-euro-lithuania.html"
       ]
      },
      {
       "output_type": "stream",
       "stream": "stdout",
       "text": [
        "\n",
        "http://www.nytimes.com/reuters/2013/09/20/sports/20reuters-motor-racing-prix-costs.html"
       ]
      },
      {
       "output_type": "stream",
       "stream": "stdout",
       "text": [
        "\n",
        "http://www.nytimes.com/reuters/2013/09/20/business/20reuters-allegiant-planes.html"
       ]
      },
      {
       "output_type": "stream",
       "stream": "stdout",
       "text": [
        "\n",
        "http://www.nytimes.com/aponline/2013/09/20/us/ap-cb-travel-brief-guyana-plane-crash.html"
       ]
      },
      {
       "output_type": "stream",
       "stream": "stdout",
       "text": [
        "\n",
        "http://www.nytimes.com/aponline/2013/09/20/us/ap-us-travel-brief-dfw-airport-parking-control.html"
       ]
      },
      {
       "output_type": "stream",
       "stream": "stdout",
       "text": [
        "\n",
        "http://www.nytimes.com/aponline/2013/09/20/us/ap-eu-travel-ireland-ryanair.html"
       ]
      },
      {
       "output_type": "stream",
       "stream": "stdout",
       "text": [
        "\n",
        "http://www.nytimes.com/aponline/2013/09/20/arts/ap-us-mack-maine-arrest.html"
       ]
      },
      {
       "output_type": "stream",
       "stream": "stdout",
       "text": [
        "\n",
        "http://www.nytimes.com/aponline/2013/09/20/us/ap-us-travel-allegiant-airlines-slide-inspections.html"
       ]
      },
      {
       "output_type": "stream",
       "stream": "stdout",
       "text": [
        "\n",
        "http://www.nytimes.com/reuters/2013/09/20/business/20reuters-usa-housing.html"
       ]
      },
      {
       "output_type": "stream",
       "stream": "stdout",
       "text": [
        "\n",
        "http://www.nytimes.com/reuters/2013/09/20/world/africa/20reuters-nigeria-violence-toll.html"
       ]
      },
      {
       "output_type": "stream",
       "stream": "stdout",
       "text": [
        "\n",
        "http://www.nytimes.com/aponline/2013/09/20/world/americas/ap-cb-cuba-cow-quadruplets.html"
       ]
      },
      {
       "output_type": "stream",
       "stream": "stdout",
       "text": [
        "\n",
        "http://www.nytimes.com/reuters/2013/09/20/sports/rugby/20reuters-viagogo-australia.html"
       ]
      },
      {
       "output_type": "stream",
       "stream": "stdout",
       "text": [
        "\n",
        "http://www.nytimes.com/aponline/2013/09/20/us/ap-us-travel-brief-new-mexico-storm-monuments.html"
       ]
      },
      {
       "output_type": "stream",
       "stream": "stdout",
       "text": [
        "\n",
        "http://www.nytimes.com/aponline/2013/09/20/us/ap-il-chicago-violence-common.html"
       ]
      },
      {
       "output_type": "stream",
       "stream": "stdout",
       "text": [
        "\n",
        "http://www.nytimes.com/reuters/2013/09/20/sports/soccer/20reuters-soccer-world-ukraine-racism.html"
       ]
      },
      {
       "output_type": "stream",
       "stream": "stdout",
       "text": [
        "\n",
        "http://www.nytimes.com/aponline/2013/09/20/us/ap-us-bodies-in-vehicle.html"
       ]
      },
      {
       "output_type": "stream",
       "stream": "stdout",
       "text": [
        "\n",
        "http://www.nytimes.com/aponline/2013/09/20/us/ap-us-new-iphones-violence.html"
       ]
      },
      {
       "output_type": "stream",
       "stream": "stdout",
       "text": [
        "\n",
        "http://www.nytimes.com/aponline/2013/09/20/business/ap-us-ex-akamai-exec-insider-trading.html"
       ]
      },
      {
       "output_type": "stream",
       "stream": "stdout",
       "text": [
        "\n",
        "http://www.nytimes.com/reuters/2013/09/20/us/politics/20reuters-usa-fiscal-indiana.html"
       ]
      },
      {
       "output_type": "stream",
       "stream": "stdout",
       "text": [
        "\n",
        "http://www.nytimes.com/aponline/2013/09/20/sports/baseball/ap-bba-riveras-hometown.html"
       ]
      },
      {
       "output_type": "stream",
       "stream": "stdout",
       "text": [
        "\n",
        "http://www.nytimes.com/aponline/2013/09/20/us/ap-us-colorado-flooding-counting-the-missing.html"
       ]
      },
      {
       "output_type": "stream",
       "stream": "stdout",
       "text": [
        "\n",
        "http://www.nytimes.com/reuters/2013/09/20/business/20reuters-usa-fed-george.html"
       ]
      },
      {
       "output_type": "stream",
       "stream": "stdout",
       "text": [
        "\n",
        "http://www.nytimes.com/reuters/2013/09/20/business/20reuters-sony-thirdpoint.html"
       ]
      },
      {
       "output_type": "stream",
       "stream": "stdout",
       "text": [
        "\n",
        "http://www.nytimes.com/aponline/2013/09/20/us/politics/ap-us-immigration.html"
       ]
      },
      {
       "output_type": "stream",
       "stream": "stdout",
       "text": [
        "\n",
        "http://www.nytimes.com/aponline/2013/09/20/us/politics/ap-us-navy-yard-shooting-radios.html"
       ]
      },
      {
       "output_type": "stream",
       "stream": "stdout",
       "text": [
        "\n",
        "http://www.nytimes.com/aponline/2013/09/20/business/ap-us-rig-count.html"
       ]
      },
      {
       "output_type": "stream",
       "stream": "stdout",
       "text": [
        "\n",
        "http://www.nytimes.com/aponline/2013/09/20/us/ap-us-slavery-re-enactment.html"
       ]
      },
      {
       "output_type": "stream",
       "stream": "stdout",
       "text": [
        "\n",
        "http://www.nytimes.com/reuters/2013/09/20/sports/soccer/20reuters-soccer-france-psg-monaco.html"
       ]
      },
      {
       "output_type": "stream",
       "stream": "stdout",
       "text": [
        "\n",
        "http://www.nytimes.com/reuters/2013/09/20/business/20reuters-usa-fed-kocherlakota.html"
       ]
      },
      {
       "output_type": "stream",
       "stream": "stdout",
       "text": [
        "\n",
        "http://www.nytimes.com/reuters/2013/09/20/world/africa/20reuters-swaziland-elections.html"
       ]
      },
      {
       "output_type": "stream",
       "stream": "stdout",
       "text": [
        "\n",
        "http://www.nytimes.com/reuters/2013/09/20/world/europe/20reuters-pope-interview.html"
       ]
      },
      {
       "output_type": "stream",
       "stream": "stdout",
       "text": [
        "\n",
        "http://www.nytimes.com/reuters/2013/09/20/technology/20reuters-spain-piracy.html"
       ]
      },
      {
       "output_type": "stream",
       "stream": "stdout",
       "text": [
        "\n",
        "http://www.nytimes.com/reuters/2013/09/20/sports/baseball/20reuters-baseball-yankees-pettitte.html"
       ]
      },
      {
       "output_type": "stream",
       "stream": "stdout",
       "text": [
        "\n",
        "http://www.nytimes.com/reuters/2013/09/20/business/20reuters-usa-states-employment.html"
       ]
      },
      {
       "output_type": "stream",
       "stream": "stdout",
       "text": [
        "\n",
        "http://www.nytimes.com/aponline/2013/09/20/sports/tennis/ap-ten-st-petersburg.html"
       ]
      },
      {
       "output_type": "stream",
       "stream": "stdout",
       "text": [
        "\n",
        "http://www.nytimes.com/aponline/2013/09/20/sports/ap-car-grand-am-schedule.html"
       ]
      },
      {
       "output_type": "stream",
       "stream": "stdout",
       "text": [
        "\n",
        "http://www.nytimes.com/aponline/2013/09/20/world/europe/ap-eu-germany-us-nazi-resister.html"
       ]
      },
      {
       "output_type": "stream",
       "stream": "stdout",
       "text": [
        "\n",
        "http://www.nytimes.com/aponline/2013/09/20/sports/baseball/ap-bbn-braves-heyward.html"
       ]
      },
      {
       "output_type": "stream",
       "stream": "stdout",
       "text": [
        "\n",
        "http://www.nytimes.com/aponline/2013/09/20/science/ap-us-sci-arctic-sea-ice.html"
       ]
      },
      {
       "output_type": "stream",
       "stream": "stdout",
       "text": [
        "\n",
        "http://www.nytimes.com/reuters/2013/09/20/us/20reuters-usa-crime-jackson.html"
       ]
      },
      {
       "output_type": "stream",
       "stream": "stdout",
       "text": [
        "\n",
        "http://www.nytimes.com/aponline/2013/09/20/us/ap-us-father-son-killed-within-days.html"
       ]
      },
      {
       "output_type": "stream",
       "stream": "stdout",
       "text": [
        "\n",
        "http://www.nytimes.com/aponline/2013/09/20/world/middleeast/ap-ml-iraq-iranian-exiles.html"
       ]
      },
      {
       "output_type": "stream",
       "stream": "stdout",
       "text": [
        "\n",
        "http://www.nytimes.com/reuters/2013/09/20/sports/autoracing/20reuters-motor-racing-prix-lotus.html"
       ]
      },
      {
       "output_type": "stream",
       "stream": "stdout",
       "text": [
        "\n",
        "http://www.nytimes.com/reuters/2013/09/20/world/europe/20reuters-russia-surkov.html"
       ]
      },
      {
       "output_type": "stream",
       "stream": "stdout",
       "text": [
        "\n",
        "http://www.nytimes.com/reuters/2013/09/20/business/20reuters-ireland-eu-and-imf-hammer-out-details-of-ban.html"
       ]
      },
      {
       "output_type": "stream",
       "stream": "stdout",
       "text": [
        "\n",
        "http://www.nytimes.com/aponline/2013/09/20/us/ap-us-airline-apologizes.html"
       ]
      },
      {
       "output_type": "stream",
       "stream": "stdout",
       "text": [
        "\n",
        "http://www.nytimes.com/reuters/2013/09/20/sports/golf/20reuters-golf-pga-stenson-woods.html"
       ]
      },
      {
       "output_type": "stream",
       "stream": "stdout",
       "text": [
        "\n",
        "http://www.nytimes.com/aponline/2013/09/20/world/europe/ap-eu-italy-milan-fashion-week-etro.html"
       ]
      },
      {
       "output_type": "stream",
       "stream": "stdout",
       "text": [
        "\n",
        "http://www.nytimes.com/aponline/2013/09/20/sports/football/ap-fbn-49ers-aldon-smith-dui-arrest.html"
       ]
      },
      {
       "output_type": "stream",
       "stream": "stdout",
       "text": [
        "\n",
        "http://www.nytimes.com/aponline/2013/09/20/us/ap-us-terror-training-suspect.html"
       ]
      },
      {
       "output_type": "stream",
       "stream": "stdout",
       "text": [
        "\n",
        "http://www.nytimes.com/aponline/2013/09/20/world/europe/ap-eu-hungary-suleimans-heart.html"
       ]
      },
      {
       "output_type": "stream",
       "stream": "stdout",
       "text": [
        "\n",
        "http://www.nytimes.com/reuters/2013/09/20/arts/20reuters-theater-orlandobloom.html"
       ]
      },
      {
       "output_type": "stream",
       "stream": "stdout",
       "text": [
        "\n",
        "http://www.nytimes.com/aponline/2013/09/20/technology/ap-us-tec-apple-iphone-fingerprint-security.html"
       ]
      },
      {
       "output_type": "stream",
       "stream": "stdout",
       "text": [
        "\n",
        "http://www.nytimes.com/aponline/2013/09/20/us/ap-us-paul-ryan-nh.html"
       ]
      },
      {
       "output_type": "stream",
       "stream": "stdout",
       "text": [
        "\n",
        "http://www.nytimes.com/reuters/2013/09/20/world/europe/20reuters-vatican-bank-prelate.html"
       ]
      },
      {
       "output_type": "stream",
       "stream": "stdout",
       "text": [
        "\n",
        "http://www.nytimes.com/aponline/2013/09/20/world/europe/ap-eu-britain-politics.html"
       ]
      },
      {
       "output_type": "stream",
       "stream": "stdout",
       "text": [
        "\n",
        "http://www.nytimes.com/reuters/2013/09/20/arts/20reuters-clash.html"
       ]
      },
      {
       "output_type": "stream",
       "stream": "stdout",
       "text": [
        "\n",
        "http://www.nytimes.com/reuters/2013/09/20/arts/20reuters-russia-gomez.html"
       ]
      },
      {
       "output_type": "stream",
       "stream": "stdout",
       "text": [
        "\n",
        "http://www.nytimes.com/aponline/2013/09/20/us/politics/ap-us-logging-congress.html"
       ]
      },
      {
       "output_type": "stream",
       "stream": "stdout",
       "text": [
        "\n",
        "http://www.nytimes.com/reuters/2013/09/20/world/africa/20reuters-usa-saudi-princess.html"
       ]
      },
      {
       "output_type": "stream",
       "stream": "stdout",
       "text": [
        "\n",
        "http://www.nytimes.com/aponline/2013/09/20/us/politics/ap-us-bin-laden-burial.html"
       ]
      },
      {
       "output_type": "stream",
       "stream": "stdout",
       "text": [
        "\n",
        "http://www.nytimes.com/aponline/2013/09/20/us/ap-us-army-veteran-syria.html"
       ]
      },
      {
       "output_type": "stream",
       "stream": "stdout",
       "text": [
        "\n",
        "http://www.nytimes.com/reuters/2013/09/20/us/politics/20reuters-feds-tarullo.html"
       ]
      },
      {
       "output_type": "stream",
       "stream": "stdout",
       "text": [
        "\n",
        "http://www.nytimes.com/aponline/2013/09/20/us/ap-us-alaska-double-rescue.html"
       ]
      },
      {
       "output_type": "stream",
       "stream": "stdout",
       "text": [
        "\n",
        "http://www.nytimes.com/reuters/2013/09/20/business/20reuters-brazil-debt-schroders.html"
       ]
      },
      {
       "output_type": "stream",
       "stream": "stdout",
       "text": [
        "\n",
        "http://www.nytimes.com/aponline/2013/09/20/sports/baseball/ap-bba-yankees-pettitte-retires.html"
       ]
      },
      {
       "output_type": "stream",
       "stream": "stdout",
       "text": [
        "\n",
        "http://www.nytimes.com/aponline/2013/09/20/us/ap-us-graphing-calculator-thefts.html"
       ]
      },
      {
       "output_type": "stream",
       "stream": "stdout",
       "text": [
        "\n",
        "http://www.nytimes.com/reuters/2013/09/20/us/20reuters-taketwo-gta.html"
       ]
      },
      {
       "output_type": "stream",
       "stream": "stdout",
       "text": [
        "\n",
        "http://www.nytimes.com/reuters/2013/09/20/world/middleeast/20reuters-usa-iran-talks.html"
       ]
      },
      {
       "output_type": "stream",
       "stream": "stdout",
       "text": [
        "\n",
        "http://www.nytimes.com/reuters/2013/09/20/world/middleeast/20reuters-syria-crisis-aid.html"
       ]
      },
      {
       "output_type": "stream",
       "stream": "stdout",
       "text": [
        "\n",
        "http://www.nytimes.com/aponline/2013/09/20/sports/tennis/ap-ten-metz.html"
       ]
      },
      {
       "output_type": "stream",
       "stream": "stdout",
       "text": [
        "\n",
        "http://www.nytimes.com/aponline/2013/09/20/arts/ap-us-theater-chita-rivera.html"
       ]
      },
      {
       "output_type": "stream",
       "stream": "stdout",
       "text": [
        "\n",
        "http://www.nytimes.com/aponline/2013/09/20/us/ap-us-professors-tweet.html"
       ]
      },
      {
       "output_type": "stream",
       "stream": "stdout",
       "text": [
        "\n",
        "http://www.nytimes.com/reuters/2013/09/20/world/europe/20reuters-wine-harvests.html"
       ]
      },
      {
       "output_type": "stream",
       "stream": "stdout",
       "text": [
        "\n",
        "http://www.nytimes.com/aponline/2013/09/20/us/ap-us-wall-street-midday.html"
       ]
      },
      {
       "output_type": "stream",
       "stream": "stdout",
       "text": [
        "\n",
        "http://www.nytimes.com/aponline/2013/09/20/us/ap-us-20-year-fugitive-philippines.html"
       ]
      },
      {
       "output_type": "stream",
       "stream": "stdout",
       "text": [
        "\n",
        "http://www.nytimes.com/reuters/2013/09/20/business/20reuters-niger-areva.html"
       ]
      },
      {
       "output_type": "stream",
       "stream": "stdout",
       "text": [
        "\n",
        "http://www.nytimes.com/aponline/2013/09/20/us/ap-us-eating-for-education.html"
       ]
      },
      {
       "output_type": "stream",
       "stream": "stdout",
       "text": [
        "\n",
        "http://www.nytimes.com/reuters/2013/09/20/us/20reuters-column-karabell.html"
       ]
      },
      {
       "output_type": "stream",
       "stream": "stdout",
       "text": [
        "\n",
        "http://www.nytimes.com/aponline/2013/09/20/world/africa/ap-af-ivory-coast-simone-gbagbo.html"
       ]
      },
      {
       "output_type": "stream",
       "stream": "stdout",
       "text": [
        "\n",
        "http://www.nytimes.com/aponline/2013/09/20/us/politics/ap-us-va-health-commission.html"
       ]
      },
      {
       "output_type": "stream",
       "stream": "stdout",
       "text": [
        "\n",
        "http://www.nytimes.com/reuters/2013/09/20/world/europe/20reuters-italy-knox.html"
       ]
      },
      {
       "output_type": "stream",
       "stream": "stdout",
       "text": [
        "\n",
        "http://www.nytimes.com/reuters/2013/09/20/business/20reuters-wto-negotiations.html"
       ]
      },
      {
       "output_type": "stream",
       "stream": "stdout",
       "text": [
        "\n",
        "http://www.nytimes.com/aponline/2013/09/20/world/europe/ap-eu-britain-fatal-attraction.html"
       ]
      },
      {
       "output_type": "stream",
       "stream": "stdout",
       "text": [
        "\n",
        "http://www.nytimes.com/reuters/2013/09/20/business/20reuters-mps-capitalhike.html"
       ]
      },
      {
       "output_type": "stream",
       "stream": "stdout",
       "text": [
        "\n",
        "http://www.nytimes.com/reuters/2013/09/20/business/20reuters-autos-europe-japan-korea.html"
       ]
      },
      {
       "output_type": "stream",
       "stream": "stdout",
       "text": [
        "\n",
        "http://www.nytimes.com/reuters/2013/09/20/world/europe/20reuters-germany-election-poll-emnid.html"
       ]
      },
      {
       "output_type": "stream",
       "stream": "stdout",
       "text": [
        "\n",
        "http://www.nytimes.com/aponline/2013/09/20/world/africa/ap-af-somalia-real-estate-boom.html"
       ]
      },
      {
       "output_type": "stream",
       "stream": "stdout",
       "text": [
        "\n",
        "http://www.nytimes.com/aponline/2013/09/20/world/asia/ap-as-pakistan-afghanistan.html"
       ]
      },
      {
       "output_type": "stream",
       "stream": "stdout",
       "text": [
        "\n",
        "http://www.nytimes.com/aponline/2013/09/20/sports/hockey/ap-hkn-capitals-winter-classic.html"
       ]
      },
      {
       "output_type": "stream",
       "stream": "stdout",
       "text": [
        "\n",
        "http://www.nytimes.com/reuters/2013/09/20/sports/cricket/20reuters-cricket-england-surrey.html"
       ]
      },
      {
       "output_type": "stream",
       "stream": "stdout",
       "text": [
        "\n",
        "http://www.nytimes.com/reuters/2013/09/20/sports/soccer/20reuters-soccer-england-united.html"
       ]
      },
      {
       "output_type": "stream",
       "stream": "stdout",
       "text": [
        "\n",
        "http://www.nytimes.com/reuters/2013/09/20/world/asia/20reuters-korea-north-iaea.html"
       ]
      },
      {
       "output_type": "stream",
       "stream": "stdout",
       "text": [
        "\n",
        "http://www.nytimes.com/aponline/2013/09/20/sports/ap-car-f1-singapore-gp.html"
       ]
      },
      {
       "output_type": "stream",
       "stream": "stdout",
       "text": [
        "\n",
        "http://www.nytimes.com/reuters/2013/09/20/business/20reuters-nuclear-britain-sellafield.html"
       ]
      },
      {
       "output_type": "stream",
       "stream": "stdout",
       "text": [
        "\n",
        "http://www.nytimes.com/aponline/2013/09/20/business/ap-us-bind-therapeutics-ipo.html"
       ]
      },
      {
       "output_type": "stream",
       "stream": "stdout",
       "text": [
        "\n",
        "http://www.nytimes.com/aponline/2013/09/20/business/ap-us-allegiant-air-inspections.html"
       ]
      },
      {
       "output_type": "stream",
       "stream": "stdout",
       "text": [
        "\n",
        "http://www.nytimes.com/reuters/2013/09/20/arts/20reuters-apple-iphone.html"
       ]
      },
      {
       "output_type": "stream",
       "stream": "stdout",
       "text": [
        "\n",
        "http://www.nytimes.com/reuters/2013/09/20/business/20reuters-coop-restructuring.html"
       ]
      },
      {
       "output_type": "stream",
       "stream": "stdout",
       "text": [
        "\n",
        "http://www.nytimes.com/aponline/2013/09/20/business/ap-us-fireeye-ipo.html"
       ]
      },
      {
       "output_type": "stream",
       "stream": "stdout",
       "text": [
        "\n",
        "http://www.nytimes.com/reuters/2013/09/20/business/20reuters-lvmh-kirkwood.html"
       ]
      },
      {
       "output_type": "stream",
       "stream": "stdout",
       "text": [
        "\n",
        "http://www.nytimes.com/aponline/2013/09/20/science/ap-us-sci-comet-buster.html"
       ]
      },
      {
       "output_type": "stream",
       "stream": "stdout",
       "text": [
        "\n",
        "http://www.nytimes.com/reuters/2013/09/20/world/asia/20reuters-pakistan-afghanistan.html"
       ]
      },
      {
       "output_type": "stream",
       "stream": "stdout",
       "text": [
        "\n",
        "http://www.nytimes.com/aponline/2013/09/20/us/ap-us-jesse-jackson-jr-auction.html"
       ]
      },
      {
       "output_type": "stream",
       "stream": "stdout",
       "text": [
        "\n",
        "http://query.nytimes.com/gst/fullpage.html?res=9805E6DA123AF933A1575AC0A9659D8B63"
       ]
      },
      {
       "output_type": "stream",
       "stream": "stdout",
       "text": [
        "\n",
        "http://query.nytimes.com/gst/fullpage.html?res=9E0CE7DA123AF933A1575AC0A9659D8B63"
       ]
      },
      {
       "output_type": "stream",
       "stream": "stdout",
       "text": [
        "\n",
        "http://query.nytimes.com/gst/fullpage.html?res=9D0DE7DA123AF933A1575AC0A9659D8B63"
       ]
      },
      {
       "output_type": "stream",
       "stream": "stdout",
       "text": [
        "\n",
        "http://query.nytimes.com/gst/fullpage.html?res=9C02E7DA123AF933A1575AC0A9659D8B63\n",
        "http://query.nytimes.com/gst/fullpage.html?res=9503E7DA123AF933A1575AC0A9659D8B63"
       ]
      },
      {
       "output_type": "stream",
       "stream": "stdout",
       "text": [
        "\n",
        "http://query.nytimes.com/gst/fullpage.html?res=9400E7DA123AF933A1575AC0A9659D8B63"
       ]
      },
      {
       "output_type": "stream",
       "stream": "stdout",
       "text": [
        "\n",
        "http://query.nytimes.com/gst/fullpage.html?res=9B01E7DA123AF933A1575AC0A9659D8B63\n",
        "http://query.nytimes.com/gst/fullpage.html?res=9A06E7DA123AF933A1575AC0A9659D8B63"
       ]
      },
      {
       "output_type": "stream",
       "stream": "stdout",
       "text": [
        "\n",
        "http://query.nytimes.com/gst/fullpage.html?res=9907E7DA123AF933A1575AC0A9659D8B63"
       ]
      },
      {
       "output_type": "stream",
       "stream": "stdout",
       "text": [
        "\n",
        "http://query.nytimes.com/gst/fullpage.html?res=9804E7DA123AF933A1575AC0A9659D8B63\n",
        "http://query.nytimes.com/gst/fullpage.html?res=9F05E7DA123AF933A1575AC0A9659D8B63"
       ]
      },
      {
       "output_type": "stream",
       "stream": "stdout",
       "text": [
        "\n",
        "http://query.nytimes.com/gst/fullpage.html?res=9C0CEEDB123AF933A1575AC0A9659D8B63"
       ]
      },
      {
       "output_type": "stream",
       "stream": "stdout",
       "text": [
        "\n",
        "http://query.nytimes.com/gst/fullpage.html?res=950DEEDB123AF933A1575AC0A9659D8B63"
       ]
      },
      {
       "output_type": "stream",
       "stream": "stdout",
       "text": [
        "\n",
        "http://www.nytimes.com/aponline/2013/09/19/world/asia/ap-as-india-economy.html\n",
        "http://www.nytimes.com/reuters/2013/09/19/technology/19reuters-usa-security-snowden-rsa.html"
       ]
      },
      {
       "output_type": "stream",
       "stream": "stdout",
       "text": [
        "\n",
        "http://www.nytimes.com/reuters/2013/09/19/us/19reuters-usa-pennsylvania-guns.html"
       ]
      },
      {
       "output_type": "stream",
       "stream": "stdout",
       "text": [
        "\n",
        "http://www.nytimes.com/reuters/2013/09/19/technology/19reuters-apple-iphone-suppliers.html"
       ]
      },
      {
       "output_type": "stream",
       "stream": "stdout",
       "text": [
        "\n",
        "http://www.nytimes.com/reuters/2013/09/19/business/19reuters-goldman-bondauction-mixup.html"
       ]
      },
      {
       "output_type": "stream",
       "stream": "stdout",
       "text": [
        "\n",
        "http://www.nytimes.com/aponline/2013/09/19/sports/baseball/ap-bba-rangers-rays.html"
       ]
      },
      {
       "output_type": "stream",
       "stream": "stdout",
       "text": [
        "\n",
        "http://www.nytimes.com/aponline/2013/09/19/sports/hockey/ap-hkn-penguins-blackhawks.html"
       ]
      },
      {
       "output_type": "stream",
       "stream": "stdout",
       "text": [
        "\n",
        "http://www.nytimes.com/aponline/2013/09/19/sports/baseball/ap-bba-astros-indians.html"
       ]
      },
      {
       "output_type": "stream",
       "stream": "stdout",
       "text": [
        "\n",
        "http://www.nytimes.com/aponline/2013/09/19/sports/ncaafootball/ap-fbc-t25-clemson-nc-state.html"
       ]
      },
      {
       "output_type": "stream",
       "stream": "stdout",
       "text": [
        "\n",
        "http://www.nytimes.com/reuters/2013/09/19/business/19reuters-eu-singapore-trade.html"
       ]
      },
      {
       "output_type": "stream",
       "stream": "stdout",
       "text": [
        "\n",
        "http://www.nytimes.com/aponline/2013/09/19/sports/hockey/ap-hkn-wild-jets.html"
       ]
      },
      {
       "output_type": "stream",
       "stream": "stdout",
       "text": [
        "\n",
        "http://www.nytimes.com/reuters/2013/09/19/sports/soccer/19reuters-soccer-england-ferguson.html"
       ]
      },
      {
       "output_type": "stream",
       "stream": "stdout",
       "text": [
        "\n",
        "http://www.nytimes.com/aponline/2013/09/19/sports/hockey/ap-hkn-maple-leafs-senators.html"
       ]
      },
      {
       "output_type": "stream",
       "stream": "stdout",
       "text": [
        "\n",
        "http://www.nytimes.com/reuters/2013/09/19/world/middleeast/19reuters-iran-usa-analysis.html"
       ]
      },
      {
       "output_type": "stream",
       "stream": "stdout",
       "text": [
        "\n",
        "http://www.nytimes.com/aponline/2013/09/19/sports/hockey/ap-hkn-predators-lightning.html"
       ]
      },
      {
       "output_type": "stream",
       "stream": "stdout",
       "text": [
        "\n",
        "http://www.nytimes.com/aponline/2013/09/19/us/ap-us-kagan-kentucky.html"
       ]
      },
      {
       "output_type": "stream",
       "stream": "stdout",
       "text": [
        "\n",
        "http://www.nytimes.com/aponline/2013/09/19/us/politics/ap-us-obama-climate-change.html"
       ]
      },
      {
       "output_type": "stream",
       "stream": "stdout",
       "text": [
        "\n",
        "http://www.nytimes.com/reuters/2013/09/19/world/middleeast/19reuters-iran-usa-rouhani.html"
       ]
      },
      {
       "output_type": "stream",
       "stream": "stdout",
       "text": [
        "\n",
        "http://www.nytimes.com/aponline/2013/09/19/sports/baseball/ap-bba-yankees-blue-jays.html"
       ]
      },
      {
       "output_type": "stream",
       "stream": "stdout",
       "text": [
        "\n",
        "http://www.nytimes.com/aponline/2013/09/19/sports/baseball/ap-bbn-marlins-nationals.html"
       ]
      },
      {
       "output_type": "stream",
       "stream": "stdout",
       "text": [
        "\n",
        "http://www.nytimes.com/reuters/2013/09/19/us/19reuters-usa-security-profiling.html"
       ]
      },
      {
       "output_type": "stream",
       "stream": "stdout",
       "text": [
        "\n",
        "http://www.nytimes.com/reuters/2013/09/19/world/americas/19reuters-paraguay-trade.html"
       ]
      },
      {
       "output_type": "stream",
       "stream": "stdout",
       "text": [
        "\n",
        "http://www.nytimes.com/aponline/2013/09/19/us/ap-us-texas-execution.html"
       ]
      },
      {
       "output_type": "stream",
       "stream": "stdout",
       "text": [
        "\n",
        "http://www.nytimes.com/aponline/2013/09/19/sports/hockey/ap-hkn-islanders-devils.html"
       ]
      },
      {
       "output_type": "stream",
       "stream": "stdout",
       "text": [
        "\n",
        "http://www.nytimes.com/aponline/2013/09/19/sports/hockey/ap-hkn-red-wings-bruins.html"
       ]
      },
      {
       "output_type": "stream",
       "stream": "stdout",
       "text": [
        "\n",
        "http://www.nytimes.com/aponline/2013/09/19/sports/football/ap-fbn-jets-colon-fined.html"
       ]
      },
      {
       "output_type": "stream",
       "stream": "stdout",
       "text": [
        "\n",
        "http://www.nytimes.com/aponline/2013/09/19/sports/baseball/ap-bba-orioles-red-sox.html"
       ]
      },
      {
       "output_type": "stream",
       "stream": "stdout",
       "text": [
        "\n",
        "http://www.nytimes.com/aponline/2013/09/19/sports/hockey/ap-hkn-hurricanes-sabres.html"
       ]
      },
      {
       "output_type": "stream",
       "stream": "stdout",
       "text": [
        "\n",
        "http://www.nytimes.com/aponline/2013/09/19/sports/football/ap-fbn-chiefs-eagles.html"
       ]
      },
      {
       "output_type": "stream",
       "stream": "stdout",
       "text": [
        "\n",
        "http://www.nytimes.com/reuters/2013/09/19/arts/19reuters-usa-trudeau-pitchman.html"
       ]
      },
      {
       "output_type": "stream",
       "stream": "stdout",
       "text": [
        "\n",
        "http://www.nytimes.com/aponline/2013/09/19/arts/ap-us-theater-review-romeo-and-juliet.html"
       ]
      },
      {
       "output_type": "stream",
       "stream": "stdout",
       "text": [
        "\n",
        "http://www.nytimes.com/aponline/2013/09/19/us/ap-10-things-to-know-friday.html"
       ]
      },
      {
       "output_type": "stream",
       "stream": "stdout",
       "text": [
        "\n",
        "http://www.nytimes.com/aponline/2013/09/19/us/ap-us-clarence-thomas-portland-visit.html"
       ]
      },
      {
       "output_type": "stream",
       "stream": "stdout",
       "text": [
        "\n",
        "http://www.nytimes.com/aponline/2013/09/19/us/ap-us-renoir-auction-personal-archive.html"
       ]
      },
      {
       "output_type": "stream",
       "stream": "stdout",
       "text": [
        "\n",
        "http://www.nytimes.com/reuters/2013/09/19/us/politics/19reuters-usa-fiscal-obama-boehner.html"
       ]
      },
      {
       "output_type": "stream",
       "stream": "stdout",
       "text": [
        "\n",
        "http://www.nytimes.com/reuters/2013/09/19/sports/rugby/19reuters-rugby-championship-zealand.html"
       ]
      },
      {
       "output_type": "stream",
       "stream": "stdout",
       "text": [
        "\n",
        "http://www.nytimes.com/aponline/2013/09/19/sports/baseball/ap-bbn-cardinals-rockies.html"
       ]
      },
      {
       "output_type": "stream",
       "stream": "stdout",
       "text": [
        "\n",
        "http://www.nytimes.com/reuters/2013/09/19/business/19reuters-japan-survey.html"
       ]
      },
      {
       "output_type": "stream",
       "stream": "stdout",
       "text": [
        "\n",
        "http://www.nytimes.com/reuters/2013/09/19/world/asia/19reuters-usa-india-military.html"
       ]
      },
      {
       "output_type": "stream",
       "stream": "stdout",
       "text": [
        "\n",
        "http://www.nytimes.com/reuters/2013/09/19/world/asia/19reuters-venezuela-usa-overflight.html"
       ]
      },
      {
       "output_type": "stream",
       "stream": "stdout",
       "text": [
        "\n",
        "http://www.nytimes.com/reuters/2013/09/19/sports/soccer/19reuters-soccer-britain-gay.html"
       ]
      },
      {
       "output_type": "stream",
       "stream": "stdout",
       "text": [
        "\n",
        "http://www.nytimes.com/aponline/2013/09/19/us/ap-us-indiana-storms.html"
       ]
      },
      {
       "output_type": "stream",
       "stream": "stdout",
       "text": [
        "\n",
        "http://www.nytimes.com/aponline/2013/09/19/world/asia/ap-as-new-zealand-ipo.html"
       ]
      },
      {
       "output_type": "stream",
       "stream": "stdout",
       "text": [
        "\n",
        "http://www.nytimes.com/reuters/2013/09/19/us/19reuters-milan-fashionweek.html"
       ]
      },
      {
       "output_type": "stream",
       "stream": "stdout",
       "text": [
        "\n",
        "http://www.nytimes.com/reuters/2013/09/19/us/19reuters-usa-detroit-bankruptcy.html"
       ]
      },
      {
       "output_type": "stream",
       "stream": "stdout",
       "text": [
        "\n",
        "http://www.nytimes.com/aponline/2013/09/19/us/ap-us-capitol-dome-protest.html"
       ]
      },
      {
       "output_type": "stream",
       "stream": "stdout",
       "text": [
        "\n",
        "http://www.nytimes.com/aponline/2013/09/19/us/politics/ap-us-navy-yard-shooting-airport.html"
       ]
      },
      {
       "output_type": "stream",
       "stream": "stdout",
       "text": [
        "\n",
        "http://www.nytimes.com/reuters/2013/09/19/us/19reuters-usa-cities-fiscal-stress.html"
       ]
      },
      {
       "output_type": "stream",
       "stream": "stdout",
       "text": [
        "\n",
        "http://www.nytimes.com/reuters/2013/09/19/business/19reuters-usa-fed-successor.html"
       ]
      },
      {
       "output_type": "stream",
       "stream": "stdout",
       "text": [
        "\n",
        "http://www.nytimes.com/aponline/2013/09/19/us/ap-us-colorado-flooding-pets.html"
       ]
      },
      {
       "output_type": "stream",
       "stream": "stdout",
       "text": [
        "\n",
        "http://www.nytimes.com/reuters/2013/09/19/business/19reuters-japan-economy-tax.html"
       ]
      },
      {
       "output_type": "stream",
       "stream": "stdout",
       "text": [
        "\n",
        "http://www.nytimes.com/reuters/2013/09/19/us/19reuters-irans-offer.html"
       ]
      },
      {
       "output_type": "stream",
       "stream": "stdout",
       "text": [
        "\n",
        "http://www.nytimes.com/reuters/2013/09/19/sports/golf/19reuters-golf-pga-scott.html"
       ]
      },
      {
       "output_type": "stream",
       "stream": "stdout",
       "text": [
        "\n",
        "http://www.nytimes.com/aponline/2013/09/19/world/americas/ap-lt-ecuador-chevron.html"
       ]
      },
      {
       "output_type": "stream",
       "stream": "stdout",
       "text": [
        "\n",
        "http://www.nytimes.com/reuters/2013/09/19/us/19reuters-usa-colorado-flooding-death.html"
       ]
      },
      {
       "output_type": "stream",
       "stream": "stdout",
       "text": [
        "\n",
        "http://www.nytimes.com/reuters/2013/09/19/sports/soccer/19reuters-soccer-sweden.html"
       ]
      },
      {
       "output_type": "stream",
       "stream": "stdout",
       "text": [
        "\n",
        "http://www.nytimes.com/aponline/2013/09/19/us/ap-us-recruiter-dragged-charges.html"
       ]
      },
      {
       "output_type": "stream",
       "stream": "stdout",
       "text": [
        "\n",
        "http://www.nytimes.com/aponline/2013/09/19/world/americas/ap-lt-venenzuela-us.html"
       ]
      },
      {
       "output_type": "stream",
       "stream": "stdout",
       "text": [
        "\n",
        "http://www.nytimes.com/reuters/2013/09/19/us/19reuters-usa-military-airforce.html"
       ]
      },
      {
       "output_type": "stream",
       "stream": "stdout",
       "text": [
        "\n",
        "http://www.nytimes.com/reuters/2013/09/19/technology/19reuters-allthingsd-dowjones.html"
       ]
      },
      {
       "output_type": "stream",
       "stream": "stdout",
       "text": [
        "\n",
        "http://www.nytimes.com/aponline/2013/09/19/world/americas/ap-lt-mexico-violence.html"
       ]
      },
      {
       "output_type": "stream",
       "stream": "stdout",
       "text": [
        "\n",
        "http://www.nytimes.com/aponline/2013/09/19/sports/football/ap-fbn-jim-litke-091913.html"
       ]
      },
      {
       "output_type": "stream",
       "stream": "stdout",
       "text": [
        "\n",
        "http://www.nytimes.com/reuters/2013/09/19/sports/golf/19reuters-golf-pga-horschel.html"
       ]
      },
      {
       "output_type": "stream",
       "stream": "stdout",
       "text": [
        "\n",
        "http://www.nytimes.com/reuters/2013/09/19/world/africa/19reuters-un-assembly-sudan-bashir.html"
       ]
      },
      {
       "output_type": "stream",
       "stream": "stdout",
       "text": [
        "\n",
        "http://www.nytimes.com/reuters/2013/09/19/us/19reuters-usa-navy-shooting-usis.html"
       ]
      },
      {
       "output_type": "stream",
       "stream": "stdout",
       "text": [
        "\n",
        "http://www.nytimes.com/aponline/2013/09/19/us/ap-us-bridge-demolition.html"
       ]
      },
      {
       "output_type": "stream",
       "stream": "stdout",
       "text": [
        "\n",
        "http://www.nytimes.com/reuters/2013/09/19/world/middleeast/19reuters-syria-crisis-france.html"
       ]
      },
      {
       "output_type": "stream",
       "stream": "stdout",
       "text": [
        "\n",
        "http://www.nytimes.com/reuters/2013/09/19/business/19reuters-usa-detroit-bloom.html"
       ]
      },
      {
       "output_type": "stream",
       "stream": "stdout",
       "text": [
        "\n",
        "http://www.nytimes.com/aponline/2013/09/19/us/ap-us-christians-lgbt-conference.html"
       ]
      },
      {
       "output_type": "stream",
       "stream": "stdout",
       "text": [
        "\n",
        "http://www.nytimes.com/reuters/2013/09/19/us/19reuters-usa-crime-holder.html"
       ]
      },
      {
       "output_type": "stream",
       "stream": "stdout",
       "text": [
        "\n",
        "http://www.nytimes.com/aponline/2013/09/19/us/ap-us-tour-bus-crash.html"
       ]
      },
      {
       "output_type": "stream",
       "stream": "stdout",
       "text": [
        "\n",
        "http://www.nytimes.com/reuters/2013/09/19/business/19reuters-usa-fed-bonddesks.html"
       ]
      },
      {
       "output_type": "stream",
       "stream": "stdout",
       "text": [
        "\n",
        "http://www.nytimes.com/aponline/2013/09/19/us/politics/ap-us-escape-from-building-197.html"
       ]
      },
      {
       "output_type": "stream",
       "stream": "stdout",
       "text": [
        "\n",
        "http://www.nytimes.com/aponline/2013/09/19/us/ap-us-colorado-flooding-death-toll.html"
       ]
      },
      {
       "output_type": "stream",
       "stream": "stdout",
       "text": [
        "\n",
        "http://www.nytimes.com/aponline/2013/09/19/us/ap-ten-battle-of-the-sexes.html"
       ]
      },
      {
       "output_type": "stream",
       "stream": "stdout",
       "text": [
        "\n",
        "http://www.nytimes.com/reuters/2013/09/19/arts/19reuters-univision-ipo.html"
       ]
      },
      {
       "output_type": "stream",
       "stream": "stdout",
       "text": [
        "\n",
        "http://www.nytimes.com/aponline/2013/09/19/business/ap-us-pratt-whitney-rolls-royce.html"
       ]
      },
      {
       "output_type": "stream",
       "stream": "stdout",
       "text": [
        "\n",
        "http://www.nytimes.com/aponline/2013/09/19/world/americas/ap-cb-guantanamo-sept-11-trial.html"
       ]
      },
      {
       "output_type": "stream",
       "stream": "stdout",
       "text": [
        "\n",
        "http://www.nytimes.com/aponline/2013/09/19/us/ap-us-hobby-lobby-birth-control.html"
       ]
      },
      {
       "output_type": "stream",
       "stream": "stdout",
       "text": [
        "\n",
        "http://www.nytimes.com/aponline/2013/09/19/us/ap-us-elderly-murder-trial.html"
       ]
      },
      {
       "output_type": "stream",
       "stream": "stdout",
       "text": [
        "\n",
        "http://www.nytimes.com/aponline/2013/09/19/business/ap-us-new-york-times-dividend.html"
       ]
      },
      {
       "output_type": "stream",
       "stream": "stdout",
       "text": [
        "\n",
        "http://www.nytimes.com/aponline/2013/09/19/arts/ap-us-film-tupac-shakur.html"
       ]
      },
      {
       "output_type": "stream",
       "stream": "stdout",
       "text": [
        "\n",
        "http://www.nytimes.com/reuters/2013/09/19/us/politics/19reuters-usa-healthcare-ohio.html"
       ]
      },
      {
       "output_type": "stream",
       "stream": "stdout",
       "text": [
        "\n",
        "http://www.nytimes.com/reuters/2013/09/19/us/19reuters-usa-agriculture-food.html"
       ]
      },
      {
       "output_type": "stream",
       "stream": "stdout",
       "text": [
        "\n",
        "http://www.nytimes.com/reuters/2013/09/19/nyregion/19reuters-usa-newyork-twitter-lawsuit.html"
       ]
      },
      {
       "output_type": "stream",
       "stream": "stdout",
       "text": [
        "\n",
        "http://www.nytimes.com/aponline/2013/09/19/us/politics/ap-us-obama-ambassadors.html"
       ]
      },
      {
       "output_type": "stream",
       "stream": "stdout",
       "text": [
        "\n",
        "http://www.nytimes.com/reuters/2013/09/19/arts/19reuters-celebrity-couples-topearning.html"
       ]
      },
      {
       "output_type": "stream",
       "stream": "stdout",
       "text": [
        "\n",
        "http://www.nytimes.com/reuters/2013/09/19/sports/soccer/19reuters-soccer-argentina-ayala.html"
       ]
      },
      {
       "output_type": "stream",
       "stream": "stdout",
       "text": [
        "\n",
        "http://www.nytimes.com/aponline/2013/09/19/business/ap-lt-argentina-ecuador-chevron.html"
       ]
      },
      {
       "output_type": "stream",
       "stream": "stdout",
       "text": [
        "\n",
        "http://www.nytimes.com/reuters/2013/09/19/business/19reuters-bp-louisiana-lawsuit.html"
       ]
      },
      {
       "output_type": "stream",
       "stream": "stdout",
       "text": [
        "\n",
        "http://www.nytimes.com/reuters/2013/09/19/us/politics/19reuters-usa-courts-contraception.html"
       ]
      },
      {
       "output_type": "stream",
       "stream": "stdout",
       "text": [
        "\n",
        "http://www.nytimes.com/reuters/2013/09/19/us/politics/19reuters-usa-crime-comey.html"
       ]
      },
      {
       "output_type": "stream",
       "stream": "stdout",
       "text": [
        "\n",
        "http://www.nytimes.com/reuters/2013/09/19/us/19reuters-usa-crime-neworleans.html"
       ]
      },
      {
       "output_type": "stream",
       "stream": "stdout",
       "text": [
        "\n",
        "http://www.nytimes.com/aponline/2013/09/19/business/ap-us-all-things-d-wall-street-journal.html"
       ]
      },
      {
       "output_type": "stream",
       "stream": "stdout",
       "text": [
        "\n",
        "http://www.nytimes.com/aponline/2013/09/19/us/ap-us-texas-execution-drug.html"
       ]
      },
      {
       "output_type": "stream",
       "stream": "stdout",
       "text": [
        "\n",
        "http://www.nytimes.com/aponline/2013/09/19/sports/baseball/ap-bbn-cubs-brewers.html"
       ]
      },
      {
       "output_type": "stream",
       "stream": "stdout",
       "text": [
        "\n",
        "http://www.nytimes.com/reuters/2013/09/19/us/19reuters-usa-collapse-northcarolina.html"
       ]
      },
      {
       "output_type": "stream",
       "stream": "stdout",
       "text": [
        "\n",
        "http://www.nytimes.com/reuters/2013/09/19/business/19reuters-valeroenergypartners-ipo.html"
       ]
      },
      {
       "output_type": "stream",
       "stream": "stdout",
       "text": [
        "\n",
        "http://www.nytimes.com/reuters/2013/09/19/business/19reuters-usa-fed-communications.html"
       ]
      },
      {
       "output_type": "stream",
       "stream": "stdout",
       "text": [
        "\n",
        "http://www.nytimes.com/aponline/2013/09/19/world/americas/ap-lt-chile-allende-prison.html"
       ]
      },
      {
       "output_type": "stream",
       "stream": "stdout",
       "text": [
        "\n",
        "http://www.nytimes.com/aponline/2013/09/19/sports/baseball/ap-bbn-brewers-cubs.html"
       ]
      },
      {
       "output_type": "stream",
       "stream": "stdout",
       "text": [
        "\n",
        "http://www.nytimes.com/reuters/2013/09/19/business/19reuters-berkshire-bankofamerica.html"
       ]
      },
      {
       "output_type": "stream",
       "stream": "stdout",
       "text": [
        "\n",
        "http://www.nytimes.com/aponline/2013/09/19/sports/ap-box-mayweather-riches.html"
       ]
      },
      {
       "output_type": "stream",
       "stream": "stdout",
       "text": [
        "\n",
        "http://www.nytimes.com/reuters/2013/09/19/us/politics/19reuters-usa-fiscal-defense.html"
       ]
      },
      {
       "output_type": "stream",
       "stream": "stdout",
       "text": [
        "\n",
        "http://www.nytimes.com/reuters/2013/09/19/arts/19reuters-art-auction-normanrockwell.html"
       ]
      },
      {
       "output_type": "stream",
       "stream": "stdout",
       "text": [
        "\n",
        "http://www.nytimes.com/aponline/2013/09/19/sports/hockey/ap-hkn-bettman-soldier-field.html"
       ]
      },
      {
       "output_type": "stream",
       "stream": "stdout",
       "text": [
        "\n",
        "http://www.nytimes.com/aponline/2013/09/19/us/politics/ap-us-united-states-myanmar.html"
       ]
      },
      {
       "output_type": "stream",
       "stream": "stdout",
       "text": [
        "\n",
        "http://www.nytimes.com/reuters/2013/09/19/business/19reuters-empirestaterealtytrust-brief.html"
       ]
      },
      {
       "output_type": "stream",
       "stream": "stdout",
       "text": [
        "\n",
        "http://www.nytimes.com/aponline/2013/09/19/us/politics/ap-us-world-bank-lebanon.html"
       ]
      },
      {
       "output_type": "stream",
       "stream": "stdout",
       "text": [
        "\n",
        "http://www.nytimes.com/aponline/2013/09/19/business/ap-us-mortgages-payment-priorities.html"
       ]
      },
      {
       "output_type": "stream",
       "stream": "stdout",
       "text": [
        "\n",
        "http://www.nytimes.com/reuters/2013/09/19/technology/19reuters-france-eu-webgiants.html"
       ]
      },
      {
       "output_type": "stream",
       "stream": "stdout",
       "text": [
        "\n",
        "http://www.nytimes.com/aponline/2013/09/19/us/politics/ap-us-obama.html"
       ]
      },
      {
       "output_type": "stream",
       "stream": "stdout",
       "text": [
        "\n",
        "http://www.nytimes.com/aponline/2013/09/19/us/politics/ap-us-immigration.html"
       ]
      },
      {
       "output_type": "stream",
       "stream": "stdout",
       "text": [
        "\n",
        "http://www.nytimes.com/reuters/2013/09/19/world/europe/19reuters-syria-crisis-chemical.html"
       ]
      },
      {
       "output_type": "stream",
       "stream": "stdout",
       "text": [
        "\n",
        "http://www.nytimes.com/aponline/2013/09/19/business/ap-us-prudential-financial-oversight.html"
       ]
      },
      {
       "output_type": "stream",
       "stream": "stdout",
       "text": [
        "\n",
        "http://www.nytimes.com/reuters/2013/09/19/business/19reuters-france-web.html"
       ]
      },
      {
       "output_type": "stream",
       "stream": "stdout",
       "text": [
        "\n",
        "http://www.nytimes.com/reuters/2013/09/19/world/19reuters-nigeria-oil-theft.html"
       ]
      },
      {
       "output_type": "stream",
       "stream": "stdout",
       "text": [
        "\n",
        "http://www.nytimes.com/reuters/2013/09/19/world/europe/19reuters-syria-crisis-jamil.html"
       ]
      },
      {
       "output_type": "stream",
       "stream": "stdout",
       "text": [
        "\n",
        "http://www.nytimes.com/aponline/2013/09/19/us/ap-us-navy-yard-shooting-seattle.html"
       ]
      },
      {
       "output_type": "stream",
       "stream": "stdout",
       "text": [
        "\n",
        "http://www.nytimes.com/aponline/2013/09/19/us/ap-us-infomercial-pitchman.html"
       ]
      },
      {
       "output_type": "stream",
       "stream": "stdout",
       "text": [
        "\n",
        "http://www.nytimes.com/reuters/2013/09/19/business/19reuters-alibaba-funds.html"
       ]
      },
      {
       "output_type": "stream",
       "stream": "stdout",
       "text": [
        "\n",
        "http://www.nytimes.com/reuters/2013/09/19/world/europe/19reuters-germany-election-challenger.html"
       ]
      },
      {
       "output_type": "stream",
       "stream": "stdout",
       "text": [
        "\n",
        "http://www.nytimes.com/aponline/2013/09/19/business/ap-us-online-piracy-summary-box.html"
       ]
      },
      {
       "output_type": "stream",
       "stream": "stdout",
       "text": [
        "\n",
        "http://www.nytimes.com/aponline/2013/09/19/sports/soccer/ap-soc-match-fixing-arrests.html"
       ]
      },
      {
       "output_type": "stream",
       "stream": "stdout",
       "text": [
        "\n",
        "http://www.nytimes.com/reuters/2013/09/19/us/politics/19reuters-usa-energy-ferc.html"
       ]
      },
      {
       "output_type": "stream",
       "stream": "stdout",
       "text": [
        "\n",
        "http://www.nytimes.com/aponline/2013/09/19/world/europe/ap-eu-britain-stephen-hawking.html"
       ]
      },
      {
       "output_type": "stream",
       "stream": "stdout",
       "text": [
        "\n",
        "http://www.nytimes.com/reuters/2013/09/19/business/19reuters-healthcare-exchanges-homedepot.html"
       ]
      },
      {
       "output_type": "stream",
       "stream": "stdout",
       "text": [
        "\n",
        "http://www.nytimes.com/reuters/2013/09/19/business/19reuters-prudentialfinancial.html"
       ]
      },
      {
       "output_type": "stream",
       "stream": "stdout",
       "text": [
        "\n",
        "http://www.nytimes.com/reuters/2013/09/19/world/middleeast/19reuters-iran-france.html"
       ]
      },
      {
       "output_type": "stream",
       "stream": "stdout",
       "text": [
        "\n",
        "http://www.nytimes.com/reuters/2013/09/19/sports/golf/19reuters-golf-pga.html"
       ]
      },
      {
       "output_type": "stream",
       "stream": "stdout",
       "text": [
        "\n",
        "http://www.nytimes.com/aponline/2013/09/19/world/americas/ap-lt-peru-airport-drug-arrests.html"
       ]
      },
      {
       "output_type": "stream",
       "stream": "stdout",
       "text": [
        "\n",
        "http://www.nytimes.com/aponline/2013/09/19/sports/ap-sai-americas-cup.html"
       ]
      },
      {
       "output_type": "stream",
       "stream": "stdout",
       "text": [
        "\n",
        "http://www.nytimes.com/reuters/2013/09/19/business/19reuters-cantor-etfs-browne.html"
       ]
      },
      {
       "output_type": "stream",
       "stream": "stdout",
       "text": [
        "\n",
        "http://www.nytimes.com/aponline/2013/09/19/business/ap-us-gov-finances.html"
       ]
      },
      {
       "output_type": "stream",
       "stream": "stdout",
       "text": [
        "\n",
        "http://www.nytimes.com/aponline/2013/09/19/business/ap-us-wall-street-box.html"
       ]
      },
      {
       "output_type": "stream",
       "stream": "stdout",
       "text": [
        "\n",
        "http://www.nytimes.com/aponline/2013/09/19/us/politics/ap-us-mandatory-sentencing.html"
       ]
      },
      {
       "output_type": "stream",
       "stream": "stdout",
       "text": [
        "\n",
        "http://www.nytimes.com/aponline/2013/09/19/world/middleeast/ap-ml-tunisia-cia-warning.html"
       ]
      },
      {
       "output_type": "stream",
       "stream": "stdout",
       "text": [
        "\n",
        "http://www.nytimes.com/reuters/2013/09/19/business/19reuters-morganstanley-wealth.html"
       ]
      },
      {
       "output_type": "stream",
       "stream": "stdout",
       "text": [
        "\n",
        "http://www.nytimes.com/aponline/2013/09/19/us/ap-us-dishwashing-detergent-death.html"
       ]
      },
      {
       "output_type": "stream",
       "stream": "stdout",
       "text": [
        "\n",
        "http://www.nytimes.com/aponline/2013/09/19/health/ap-us-med-alzheimers.html"
       ]
      },
      {
       "output_type": "stream",
       "stream": "stdout",
       "text": [
        "\n",
        "http://www.nytimes.com/aponline/2013/09/19/business/ap-us-wall-street-summary-box.html"
       ]
      },
      {
       "output_type": "stream",
       "stream": "stdout",
       "text": [
        "\n",
        "http://www.nytimes.com/aponline/2013/09/19/business/ap-us-wall-street-stocks.html"
       ]
      },
      {
       "output_type": "stream",
       "stream": "stdout",
       "text": [
        "\n",
        "http://www.nytimes.com/aponline/2013/09/19/us/ap-us-former-deputy-rape-conviction.html"
       ]
      },
      {
       "output_type": "stream",
       "stream": "stdout",
       "text": [
        "\n",
        "http://www.nytimes.com/aponline/2013/09/19/technology/ap-us-tec-digital-life-tech-test-camera-phones.html"
       ]
      },
      {
       "output_type": "stream",
       "stream": "stdout",
       "text": [
        "\n",
        "http://www.nytimes.com/aponline/2013/09/19/technology/ap-as-tec-japan-tokyo-game-show-summary-box.html"
       ]
      },
      {
       "output_type": "stream",
       "stream": "stdout",
       "text": [
        "\n",
        "http://www.nytimes.com/aponline/2013/09/19/us/politics/ap-us-helium-shortage.html"
       ]
      },
      {
       "output_type": "stream",
       "stream": "stdout",
       "text": [
        "\n",
        "http://www.nytimes.com/reuters/2013/09/19/world/middleeast/19reuters-syria-crisis-usa.html"
       ]
      },
      {
       "output_type": "stream",
       "stream": "stdout",
       "text": [
        "\n",
        "http://www.nytimes.com/reuters/2013/09/19/technology/19reuters-microsoft-analysts-meeting.html"
       ]
      },
      {
       "output_type": "stream",
       "stream": "stdout",
       "text": [
        "\n",
        "http://www.nytimes.com/aponline/2013/09/19/us/ap-us-mortgage-rates-summary-box.html"
       ]
      },
      {
       "output_type": "stream",
       "stream": "stdout",
       "text": [
        "\n",
        "http://www.nytimes.com/aponline/2013/09/19/us/ap-us-pearl-harbor-paper-crane.html"
       ]
      },
      {
       "output_type": "stream",
       "stream": "stdout",
       "text": [
        "\n",
        "http://www.nytimes.com/reuters/2013/09/19/world/africa/19reuters-tunisia-crisis.html"
       ]
      },
      {
       "output_type": "stream",
       "stream": "stdout",
       "text": [
        "\n",
        "http://www.nytimes.com/aponline/2013/09/19/us/ap-us-university-of-alabama-sororities.html"
       ]
      },
      {
       "output_type": "stream",
       "stream": "stdout",
       "text": [
        "\n",
        "http://www.nytimes.com/aponline/2013/09/19/us/ap-us-daley-nephew-trial.html"
       ]
      },
      {
       "output_type": "stream",
       "stream": "stdout",
       "text": [
        "\n",
        "http://www.nytimes.com/reuters/2013/09/19/business/19reuters-fujikura-pricefixing-executves.html"
       ]
      },
      {
       "output_type": "stream",
       "stream": "stdout",
       "text": [
        "\n",
        "http://www.nytimes.com/aponline/2013/09/19/us/ap-us-jonbenet-lawsuit.html"
       ]
      },
      {
       "output_type": "stream",
       "stream": "stdout",
       "text": [
        "\n",
        "http://www.nytimes.com/aponline/2013/09/19/us/ap-us-wall-street-close.html"
       ]
      },
      {
       "output_type": "stream",
       "stream": "stdout",
       "text": [
        "\n",
        "http://www.nytimes.com/reuters/2013/09/19/business/19reuters-finra-bonus.html"
       ]
      },
      {
       "output_type": "stream",
       "stream": "stdout",
       "text": [
        "\n",
        "http://www.nytimes.com/aponline/2013/09/19/world/europe/ap-eu-italy-milan-fashion-week-day-2.html"
       ]
      },
      {
       "output_type": "stream",
       "stream": "stdout",
       "text": [
        "\n",
        "http://www.nytimes.com/reuters/2013/09/19/world/europe/19reuters-germany-election-poll.html"
       ]
      },
      {
       "output_type": "stream",
       "stream": "stdout",
       "text": [
        "\n",
        "http://www.nytimes.com/aponline/2013/09/19/us/politics/ap-us-federal-reserve-what-it-means.html"
       ]
      },
      {
       "output_type": "stream",
       "stream": "stdout",
       "text": [
        "\n",
        "http://www.nytimes.com/reuters/2013/09/19/us/politics/19reuters-usa-fiscal-house.html"
       ]
      },
      {
       "output_type": "stream",
       "stream": "stdout",
       "text": [
        "\n",
        "http://www.nytimes.com/aponline/2013/09/19/business/ap-us-commodities-review.html"
       ]
      },
      {
       "output_type": "stream",
       "stream": "stdout",
       "text": [
        "\n",
        "http://www.nytimes.com/reuters/2013/09/19/world/africa/19reuters-angola-protest.html"
       ]
      },
      {
       "output_type": "stream",
       "stream": "stdout",
       "text": [
        "\n",
        "http://www.nytimes.com/aponline/2013/09/19/sports/ncaafootball/ap-fbc-texas-saban.html"
       ]
      },
      {
       "output_type": "stream",
       "stream": "stdout",
       "text": [
        "\n",
        "http://www.nytimes.com/aponline/2013/09/19/sports/baseball/ap-bbn-giants-mets.html"
       ]
      },
      {
       "output_type": "stream",
       "stream": "stdout",
       "text": [
        "\n",
        "http://www.nytimes.com/aponline/2013/09/19/business/ap-us-unilever-ice-cream-factory.html"
       ]
      },
      {
       "output_type": "stream",
       "stream": "stdout",
       "text": [
        "\n",
        "http://www.nytimes.com/aponline/2013/09/19/sports/baseball/ap-bba-mariners-tigers.html"
       ]
      },
      {
       "output_type": "stream",
       "stream": "stdout",
       "text": [
        "\n",
        "http://www.nytimes.com/reuters/2013/09/19/technology/19reuters-california-ridesharing.html"
       ]
      },
      {
       "output_type": "stream",
       "stream": "stdout",
       "text": [
        "\n",
        "http://www.nytimes.com/aponline/2013/09/19/us/ap-us-native-women-plan-b.html"
       ]
      },
      {
       "output_type": "stream",
       "stream": "stdout",
       "text": [
        "\n",
        "http://www.nytimes.com/aponline/2013/09/19/sports/baseball/ap-bbn-padres-pirates.html"
       ]
      },
      {
       "output_type": "stream",
       "stream": "stdout",
       "text": [
        "\n",
        "http://www.nytimes.com/reuters/2013/09/19/technology/19reuters-california-regulators-ok-on-demand-rideshari.html"
       ]
      },
      {
       "output_type": "stream",
       "stream": "stdout",
       "text": [
        "\n",
        "http://www.nytimes.com/aponline/2013/09/19/sports/basketball/ap-bkl-maya-moore-ascends.html"
       ]
      },
      {
       "output_type": "stream",
       "stream": "stdout",
       "text": [
        "\n",
        "http://www.nytimes.com/aponline/2013/09/19/us/politics/ap-us-kerry-syria-.html"
       ]
      },
      {
       "output_type": "stream",
       "stream": "stdout",
       "text": [
        "\n",
        "http://www.nytimes.com/aponline/2013/09/19/world/americas/ap-lt-argentina-priest-abuse-1st-ld-writethru.html"
       ]
      },
      {
       "output_type": "stream",
       "stream": "stdout",
       "text": [
        "\n",
        "http://www.nytimes.com/reuters/2013/09/19/sports/soccer/19reuters-soccer-europa.html"
       ]
      },
      {
       "output_type": "stream",
       "stream": "stdout",
       "text": [
        "\n",
        "http://www.nytimes.com/aponline/2013/09/19/us/ap-us-nfl-concussions.html"
       ]
      },
      {
       "output_type": "stream",
       "stream": "stdout",
       "text": [
        "\n",
        "http://www.nytimes.com/aponline/2013/09/19/us/ap-us-officers-slain-release.html"
       ]
      },
      {
       "output_type": "stream",
       "stream": "stdout",
       "text": [
        "\n",
        "http://www.nytimes.com/aponline/2013/09/19/us/ap-us-jpmorgan-legal-issues-glance.html"
       ]
      },
      {
       "output_type": "stream",
       "stream": "stdout",
       "text": [
        "\n",
        "http://www.nytimes.com/reuters/2013/09/19/business/19reuters-usa-stocks-kenfisher.html"
       ]
      },
      {
       "output_type": "stream",
       "stream": "stdout",
       "text": [
        "\n",
        "http://www.nytimes.com/aponline/2013/09/19/us/ap-us-sweltering-schools-donation.html"
       ]
      },
      {
       "output_type": "stream",
       "stream": "stdout",
       "text": [
        "\n",
        "http://www.nytimes.com/reuters/2013/09/19/technology/19reuters-iphone-hackers.html"
       ]
      },
      {
       "output_type": "stream",
       "stream": "stdout",
       "text": [
        "\n",
        "http://www.nytimes.com/reuters/2013/09/19/technology/19reuters-telecoms.html"
       ]
      },
      {
       "output_type": "stream",
       "stream": "stdout",
       "text": [
        "\n",
        "http://www.nytimes.com/reuters/2013/09/19/sports/golf/19reuters-adidas-results.html"
       ]
      },
      {
       "output_type": "stream",
       "stream": "stdout",
       "text": [
        "\n",
        "http://www.nytimes.com/reuters/2013/09/19/arts/19reuters-britain-tate.html"
       ]
      },
      {
       "output_type": "stream",
       "stream": "stdout",
       "text": [
        "\n",
        "http://www.nytimes.com/aponline/2013/09/19/us/ap-us-hundreds-of-snakes.html"
       ]
      },
      {
       "output_type": "stream",
       "stream": "stdout",
       "text": [
        "\n",
        "http://www.nytimes.com/aponline/2013/09/19/us/ap-us-muhammad-ali-awards.html"
       ]
      },
      {
       "output_type": "stream",
       "stream": "stdout",
       "text": [
        "\n",
        "http://www.nytimes.com/reuters/2013/09/19/sports/19reuters-athletics-bolt.html"
       ]
      },
      {
       "output_type": "stream",
       "stream": "stdout",
       "text": [
        "\n",
        "http://www.nytimes.com/aponline/2013/09/19/sports/golf/ap-glf-italian-open.html"
       ]
      },
      {
       "output_type": "stream",
       "stream": "stdout",
       "text": [
        "\n",
        "http://www.nytimes.com/aponline/2013/09/19/us/ap-us-college-care-packages.html"
       ]
      },
      {
       "output_type": "stream",
       "stream": "stdout",
       "text": [
        "\n",
        "http://www.nytimes.com/reuters/2013/09/19/business/19reuters-germany-bilfinger-jobs.html"
       ]
      },
      {
       "output_type": "stream",
       "stream": "stdout",
       "text": [
        "\n",
        "http://www.nytimes.com/reuters/2013/09/19/business/19reuters-italy-investment.html"
       ]
      },
      {
       "output_type": "stream",
       "stream": "stdout",
       "text": [
        "\n",
        "http://www.nytimes.com/aponline/2013/09/19/us/ap-us-food-hip-to-be-scarce.html"
       ]
      },
      {
       "output_type": "stream",
       "stream": "stdout",
       "text": [
        "\n",
        "http://www.nytimes.com/aponline/2013/09/19/business/ap-us-of-mutual-interest-managers-investing.html"
       ]
      },
      {
       "output_type": "stream",
       "stream": "stdout",
       "text": [
        "\n",
        "http://www.nytimes.com/reuters/2013/09/19/business/19reuters-imf-lagarde-fed.html"
       ]
      },
      {
       "output_type": "stream",
       "stream": "stdout",
       "text": [
        "\n",
        "http://www.nytimes.com/aponline/2013/09/19/us/ap-us-film-josh-gad.html"
       ]
      },
      {
       "output_type": "stream",
       "stream": "stdout",
       "text": [
        "\n",
        "http://www.nytimes.com/reuters/2013/09/19/world/middleeast/19reuters-iran-nuclear-rouhani-israel.html"
       ]
      },
      {
       "output_type": "stream",
       "stream": "stdout",
       "text": [
        "\n",
        "http://www.nytimes.com/aponline/2013/09/19/us/ap-us-children-trapped.html"
       ]
      },
      {
       "output_type": "stream",
       "stream": "stdout",
       "text": [
        "\n",
        "http://www.nytimes.com/reuters/2013/09/19/world/europe/19reuters-pope-interview-excerpts.html"
       ]
      },
      {
       "output_type": "stream",
       "stream": "stdout",
       "text": [
        "\n",
        "http://www.nytimes.com/reuters/2013/09/19/us/19reuters-usa-helium.html"
       ]
      },
      {
       "output_type": "stream",
       "stream": "stdout",
       "text": [
        "\n",
        "http://www.nytimes.com/reuters/2013/09/19/world/americas/19reuters-colombia-talks.html"
       ]
      },
      {
       "output_type": "stream",
       "stream": "stdout",
       "text": [
        "\n",
        "http://www.nytimes.com/aponline/2013/09/19/us/ap-us-teacher-heroin.html"
       ]
      },
      {
       "output_type": "stream",
       "stream": "stdout",
       "text": [
        "\n",
        "http://www.nytimes.com/reuters/2013/09/19/sports/basketball/19reuters-basketball-european.html"
       ]
      },
      {
       "output_type": "stream",
       "stream": "stdout",
       "text": [
        "\n",
        "http://www.nytimes.com/reuters/2013/09/19/world/middleeast/19reuters-syria-crisis-kerry.html"
       ]
      },
      {
       "output_type": "stream",
       "stream": "stdout",
       "text": [
        "\n",
        "http://www.nytimes.com/aponline/2013/09/19/us/ap-us-rideshare-rules.html"
       ]
      },
      {
       "output_type": "stream",
       "stream": "stdout",
       "text": [
        "\n",
        "http://www.nytimes.com/reuters/2013/09/19/world/africa/19reuters-libya-gaddafi.html"
       ]
      },
      {
       "output_type": "stream",
       "stream": "stdout",
       "text": [
        "\n",
        "http://www.nytimes.com/aponline/2013/09/19/us/ap-us-travel-brief-airline-missing-ashes.html"
       ]
      },
      {
       "output_type": "stream",
       "stream": "stdout",
       "text": [
        "\n",
        "http://www.nytimes.com/aponline/2013/09/19/us/ap-us-new-orleans-corruption.html"
       ]
      },
      {
       "output_type": "stream",
       "stream": "stdout",
       "text": [
        "\n",
        "http://www.nytimes.com/reuters/2013/09/19/world/europe/19reuters-britain-nigeria-ibori.html"
       ]
      },
      {
       "output_type": "stream",
       "stream": "stdout",
       "text": [
        "\n",
        "http://www.nytimes.com/reuters/2013/09/19/sports/soccer/19reuters-soccer-italy-inter-thohir.html"
       ]
      },
      {
       "output_type": "stream",
       "stream": "stdout",
       "text": [
        "\n",
        "http://www.nytimes.com/reuters/2013/09/19/world/europe/19reuters-russia-putin-berlusconi.html"
       ]
      },
      {
       "output_type": "stream",
       "stream": "stdout",
       "text": [
        "\n",
        "http://www.nytimes.com/reuters/2013/09/19/business/19reuters-gsk-europe-relvar.html"
       ]
      },
      {
       "output_type": "stream",
       "stream": "stdout",
       "text": [
        "\n",
        "http://www.nytimes.com/aponline/2013/09/19/sports/ncaafootball/ap-fbc-n-dakota-st-bohls-bison.html"
       ]
      },
      {
       "output_type": "stream",
       "stream": "stdout",
       "text": [
        "\n",
        "http://www.nytimes.com/aponline/2013/09/19/us/ap-us-anti-terrorism-fusion-centers.html"
       ]
      },
      {
       "output_type": "stream",
       "stream": "stdout",
       "text": [
        "\n",
        "http://www.nytimes.com/reuters/2013/09/19/us/19reuters-halliburton-plea.html"
       ]
      },
      {
       "output_type": "stream",
       "stream": "stdout",
       "text": [
        "\n",
        "http://www.nytimes.com/aponline/2013/09/19/us/ap-us-tv-nbc-carson.html"
       ]
      },
      {
       "output_type": "stream",
       "stream": "stdout",
       "text": [
        "\n",
        "http://www.nytimes.com/aponline/2013/09/19/us/ap-us-mortgage-rates.html"
       ]
      },
      {
       "output_type": "stream",
       "stream": "stdout",
       "text": [
        "\n",
        "http://www.nytimes.com/reuters/2013/09/19/business/19reuters-brazil-oilauction-libra.html"
       ]
      },
      {
       "output_type": "stream",
       "stream": "stdout",
       "text": [
        "\n",
        "http://www.nytimes.com/aponline/2013/09/19/us/ap-us-airline-missing-ashes.html"
       ]
      },
      {
       "output_type": "stream",
       "stream": "stdout",
       "text": [
        "\n",
        "http://www.nytimes.com/aponline/2013/09/19/world/middleeast/ap-ml-iran-jewish-lawmaker.html"
       ]
      },
      {
       "output_type": "stream",
       "stream": "stdout",
       "text": [
        "\n",
        "http://www.nytimes.com/aponline/2013/09/19/sports/tennis/ap-ten-metz.html"
       ]
      },
      {
       "output_type": "stream",
       "stream": "stdout",
       "text": [
        "\n",
        "http://www.nytimes.com/aponline/2013/09/19/us/ap-us-money-returned.html"
       ]
      },
      {
       "output_type": "stream",
       "stream": "stdout",
       "text": [
        "\n",
        "http://www.nytimes.com/reuters/2013/09/19/us/politics/19reuters-imf-lagarde-global.html"
       ]
      },
      {
       "output_type": "stream",
       "stream": "stdout",
       "text": [
        "\n",
        "http://www.nytimes.com/aponline/2013/09/19/us/ap-us-well-fargo-layoffs.html"
       ]
      },
      {
       "output_type": "stream",
       "stream": "stdout",
       "text": [
        "\n",
        "http://www.nytimes.com/reuters/2013/09/19/sports/19reuters-americascup-rules-factbox.html"
       ]
      },
      {
       "output_type": "stream",
       "stream": "stdout",
       "text": [
        "\n",
        "http://www.nytimes.com/reuters/2013/09/19/technology/19reuters-unmetric-funding.html"
       ]
      },
      {
       "output_type": "stream",
       "stream": "stdout",
       "text": [
        "\n",
        "http://www.nytimes.com/aponline/2013/09/19/world/middleeast/ap-ml-egypt-fallen-general-photo-gallery-.html"
       ]
      },
      {
       "output_type": "stream",
       "stream": "stdout",
       "text": [
        "\n",
        "http://www.nytimes.com/reuters/2013/09/19/us/19reuters-usa-shooting-washington.html"
       ]
      },
      {
       "output_type": "stream",
       "stream": "stdout",
       "text": [
        "\n",
        "http://www.nytimes.com/aponline/2013/09/19/sports/tennis/ap-ten-murray-surgery.html"
       ]
      },
      {
       "output_type": "stream",
       "stream": "stdout",
       "text": [
        "\n",
        "http://www.nytimes.com/reuters/2013/09/19/sports/19reuters-ailing-americascup.html"
       ]
      },
      {
       "output_type": "stream",
       "stream": "stdout",
       "text": [
        "\n",
        "http://www.nytimes.com/reuters/2013/09/19/world/middleeast/19reuters-iran-usa-obama.html"
       ]
      },
      {
       "output_type": "stream",
       "stream": "stdout",
       "text": [
        "\n",
        "http://www.nytimes.com/aponline/2013/09/19/sports/football/ap-fbn-colts-richardson-arrives.html"
       ]
      },
      {
       "output_type": "stream",
       "stream": "stdout",
       "text": [
        "\n",
        "http://www.nytimes.com/reuters/2013/09/19/business/19reuters-goldmansachs-etoys-settlement.html"
       ]
      },
      {
       "output_type": "stream",
       "stream": "stdout",
       "text": [
        "\n",
        "http://www.nytimes.com/aponline/2013/09/19/us/ap-as-japan-earthquake.html"
       ]
      },
      {
       "output_type": "stream",
       "stream": "stdout",
       "text": [
        "\n",
        "http://www.nytimes.com/reuters/2013/09/19/world/europe/19reuters-russia-ukraine-putin.html"
       ]
      },
      {
       "output_type": "stream",
       "stream": "stdout",
       "text": [
        "\n",
        "http://www.nytimes.com/aponline/2013/09/19/us/ap-us-ohio-mobile-home-fire.html"
       ]
      },
      {
       "output_type": "stream",
       "stream": "stdout",
       "text": [
        "\n",
        "http://www.nytimes.com/aponline/2013/09/19/sports/basketball/ap-bkl-wnba-mvp.html"
       ]
      },
      {
       "output_type": "stream",
       "stream": "stdout",
       "text": [
        "\n",
        "http://www.nytimes.com/aponline/2013/09/19/us/ap-us-beaten-teen-mysterious-note.html"
       ]
      },
      {
       "output_type": "stream",
       "stream": "stdout",
       "text": [
        "\n",
        "http://www.nytimes.com/aponline/2013/09/19/us/politics/ap-us-imf-lagarde.html"
       ]
      },
      {
       "output_type": "stream",
       "stream": "stdout",
       "text": [
        "\n",
        "http://www.nytimes.com/aponline/2013/09/19/science/ap-us-sci-mars-curiosity.html"
       ]
      },
      {
       "output_type": "stream",
       "stream": "stdout",
       "text": [
        "\n",
        "http://www.nytimes.com/reuters/2013/09/19/business/19reuters-egypt-qatar-deposits.html"
       ]
      },
      {
       "output_type": "stream",
       "stream": "stdout",
       "text": [
        "\n",
        "http://www.nytimes.com/aponline/2013/09/19/arts/ap-us-film-bryan-cranston.html"
       ]
      },
      {
       "output_type": "stream",
       "stream": "stdout",
       "text": [
        "\n",
        "http://www.nytimes.com/aponline/2013/09/19/world/europe/ap-eu-europe-financial-crisis.html"
       ]
      },
      {
       "output_type": "stream",
       "stream": "stdout",
       "text": [
        "\n",
        "http://www.nytimes.com/aponline/2013/09/19/us/ap-us-colorado-flooding-drilling.html"
       ]
      },
      {
       "output_type": "stream",
       "stream": "stdout",
       "text": [
        "\n",
        "http://www.nytimes.com/aponline/2013/09/19/us/politics/ap-us-jpmorgan-id-theft-fines.html"
       ]
      },
      {
       "output_type": "stream",
       "stream": "stdout",
       "text": [
        "\n",
        "http://www.nytimes.com/reuters/2013/09/19/business/19reuters-portigon-sale.html"
       ]
      },
      {
       "output_type": "stream",
       "stream": "stdout",
       "text": [
        "\n",
        "http://www.nytimes.com/aponline/2013/09/19/world/europe/ap-eu-italy-berlusconi.html"
       ]
      },
      {
       "output_type": "stream",
       "stream": "stdout",
       "text": [
        "\n",
        "http://www.nytimes.com/aponline/2013/09/19/business/ap-us-fda-tobacco-research.html"
       ]
      },
      {
       "output_type": "stream",
       "stream": "stdout",
       "text": [
        "\n",
        "http://www.nytimes.com/reuters/2013/09/19/world/americas/19reuters-storm-position-nhc.html"
       ]
      },
      {
       "output_type": "stream",
       "stream": "stdout",
       "text": [
        "\n",
        "http://www.nytimes.com/reuters/2013/09/19/world/africa/19reuters-guinea-election.html"
       ]
      },
      {
       "output_type": "stream",
       "stream": "stdout",
       "text": [
        "\n",
        "http://www.nytimes.com/aponline/2013/09/19/us/politics/ap-us-biden-colorado-flooding.html"
       ]
      },
      {
       "output_type": "stream",
       "stream": "stdout",
       "text": [
        "\n",
        "http://www.nytimes.com/reuters/2013/09/19/us/politics/19reuters-usa-energy-ferc-binz.html"
       ]
      },
      {
       "output_type": "stream",
       "stream": "stdout",
       "text": [
        "\n",
        "http://www.nytimes.com/reuters/2013/09/19/business/19reuters-jpmorgan-whale-billing.html"
       ]
      },
      {
       "output_type": "stream",
       "stream": "stdout",
       "text": [
        "\n",
        "http://www.nytimes.com/aponline/2013/09/19/business/ap-us-smart-spending-meat-labels.html"
       ]
      },
      {
       "output_type": "stream",
       "stream": "stdout",
       "text": [
        "\n",
        "http://www.nytimes.com/aponline/2013/09/19/us/ap-us-smallbiz-small-talk.html"
       ]
      },
      {
       "output_type": "stream",
       "stream": "stdout",
       "text": [
        "\n",
        "http://www.nytimes.com/aponline/2013/09/19/us/ap-us-venetian-casino-canals.html"
       ]
      },
      {
       "output_type": "stream",
       "stream": "stdout",
       "text": [
        "\n",
        "http://www.nytimes.com/reuters/2013/09/19/world/middleeast/19reuters-iran-un.html"
       ]
      },
      {
       "output_type": "stream",
       "stream": "stdout",
       "text": [
        "\n",
        "http://www.nytimes.com/aponline/2013/09/19/business/ap-us-on-the-money-for-sale-by-owner.html"
       ]
      },
      {
       "output_type": "stream",
       "stream": "stdout",
       "text": [
        "\n",
        "http://www.nytimes.com/reuters/2013/09/19/business/19reuters-toyota-peugeot.html"
       ]
      },
      {
       "output_type": "stream",
       "stream": "stdout",
       "text": [
        "\n",
        "http://www.nytimes.com/aponline/2013/09/19/business/ap-us-google-wallet-iphone.html"
       ]
      },
      {
       "output_type": "stream",
       "stream": "stdout",
       "text": [
        "\n",
        "http://www.nytimes.com/aponline/2013/09/19/us/ap-us-thrs-best.html"
       ]
      },
      {
       "output_type": "stream",
       "stream": "stdout",
       "text": [
        "\n",
        "http://www.nytimes.com/reuters/2013/09/19/sports/football/19reuters-nfl-dolphins.html"
       ]
      },
      {
       "output_type": "stream",
       "stream": "stdout",
       "text": [
        "\n",
        "http://www.nytimes.com/reuters/2013/09/19/technology/19reuters-sprint-tmobileus-auction.html"
       ]
      },
      {
       "output_type": "stream",
       "stream": "stdout",
       "text": [
        "\n",
        "http://www.nytimes.com/reuters/2013/09/19/sports/soccer/19reuters-soccer-italy-inter-moratti.html"
       ]
      },
      {
       "output_type": "stream",
       "stream": "stdout",
       "text": [
        "\n",
        "http://www.nytimes.com/reuters/2013/09/19/sports/soccer/19reuters-soccer-world-liberia.html"
       ]
      },
      {
       "output_type": "stream",
       "stream": "stdout",
       "text": [
        "\n",
        "http://www.nytimes.com/reuters/2013/09/19/sports/tennis/19reuters-tennis-murray.html"
       ]
      },
      {
       "output_type": "stream",
       "stream": "stdout",
       "text": [
        "\n",
        "http://www.nytimes.com/aponline/2013/09/19/business/ap-us-pandora-stock.html"
       ]
      },
      {
       "output_type": "stream",
       "stream": "stdout",
       "text": [
        "\n",
        "http://www.nytimes.com/aponline/2013/09/19/us/ap-us-millions-in-phone-charges.html"
       ]
      },
      {
       "output_type": "stream",
       "stream": "stdout",
       "text": [
        "\n",
        "http://www.nytimes.com/reuters/2013/09/19/world/europe/19reuters-syria-crisis-rasmussen.html"
       ]
      },
      {
       "output_type": "stream",
       "stream": "stdout",
       "text": [
        "\n",
        "http://www.nytimes.com/aponline/2013/09/19/arts/ap-us-music-carole-king.html"
       ]
      },
      {
       "output_type": "stream",
       "stream": "stdout",
       "text": [
        "\n",
        "http://www.nytimes.com/aponline/2013/09/19/us/ap-us-charlotte-police-shooting-death.html"
       ]
      },
      {
       "output_type": "stream",
       "stream": "stdout",
       "text": [
        "\n",
        "http://www.nytimes.com/aponline/2013/09/19/sports/baseball/ap-bbn-mets-wright.html"
       ]
      },
      {
       "output_type": "stream",
       "stream": "stdout",
       "text": [
        "\n",
        "http://www.nytimes.com/reuters/2013/09/19/us/19reuters-usa-execution-texas.html"
       ]
      },
      {
       "output_type": "stream",
       "stream": "stdout",
       "text": [
        "\n",
        "http://www.nytimes.com/aponline/2013/09/19/us/politics/ap-us-united-states-china.html"
       ]
      },
      {
       "output_type": "stream",
       "stream": "stdout",
       "text": [
        "\n",
        "http://www.nytimes.com/aponline/2013/09/19/world/asia/ap-as-taiwan-rubber-duck.html"
       ]
      },
      {
       "output_type": "stream",
       "stream": "stdout",
       "text": [
        "\n",
        "http://www.nytimes.com/aponline/2013/09/19/world/europe/ap-eu-russia-gays.html"
       ]
      },
      {
       "output_type": "stream",
       "stream": "stdout",
       "text": [
        "\n",
        "http://www.nytimes.com/aponline/2013/09/19/sports/soccer/ap-soc-world-cup-drug-testing.html"
       ]
      },
      {
       "output_type": "stream",
       "stream": "stdout",
       "text": [
        "\n",
        "http://www.nytimes.com/aponline/2013/09/19/arts/ap-us-indianapolis-symphony-director.html"
       ]
      },
      {
       "output_type": "stream",
       "stream": "stdout",
       "text": [
        "\n",
        "http://www.nytimes.com/reuters/2013/09/19/world/europe/19reuters-spain-baby.html"
       ]
      },
      {
       "output_type": "stream",
       "stream": "stdout",
       "text": [
        "\n",
        "http://www.nytimes.com/reuters/2013/09/19/sports/soccer/19reuters-intermilan-thohir.html"
       ]
      },
      {
       "output_type": "stream",
       "stream": "stdout",
       "text": [
        "\n",
        "http://www.nytimes.com/aponline/2013/09/19/world/africa/ap-af-south-africa-marikana.html"
       ]
      },
      {
       "output_type": "stream",
       "stream": "stdout",
       "text": [
        "\n",
        "http://www.nytimes.com/aponline/2013/09/19/us/politics/ap-us-delay-reaction.html"
       ]
      },
      {
       "output_type": "stream",
       "stream": "stdout",
       "text": [
        "\n",
        "http://www.nytimes.com/reuters/2013/09/19/us/politics/19reuters-usa-fiscal.html"
       ]
      },
      {
       "output_type": "stream",
       "stream": "stdout",
       "text": [
        "\n",
        "http://www.nytimes.com/reuters/2013/09/19/world/middleeast/19reuters-syria-crisis-lebanon.html"
       ]
      },
      {
       "output_type": "stream",
       "stream": "stdout",
       "text": [
        "\n",
        "http://www.nytimes.com/aponline/2013/09/19/world/europe/ap-eu-germany-tiger-attack.html"
       ]
      },
      {
       "output_type": "stream",
       "stream": "stdout",
       "text": [
        "\n",
        "http://www.nytimes.com/reuters/2013/09/19/world/middleeast/19reuters-egypt-rates.html"
       ]
      },
      {
       "output_type": "stream",
       "stream": "stdout",
       "text": [
        "\n",
        "http://www.nytimes.com/aponline/2013/09/19/us/ap-us-football-players-rape.html"
       ]
      },
      {
       "output_type": "stream",
       "stream": "stdout",
       "text": [
        "\n",
        "http://www.nytimes.com/aponline/2013/09/19/us/ap-us-insane-clown-posse-festival-debts.html"
       ]
      },
      {
       "output_type": "stream",
       "stream": "stdout",
       "text": [
        "\n",
        "http://www.nytimes.com/reuters/2013/09/19/us/19reuters-kaletsky-bernanke.html"
       ]
      },
      {
       "output_type": "stream",
       "stream": "stdout",
       "text": [
        "\n",
        "http://www.nytimes.com/aponline/2013/09/19/us/ap-us-charity-gambling-scandal.html"
       ]
      },
      {
       "output_type": "stream",
       "stream": "stdout",
       "text": [
        "\n",
        "http://www.nytimes.com/aponline/2013/09/19/world/europe/ap-eu-spain-baby-death.html"
       ]
      },
      {
       "output_type": "stream",
       "stream": "stdout",
       "text": [
        "\n",
        "http://www.nytimes.com/reuters/2013/09/19/technology/19reuters-blackberry-layoffs-moore.html"
       ]
      },
      {
       "output_type": "stream",
       "stream": "stdout",
       "text": [
        "\n",
        "http://www.nytimes.com/reuters/2013/09/19/world/europe/19reuters-russia-greenpeace-arrests.html"
       ]
      },
      {
       "output_type": "stream",
       "stream": "stdout",
       "text": [
        "\n",
        "http://www.nytimes.com/aponline/2013/09/19/world/europe/ap-eu-germany-election-issues.html"
       ]
      },
      {
       "output_type": "stream",
       "stream": "stdout",
       "text": [
        "\n",
        "http://www.nytimes.com/aponline/2013/09/19/us/ap-box-mayweather-alvarez-gate.html"
       ]
      },
      {
       "output_type": "stream",
       "stream": "stdout",
       "text": [
        "\n",
        "http://www.nytimes.com/reuters/2013/09/19/world/europe/19reuters-pope-interview.html"
       ]
      },
      {
       "output_type": "stream",
       "stream": "stdout",
       "text": [
        "\n",
        "http://www.nytimes.com/reuters/2013/09/19/world/americas/19reuters-colombia-santos-factbox.html"
       ]
      },
      {
       "output_type": "stream",
       "stream": "stdout",
       "text": [
        "\n",
        "http://www.nytimes.com/aponline/2013/09/19/world/middleeast/ap-ml-iran-khameneis-nod.html"
       ]
      },
      {
       "output_type": "stream",
       "stream": "stdout",
       "text": [
        "\n",
        "http://www.nytimes.com/reuters/2013/09/19/business/19reuters-ecb-banks-supervision.html"
       ]
      },
      {
       "output_type": "stream",
       "stream": "stdout",
       "text": [
        "\n",
        "http://www.nytimes.com/aponline/2013/09/19/us/ap-us-travel-trip-5-free-things-albuquerque.html"
       ]
      },
      {
       "output_type": "stream",
       "stream": "stdout",
       "text": [
        "\n",
        "http://www.nytimes.com/reuters/2013/09/19/sports/19reuters-sailing-americascup-viewers.html"
       ]
      },
      {
       "output_type": "stream",
       "stream": "stdout",
       "text": [
        "\n",
        "http://www.nytimes.com/reuters/2013/09/19/world/africa/19reuters-rop-congodemocratic-rebels-amnesty.html"
       ]
      },
      {
       "output_type": "stream",
       "stream": "stdout",
       "text": [
        "\n",
        "http://www.nytimes.com/reuters/2013/09/19/us/19reuters-storm-manuel.html"
       ]
      },
      {
       "output_type": "stream",
       "stream": "stdout",
       "text": [
        "\n",
        "http://www.nytimes.com/aponline/2013/09/19/business/ap-eu-germany-lufthansa-aircraft-order-summary-box.html"
       ]
      },
      {
       "output_type": "stream",
       "stream": "stdout",
       "text": [
        "\n",
        "http://www.nytimes.com/aponline/2013/09/19/world/europe/ap-eu-britain-parking-for-nuts.html"
       ]
      },
      {
       "output_type": "stream",
       "stream": "stdout",
       "text": [
        "\n",
        "http://www.nytimes.com/reuters/2013/09/19/business/19reuters-germany-election-financeminister-factbox.html"
       ]
      },
      {
       "output_type": "stream",
       "stream": "stdout",
       "text": [
        "\n",
        "http://www.nytimes.com/aponline/2013/09/19/business/ap-eu-finland-nokia-elop-.html"
       ]
      },
      {
       "output_type": "stream",
       "stream": "stdout",
       "text": [
        "\n",
        "http://www.nytimes.com/reuters/2013/09/19/business/19reuters-germany-election-financeminister.html"
       ]
      },
      {
       "output_type": "stream",
       "stream": "stdout",
       "text": [
        "\n",
        "http://www.nytimes.com/reuters/2013/09/19/arts/19reuters-caroleking.html"
       ]
      },
      {
       "output_type": "stream",
       "stream": "stdout",
       "text": [
        "\n",
        "http://www.nytimes.com/reuters/2013/09/19/technology/19reuters-nokia-microsoft-elop.html"
       ]
      },
      {
       "output_type": "stream",
       "stream": "stdout",
       "text": [
        "\n",
        "http://www.nytimes.com/aponline/2013/09/19/us/politics/ap-us-budget-battle-boehner-putin.html"
       ]
      },
      {
       "output_type": "stream",
       "stream": "stdout",
       "text": [
        "\n",
        "http://www.nytimes.com/reuters/2013/09/19/us/politics/19reuters-usa-crime-delay.html"
       ]
      },
      {
       "output_type": "stream",
       "stream": "stdout",
       "text": [
        "\n",
        "http://www.nytimes.com/reuters/2013/09/19/us/19reuters-column-adler.html"
       ]
      },
      {
       "output_type": "stream",
       "stream": "stdout",
       "text": [
        "\n",
        "http://www.nytimes.com/aponline/2013/09/19/us/ap-ap-10-things-to-see.html"
       ]
      },
      {
       "output_type": "stream",
       "stream": "stdout",
       "text": [
        "\n",
        "http://www.nytimes.com/reuters/2013/09/19/world/europe/19reuters-italy-berlusconi.html"
       ]
      },
      {
       "output_type": "stream",
       "stream": "stdout",
       "text": [
        "\n",
        "http://www.nytimes.com/reuters/2013/09/19/business/19reuters-italy-economy-forecasts.html"
       ]
      },
      {
       "output_type": "stream",
       "stream": "stdout",
       "text": [
        "\n",
        "http://www.nytimes.com/reuters/2013/09/19/us/politics/19reuters-usa-japan-kennedy.html"
       ]
      },
      {
       "output_type": "stream",
       "stream": "stdout",
       "text": [
        "\n",
        "http://www.nytimes.com/aponline/2013/09/19/us/politics/ap-us-budget-battle-boehner.html"
       ]
      },
      {
       "output_type": "stream",
       "stream": "stdout",
       "text": [
        "\n",
        "http://www.nytimes.com/reuters/2013/09/19/business/19reuters-total-investors-preview.html"
       ]
      },
      {
       "output_type": "stream",
       "stream": "stdout",
       "text": [
        "\n",
        "http://www.nytimes.com/aponline/2013/09/19/world/europe/ap-eu-russia-putin.html"
       ]
      },
      {
       "output_type": "stream",
       "stream": "stdout",
       "text": [
        "\n",
        "http://www.nytimes.com/reuters/2013/09/19/world/europe/19reuters-russia-putin.html"
       ]
      },
      {
       "output_type": "stream",
       "stream": "stdout",
       "text": [
        "\n",
        "http://www.nytimes.com/aponline/2013/09/19/business/ap-us-acceleron-pharma-ipo-mover.html"
       ]
      },
      {
       "output_type": "stream",
       "stream": "stdout",
       "text": [
        "\n",
        "http://www.nytimes.com/aponline/2013/09/19/us/ap-us-wall-street-midday.html"
       ]
      },
      {
       "output_type": "stream",
       "stream": "stdout",
       "text": [
        "\n",
        "http://www.nytimes.com/reuters/2013/09/19/us/politics/19reuters-usa-fiscal-boehner.html"
       ]
      },
      {
       "output_type": "stream",
       "stream": "stdout",
       "text": [
        "\n",
        "http://www.nytimes.com/reuters/2013/09/19/business/19reuters-ubs-warshaw.html"
       ]
      },
      {
       "output_type": "stream",
       "stream": "stdout",
       "text": [
        "\n",
        "http://www.nytimes.com/aponline/2013/09/19/us/politics/ap-us-shutdown-vs-default-.html"
       ]
      },
      {
       "output_type": "stream",
       "stream": "stdout",
       "text": [
        "\n",
        "http://www.nytimes.com/reuters/2013/09/19/sports/cycling/19reuters-cycling-britain.html"
       ]
      },
      {
       "output_type": "stream",
       "stream": "stdout",
       "text": [
        "\n",
        "http://www.nytimes.com/reuters/2013/09/19/business/19reuters-banking-standards-chairman.html"
       ]
      },
      {
       "output_type": "stream",
       "stream": "stdout",
       "text": [
        "\n",
        "http://www.nytimes.com/reuters/2013/09/19/us/19reuters-iran-nuclear-hardliners.html"
       ]
      },
      {
       "output_type": "stream",
       "stream": "stdout",
       "text": [
        "\n",
        "http://www.nytimes.com/aponline/2013/09/19/world/americas/ap-lt-brazil-missionary-killed.html"
       ]
      },
      {
       "output_type": "stream",
       "stream": "stdout",
       "text": [
        "\n",
        "http://www.nytimes.com/aponline/2013/09/19/world/middleeast/ap-un-un-iran.html"
       ]
      },
      {
       "output_type": "stream",
       "stream": "stdout",
       "text": [
        "\n",
        "http://www.nytimes.com/reuters/2013/09/19/business/19reuters-belarus-uralkali-baumgertner.html"
       ]
      },
      {
       "output_type": "stream",
       "stream": "stdout",
       "text": [
        "\n",
        "http://www.nytimes.com/reuters/2013/09/19/business/19reuters-austria-eurofighter-dana.html"
       ]
      },
      {
       "output_type": "stream",
       "stream": "stdout",
       "text": [
        "\n",
        "http://www.nytimes.com/reuters/2013/09/19/us/19reuters-usa-navy-shooting.html"
       ]
      },
      {
       "output_type": "stream",
       "stream": "stdout",
       "text": [
        "\n",
        "http://www.nytimes.com/reuters/2013/09/19/business/19reuters-alitalia-airfrance.html"
       ]
      },
      {
       "output_type": "stream",
       "stream": "stdout",
       "text": [
        "\n",
        "http://www.nytimes.com/reuters/2013/09/19/world/europe/19reuters-germany-election-foreigners.html"
       ]
      },
      {
       "output_type": "stream",
       "stream": "stdout",
       "text": [
        "\n",
        "http://www.nytimes.com/aponline/2013/09/19/us/ap-us-copper-king-heiress.html"
       ]
      },
      {
       "output_type": "stream",
       "stream": "stdout",
       "text": [
        "\n",
        "http://www.nytimes.com/reuters/2013/09/19/business/19reuters-roche-biomarin.html"
       ]
      },
      {
       "output_type": "stream",
       "stream": "stdout",
       "text": [
        "\n",
        "http://www.nytimes.com/reuters/2013/09/19/business/19reuters-france-airline-strike.html"
       ]
      },
      {
       "output_type": "stream",
       "stream": "stdout",
       "text": [
        "\n",
        "http://www.nytimes.com/reuters/2013/09/19/business/19reuters-poland-orange.html"
       ]
      },
      {
       "output_type": "stream",
       "stream": "stdout",
       "text": [
        "\n",
        "http://www.nytimes.com/reuters/2013/09/19/business/19reuters-rolls-royce.html"
       ]
      },
      {
       "output_type": "stream",
       "stream": "stdout",
       "text": [
        "\n",
        "http://www.nytimes.com/reuters/2013/09/19/business/19reuters-insurance-newyork.html"
       ]
      },
      {
       "output_type": "stream",
       "stream": "stdout",
       "text": [
        "\n",
        "http://www.nytimes.com/aponline/2013/09/19/arts/ap-us-music-kerouac-tribute.html"
       ]
      },
      {
       "output_type": "stream",
       "stream": "stdout",
       "text": [
        "\n",
        "http://www.nytimes.com/aponline/2013/09/19/arts/ap-us-books-junot-diaz.html"
       ]
      },
      {
       "output_type": "stream",
       "stream": "stdout",
       "text": [
        "\n",
        "http://www.nytimes.com/aponline/2013/09/19/business/ap-eu-germany-amazon.html"
       ]
      },
      {
       "output_type": "stream",
       "stream": "stdout",
       "text": [
        "\n",
        "http://www.nytimes.com/reuters/2013/09/19/business/19reuters-wellsfargo-jobs.html"
       ]
      },
      {
       "output_type": "stream",
       "stream": "stdout",
       "text": [
        "\n",
        "http://www.nytimes.com/reuters/2013/09/19/us/19reuters-putin-on-snowden.html"
       ]
      },
      {
       "output_type": "stream",
       "stream": "stdout",
       "text": [
        "\n",
        "http://www.nytimes.com/aponline/2013/09/19/us/ap-us-delay-conviction-overturned.html"
       ]
      },
      {
       "output_type": "stream",
       "stream": "stdout",
       "text": [
        "\n",
        "http://www.nytimes.com/aponline/2013/09/19/us/ap-us-wva-corruption-charges.html"
       ]
      },
      {
       "output_type": "stream",
       "stream": "stdout",
       "text": [
        "\n",
        "http://www.nytimes.com/aponline/2013/09/19/world/europe/ap-eu-vatican-pope-quotes.html"
       ]
      },
      {
       "output_type": "stream",
       "stream": "stdout",
       "text": [
        "\n",
        "http://www.nytimes.com/reuters/2013/09/19/us/19reuters-usa-navy-shooting-background.html"
       ]
      },
      {
       "output_type": "stream",
       "stream": "stdout",
       "text": [
        "\n",
        "http://www.nytimes.com/aponline/2013/09/19/world/europe/ap-eu-chemical-weapons-syria.html"
       ]
      },
      {
       "output_type": "stream",
       "stream": "stdout",
       "text": [
        "\n",
        "http://www.nytimes.com/reuters/2013/09/19/business/19reuters-telecomitalia-talks.html"
       ]
      },
      {
       "output_type": "stream",
       "stream": "stdout",
       "text": [
        "\n",
        "http://www.nytimes.com/aponline/2013/09/19/world/europe/ap-eu-vatican-pope.html"
       ]
      },
      {
       "output_type": "stream",
       "stream": "stdout",
       "text": [
        "\n",
        "http://www.nytimes.com/aponline/2013/09/19/us/ap-us-norman-rockwell-auction.html"
       ]
      },
      {
       "output_type": "stream",
       "stream": "stdout",
       "text": [
        "\n",
        "http://www.nytimes.com/reuters/2013/09/19/business/19reuters-jpmorgan-whale-debtcollection.html"
       ]
      },
      {
       "output_type": "stream",
       "stream": "stdout",
       "text": [
        "\n",
        "http://www.nytimes.com/aponline/2013/09/19/us/ap-us-political-memorabilia-auction.html"
       ]
      },
      {
       "output_type": "stream",
       "stream": "stdout",
       "text": [
        "\n",
        "http://www.nytimes.com/aponline/2013/09/19/world/middleeast/ap-ml-egypt-economy-.html"
       ]
      },
      {
       "output_type": "stream",
       "stream": "stdout",
       "text": [
        "\n",
        "http://www.nytimes.com/aponline/2013/09/19/us/ap-us-detroit-bankruptcy-a-few-minutes.html"
       ]
      },
      {
       "output_type": "stream",
       "stream": "stdout",
       "text": [
        "\n",
        "http://www.nytimes.com/reuters/2013/09/19/business/19reuters-home24-ikea-interview.html"
       ]
      },
      {
       "output_type": "stream",
       "stream": "stdout",
       "text": [
        "\n",
        "http://www.nytimes.com/reuters/2013/09/19/us/19reuters-usa-explosion-oklahoma.html"
       ]
      },
      {
       "output_type": "stream",
       "stream": "stdout",
       "text": [
        "\n",
        "http://www.nytimes.com/aponline/2013/09/19/arts/ap-us-theater-joan-allen.html"
       ]
      },
      {
       "output_type": "stream",
       "stream": "stdout",
       "text": [
        "\n",
        "http://www.nytimes.com/reuters/2013/09/19/business/19reuters-britain-boe-miles.html"
       ]
      },
      {
       "output_type": "stream",
       "stream": "stdout",
       "text": [
        "\n",
        "http://www.nytimes.com/aponline/2013/09/19/sports/tennis/ap-ten-guangzhou-.html"
       ]
      },
      {
       "output_type": "stream",
       "stream": "stdout",
       "text": [
        "\n",
        "http://www.nytimes.com/reuters/2013/09/19/business/19reuters-twitter-ipo.html"
       ]
      },
      {
       "output_type": "stream",
       "stream": "stdout",
       "text": [
        "\n",
        "http://www.nytimes.com/aponline/2013/09/19/arts/ap-us-theater-sting.html"
       ]
      },
      {
       "output_type": "stream",
       "stream": "stdout",
       "text": [
        "\n",
        "http://www.nytimes.com/reuters/2013/09/19/us/19reuters-usa-military-missile-defense.html"
       ]
      },
      {
       "output_type": "stream",
       "stream": "stdout",
       "text": [
        "\n",
        "http://www.nytimes.com/aponline/2013/09/19/us/politics/ap-budget-battle-obama.html"
       ]
      },
      {
       "output_type": "stream",
       "stream": "stdout",
       "text": [
        "\n",
        "http://www.nytimes.com/reuters/2013/09/19/business/19reuters-cargill-russia-plant.html"
       ]
      },
      {
       "output_type": "stream",
       "stream": "stdout",
       "text": [
        "\n",
        "http://www.nytimes.com/reuters/2013/09/19/sports/19reuters-snooker-osullivan.html"
       ]
      },
      {
       "output_type": "stream",
       "stream": "stdout",
       "text": [
        "\n",
        "http://www.nytimes.com/reuters/2013/09/19/business/19reuters-stanchart-compliance-appointments.html"
       ]
      },
      {
       "output_type": "stream",
       "stream": "stdout",
       "text": [
        "\n",
        "http://www.nytimes.com/aponline/2013/09/19/world/europe/ap-eu-un-iraq-iranian-exiles.html"
       ]
      },
      {
       "output_type": "stream",
       "stream": "stdout",
       "text": [
        "\n",
        "http://www.nytimes.com/reuters/2013/09/19/business/19reuters-roche-sale.html"
       ]
      },
      {
       "output_type": "stream",
       "stream": "stdout",
       "text": [
        "\n",
        "http://www.nytimes.com/reuters/2013/09/19/us/politics/19reuters-usa-fiscal-veto.html"
       ]
      },
      {
       "output_type": "stream",
       "stream": "stdout",
       "text": [
        "\n",
        "http://www.nytimes.com/reuters/2013/09/19/sports/cricket/19reuters-cricket-england-county.html"
       ]
      },
      {
       "output_type": "stream",
       "stream": "stdout",
       "text": [
        "\n",
        "http://www.nytimes.com/reuters/2013/09/19/world/europe/19reuters-azerbaijan-opposition.html"
       ]
      },
      {
       "output_type": "stream",
       "stream": "stdout",
       "text": [
        "\n",
        "http://www.nytimes.com/aponline/2013/09/19/sports/tennis/ap-ten-st-petersburg-open.html"
       ]
      },
      {
       "output_type": "stream",
       "stream": "stdout",
       "text": [
        "\n",
        "http://www.nytimes.com/aponline/2013/09/19/us/ap-us-wall-street.html"
       ]
      },
      {
       "output_type": "stream",
       "stream": "stdout",
       "text": [
        "\n",
        "http://www.nytimes.com/aponline/2013/09/19/arts/ap-us-tv-goldbergs.html"
       ]
      },
      {
       "output_type": "stream",
       "stream": "stdout",
       "text": [
        "\n",
        "http://www.nytimes.com/reuters/2013/09/19/business/19reuters-volkswagen-results-denial.html"
       ]
      },
      {
       "output_type": "stream",
       "stream": "stdout",
       "text": [
        "\n",
        "http://www.nytimes.com/reuters/2013/09/19/world/europe/19reuters-russia-greenpeace.html"
       ]
      },
      {
       "output_type": "stream",
       "stream": "stdout",
       "text": [
        "\n",
        "http://www.nytimes.com/aponline/2013/09/19/world/europe/ap-eu-russia-syria.html"
       ]
      },
      {
       "output_type": "stream",
       "stream": "stdout",
       "text": [
        "\n",
        "http://www.nytimes.com/reuters/2013/09/19/business/19reuters-usa-economy-index.html"
       ]
      },
      {
       "output_type": "stream",
       "stream": "stdout",
       "text": [
        "\n",
        "http://www.nytimes.com/reuters/2013/09/19/us/19reuters-saudi-women-driving.html"
       ]
      },
      {
       "output_type": "stream",
       "stream": "stdout",
       "text": [
        "\n",
        "http://www.nytimes.com/aponline/2013/09/19/world/middleeast/ap-ml-israel-palestinians.html"
       ]
      },
      {
       "output_type": "stream",
       "stream": "stdout",
       "text": [
        "\n",
        "http://www.nytimes.com/reuters/2013/09/19/world/europe/19reuters-italy-politics-berlusconi-analysis.html"
       ]
      },
      {
       "output_type": "stream",
       "stream": "stdout",
       "text": [
        "\n",
        "http://www.nytimes.com/aponline/2013/09/19/us/politics/ap-us-leading-indicators.html"
       ]
      },
      {
       "output_type": "stream",
       "stream": "stdout",
       "text": [
        "\n",
        "http://www.nytimes.com/reuters/2013/09/19/sports/soccer/19reuters-soccer-italy.html"
       ]
      },
      {
       "output_type": "stream",
       "stream": "stdout",
       "text": [
        "\n",
        "http://www.nytimes.com/aponline/2013/09/19/sports/ap-car-nascar-mwr-napa.html"
       ]
      },
      {
       "output_type": "stream",
       "stream": "stdout",
       "text": [
        "\n",
        "http://www.nytimes.com/reuters/2013/09/19/world/middleeast/19reuters-syria-churches.html"
       ]
      },
      {
       "output_type": "stream",
       "stream": "stdout",
       "text": [
        "\n",
        "http://www.nytimes.com/reuters/2013/09/19/business/19reuters-usa-economy-existinghomes.html"
       ]
      },
      {
       "output_type": "stream",
       "stream": "stdout",
       "text": [
        "\n",
        "http://www.nytimes.com/aponline/2013/09/19/sports/ap-ath-bolt-future.html"
       ]
      },
      {
       "output_type": "stream",
       "stream": "stdout",
       "text": [
        "\n",
        "http://www.nytimes.com/aponline/2013/09/19/us/politics/ap-us-home-sales.html"
       ]
      },
      {
       "output_type": "stream",
       "stream": "stdout",
       "text": [
        "\n",
        "http://www.nytimes.com/reuters/2013/09/19/sports/soccer/19reuters-soccer-england-manunited.html"
       ]
      },
      {
       "output_type": "stream",
       "stream": "stdout",
       "text": [
        "\n",
        "http://www.nytimes.com/aponline/2013/09/19/us/politics/ap-us-postal-finances.html"
       ]
      },
      {
       "output_type": "stream",
       "stream": "stdout",
       "text": [
        "\n",
        "http://www.nytimes.com/reuters/2013/09/19/business/19reuters-ge-oilandgas-analysis.html"
       ]
      },
      {
       "output_type": "stream",
       "stream": "stdout",
       "text": [
        "\n",
        "http://www.nytimes.com/aponline/2013/09/19/business/ap-us-ibm-acquisitions.html"
       ]
      },
      {
       "output_type": "stream",
       "stream": "stdout",
       "text": [
        "\n",
        "http://www.nytimes.com/aponline/2013/09/19/us/ap-us-odd-dui-on-riding-mower.html"
       ]
      },
      {
       "output_type": "stream",
       "stream": "stdout",
       "text": [
        "\n",
        "http://www.nytimes.com/reuters/2013/09/19/world/africa/19reuters-sudan-darfur.html"
       ]
      },
      {
       "output_type": "stream",
       "stream": "stdout",
       "text": [
        "\n",
        "http://www.nytimes.com/reuters/2013/09/19/sports/soccer/19reuters-soccer-dutch.html"
       ]
      },
      {
       "output_type": "stream",
       "stream": "stdout",
       "text": [
        "\n",
        "http://www.nytimes.com/aponline/2013/09/19/us/ap-us-obama-weapons-seized.html"
       ]
      },
      {
       "output_type": "stream",
       "stream": "stdout",
       "text": [
        "\n",
        "http://www.nytimes.com/aponline/2013/09/19/world/asia/ap-as-cambodia-election.html"
       ]
      },
      {
       "output_type": "stream",
       "stream": "stdout",
       "text": [
        "\n",
        "http://www.nytimes.com/reuters/2013/09/19/business/19reuters-bp-usa-offshore.html"
       ]
      },
      {
       "output_type": "stream",
       "stream": "stdout",
       "text": [
        "\n",
        "http://www.nytimes.com/aponline/2013/09/19/us/ap-us-wall-street-open.html"
       ]
      },
      {
       "output_type": "stream",
       "stream": "stdout",
       "text": [
        "\n",
        "http://www.nytimes.com/aponline/2013/09/19/world/asia/ap-as-india-gang-rape.html"
       ]
      },
      {
       "output_type": "stream",
       "stream": "stdout",
       "text": [
        "\n",
        "http://www.nytimes.com/aponline/2013/09/19/us/politics/ap-us-congress-benghazi-investigation.html"
       ]
      },
      {
       "output_type": "stream",
       "stream": "stdout",
       "text": [
        "\n",
        "http://www.nytimes.com/aponline/2013/09/19/business/ap-us-wick-communications-yunt.html"
       ]
      },
      {
       "output_type": "stream",
       "stream": "stdout",
       "text": [
        "\n",
        "http://www.nytimes.com/aponline/2013/09/19/arts/ap-us-national-book-awards-fiction.html"
       ]
      },
      {
       "output_type": "stream",
       "stream": "stdout",
       "text": [
        "\n",
        "http://www.nytimes.com/reuters/2013/09/19/sports/autoracing/19reuters-motor-racing-prix-vettel.html"
       ]
      },
      {
       "output_type": "stream",
       "stream": "stdout",
       "text": [
        "\n",
        "http://www.nytimes.com/reuters/2013/09/19/world/europe/19reuters-france-pensions-document.html"
       ]
      },
      {
       "output_type": "stream",
       "stream": "stdout",
       "text": [
        "\n",
        "http://www.nytimes.com/aponline/2013/09/19/world/ap-cn-canada-obit-low.html"
       ]
      },
      {
       "output_type": "stream",
       "stream": "stdout",
       "text": [
        "\n",
        "http://www.nytimes.com/aponline/2013/09/19/us/ap-us-jpmorgan-trading-loss-fines.html"
       ]
      },
      {
       "output_type": "stream",
       "stream": "stdout",
       "text": [
        "\n",
        "http://www.nytimes.com/reuters/2013/09/19/business/19reuters-volkswagen-results.html"
       ]
      },
      {
       "output_type": "stream",
       "stream": "stdout",
       "text": [
        "\n",
        "http://www.nytimes.com/aponline/2013/09/19/world/europe/ap-eu-switzerland-global-land-risks.html"
       ]
      },
      {
       "output_type": "stream",
       "stream": "stdout",
       "text": [
        "\n",
        "http://www.nytimes.com/aponline/2013/09/19/us/politics/ap-us-jpmorgan-trading-loss-fines-.html"
       ]
      },
      {
       "output_type": "stream",
       "stream": "stdout",
       "text": [
        "\n",
        "http://www.nytimes.com/reuters/2013/09/19/business/19reuters-usa-economy.html"
       ]
      },
      {
       "output_type": "stream",
       "stream": "stdout",
       "text": [
        "\n",
        "http://www.nytimes.com/reuters/2013/09/19/sports/19reuters-motor-racing-prix-ferrari.html"
       ]
      },
      {
       "output_type": "stream",
       "stream": "stdout",
       "text": [
        "\n",
        "http://www.nytimes.com/reuters/2013/09/19/business/19reuters-ge-oilandgas.html"
       ]
      },
      {
       "output_type": "stream",
       "stream": "stdout",
       "text": [
        "\n",
        "http://www.nytimes.com/reuters/2013/09/19/business/19reuters-vivendi-activision.html"
       ]
      },
      {
       "output_type": "stream",
       "stream": "stdout",
       "text": [
        "\n",
        "http://www.nytimes.com/aponline/2013/09/19/us/ap-fbn-49ers-aldon-smith-lawsuit.html"
       ]
      },
      {
       "output_type": "stream",
       "stream": "stdout",
       "text": [
        "\n",
        "http://www.nytimes.com/aponline/2013/09/19/world/europe/ap-eu-britain-terrorism-arrests.html"
       ]
      },
      {
       "output_type": "stream",
       "stream": "stdout",
       "text": [
        "\n",
        "http://www.nytimes.com/reuters/2013/09/19/world/americas/19reuters-colombia-santos-analysis.html"
       ]
      },
      {
       "output_type": "stream",
       "stream": "stdout",
       "text": [
        "\n",
        "http://www.nytimes.com/reuters/2013/09/19/sports/skiing/19reuters-alpine-skiing-schild.html"
       ]
      },
      {
       "output_type": "stream",
       "stream": "stdout",
       "text": [
        "\n",
        "http://www.nytimes.com/reuters/2013/09/19/world/asia/19reuters-srilanka-election.html"
       ]
      },
      {
       "output_type": "stream",
       "stream": "stdout",
       "text": [
        "\n",
        "http://www.nytimes.com/reuters/2013/09/19/business/19reuters-swiss-cahuzac-banker.html"
       ]
      },
      {
       "output_type": "stream",
       "stream": "stdout",
       "text": [
        "\n",
        "http://www.nytimes.com/aponline/2013/09/19/us/politics/ap-us-unemployment-benefits.html"
       ]
      },
      {
       "output_type": "stream",
       "stream": "stdout",
       "text": [
        "\n",
        "http://www.nytimes.com/reuters/2013/09/19/business/19reuters-markets-emerging.html"
       ]
      },
      {
       "output_type": "stream",
       "stream": "stdout",
       "text": [
        "\n",
        "http://www.nytimes.com/aponline/2013/09/19/us/politics/ap-us-current-account.html"
       ]
      },
      {
       "output_type": "stream",
       "stream": "stdout",
       "text": [
        "\n",
        "http://www.nytimes.com/reuters/2013/09/19/business/19reuters-jobless-claims-rise-but-govt-analyst-says.html"
       ]
      },
      {
       "output_type": "stream",
       "stream": "stdout",
       "text": [
        "\n",
        "http://www.nytimes.com/aponline/2013/09/19/arts/ap-us-book-review-men-we-reaped.html"
       ]
      },
      {
       "output_type": "stream",
       "stream": "stdout",
       "text": [
        "\n",
        "http://www.nytimes.com/aponline/2013/09/19/world/africa/ap-af-mali-president.html"
       ]
      },
      {
       "output_type": "stream",
       "stream": "stdout",
       "text": [
        "\n",
        "http://www.nytimes.com/aponline/2013/09/19/world/europe/ap-eu-climate-change.html"
       ]
      },
      {
       "output_type": "stream",
       "stream": "stdout",
       "text": [
        "\n",
        "http://www.nytimes.com/aponline/2013/09/19/world/middleeast/ap-ml-bahrain.html"
       ]
      },
      {
       "output_type": "stream",
       "stream": "stdout",
       "text": [
        "\n",
        "http://www.nytimes.com/reuters/2013/09/19/sports/soccer/19reuters-soccer-germany-bayern-goetze.html"
       ]
      },
      {
       "output_type": "stream",
       "stream": "stdout",
       "text": [
        "\n",
        "http://www.nytimes.com/reuters/2013/09/19/us/19reuters-syria-crisis-russia-weapons.html"
       ]
      },
      {
       "output_type": "stream",
       "stream": "stdout",
       "text": [
        "\n",
        "http://www.nytimes.com/reuters/2013/09/19/sports/baseball/19reuters-baseball-japan-resignation.html"
       ]
      },
      {
       "output_type": "stream",
       "stream": "stdout",
       "text": [
        "\n",
        "http://www.nytimes.com/aponline/2013/09/19/us/ap-us-travel-western-wildfires-yosemite.html"
       ]
      },
      {
       "output_type": "stream",
       "stream": "stdout",
       "text": [
        "\n",
        "http://www.nytimes.com/reuters/2013/09/19/business/19reuters-markets-stocks.html"
       ]
      },
      {
       "output_type": "stream",
       "stream": "stdout",
       "text": [
        "\n",
        "http://www.nytimes.com/aponline/2013/09/19/world/europe/ap-eu-cyprus-financial-crisis.html"
       ]
      },
      {
       "output_type": "stream",
       "stream": "stdout",
       "text": [
        "\n",
        "http://www.nytimes.com/reuters/2013/09/19/sports/autoracing/19reuters-motor-racing-prix-raikkonen.html"
       ]
      },
      {
       "output_type": "stream",
       "stream": "stdout",
       "text": [
        "\n",
        "http://www.nytimes.com/reuters/2013/09/19/world/asia/19reuters-pakistan-karachi.html"
       ]
      },
      {
       "output_type": "stream",
       "stream": "stdout",
       "text": [
        "\n",
        "http://www.nytimes.com/reuters/2013/09/19/sports/soccer/19reuters-soccer-world-uefa.html"
       ]
      },
      {
       "output_type": "stream",
       "stream": "stdout",
       "text": [
        "\n",
        "http://www.nytimes.com/reuters/2013/09/19/business/19reuters-ecb-asmussen.html"
       ]
      },
      {
       "output_type": "stream",
       "stream": "stdout",
       "text": [
        "\n",
        "http://www.nytimes.com/reuters/2013/09/19/world/middleeast/19reuters-syria-crisis-alawites.html"
       ]
      },
      {
       "output_type": "stream",
       "stream": "stdout",
       "text": [
        "\n",
        "http://www.nytimes.com/aponline/2013/09/19/us/ap-us-navy-yard-shooting-mass.html"
       ]
      },
      {
       "output_type": "stream",
       "stream": "stdout",
       "text": [
        "\n",
        "http://www.nytimes.com/reuters/2013/09/19/business/19reuters-india-economy-fed-analysis.html"
       ]
      },
      {
       "output_type": "stream",
       "stream": "stdout",
       "text": [
        "\n",
        "http://www.nytimes.com/reuters/2013/09/19/world/africa/19reuters-kenya-icc-trial.html"
       ]
      },
      {
       "output_type": "stream",
       "stream": "stdout",
       "text": [
        "\n",
        "http://www.nytimes.com/aponline/2013/09/19/business/ap-eu-europe-tax-evasion.html"
       ]
      },
      {
       "output_type": "stream",
       "stream": "stdout",
       "text": [
        "\n",
        "http://www.nytimes.com/aponline/2013/09/19/us/ap-us-wall-street-premarket.html"
       ]
      },
      {
       "output_type": "stream",
       "stream": "stdout",
       "text": [
        "\n",
        "http://www.nytimes.com/reuters/2013/09/19/world/middleeast/19reuters-iran-nuclear-rouhani.html"
       ]
      },
      {
       "output_type": "stream",
       "stream": "stdout",
       "text": [
        "\n",
        "http://www.nytimes.com/aponline/2013/09/19/us/politics/ap-us-iran-president.html"
       ]
      },
      {
       "output_type": "stream",
       "stream": "stdout",
       "text": [
        "\n",
        "http://www.nytimes.com/reuters/2013/09/19/world/americas/19reuters-crash.html"
       ]
      },
      {
       "output_type": "stream",
       "stream": "stdout",
       "text": [
        "\n",
        "http://www.nytimes.com/reuters/2013/09/19/world/middleeast/19reuters-yemen-power-cut.html"
       ]
      },
      {
       "output_type": "stream",
       "stream": "stdout",
       "text": [
        "\n",
        "http://www.nytimes.com/reuters/2013/09/19/sports/soccer/19reuters-soccer-england-liverpool-suarez.html"
       ]
      },
      {
       "output_type": "stream",
       "stream": "stdout",
       "text": [
        "\n",
        "http://www.nytimes.com/reuters/2013/09/19/world/asia/19reuters-hongkong-politics.html"
       ]
      },
      {
       "output_type": "stream",
       "stream": "stdout",
       "text": [
        "\n",
        "http://www.nytimes.com/reuters/2013/09/19/us/19reuters-iran-sotoudeh.html"
       ]
      },
      {
       "output_type": "stream",
       "stream": "stdout",
       "text": [
        "\n",
        "http://www.nytimes.com/reuters/2013/09/19/world/middleeast/19reuters-iraq-sectarian-insight.html"
       ]
      },
      {
       "output_type": "stream",
       "stream": "stdout",
       "text": [
        "\n",
        "http://www.nytimes.com/reuters/2013/09/19/business/19reuters-markets-money.html"
       ]
      },
      {
       "output_type": "stream",
       "stream": "stdout",
       "text": [
        "\n",
        "http://www.nytimes.com/reuters/2013/09/19/world/europe/19reuters-italy-politics-letta.html"
       ]
      },
      {
       "output_type": "stream",
       "stream": "stdout",
       "text": [
        "\n",
        "http://www.nytimes.com/reuters/2013/09/19/business/19reuters-china-usa-fed.html"
       ]
      },
      {
       "output_type": "stream",
       "stream": "stdout",
       "text": [
        "\n",
        "http://www.nytimes.com/reuters/2013/09/19/business/19reuters-usa-fed.html"
       ]
      },
      {
       "output_type": "stream",
       "stream": "stdout",
       "text": [
        "\n",
        "http://www.nytimes.com/aponline/2013/09/19/world/asia/ap-as-sri-lanka-journalist-flees.html"
       ]
      },
      {
       "output_type": "stream",
       "stream": "stdout",
       "text": [
        "\n",
        "http://www.nytimes.com/reuters/2013/09/19/business/19reuters-tata-singaporeairlines.html"
       ]
      },
      {
       "output_type": "stream",
       "stream": "stdout",
       "text": [
        "\n",
        "http://www.nytimes.com/aponline/2013/09/19/world/europe/ap-eu-britain-safrica-honeymoon-slaying.html"
       ]
      },
      {
       "output_type": "stream",
       "stream": "stdout",
       "text": [
        "\n",
        "http://www.nytimes.com/reuters/2013/09/19/business/19reuters-investment-banks.html"
       ]
      },
      {
       "output_type": "stream",
       "stream": "stdout",
       "text": [
        "\n",
        "http://www.nytimes.com/reuters/2013/09/19/world/europe/19reuters-bulgaria-government.html"
       ]
      },
      {
       "output_type": "stream",
       "stream": "stdout",
       "text": [
        "\n",
        "http://www.nytimes.com/reuters/2013/09/19/technology/19reuters-nintendo-yamauchi.html"
       ]
      },
      {
       "output_type": "stream",
       "stream": "stdout",
       "text": [
        "\n",
        "http://www.nytimes.com/reuters/2013/09/19/business/19reuters-iraq-economy-plan.html"
       ]
      },
      {
       "output_type": "stream",
       "stream": "stdout",
       "text": [
        "\n",
        "http://www.nytimes.com/reuters/2013/09/19/technology/19reuters-nuclear-marketing.html"
       ]
      },
      {
       "output_type": "stream",
       "stream": "stdout",
       "text": [
        "\n",
        "http://www.nytimes.com/reuters/2013/09/19/world/asia/19reuters-philippines-rebels.html"
       ]
      },
      {
       "output_type": "stream",
       "stream": "stdout",
       "text": [
        "\n",
        "http://www.nytimes.com/reuters/2013/09/19/world/europe/19reuters-germany-energy.html"
       ]
      },
      {
       "output_type": "stream",
       "stream": "stdout",
       "text": [
        "\n",
        "http://www.nytimes.com/reuters/2013/09/19/business/19reuters-covidien-restructuring.html"
       ]
      },
      {
       "output_type": "stream",
       "stream": "stdout",
       "text": [
        "\n",
        "http://www.nytimes.com/reuters/2013/09/19/business/19reuters-somalia-central-bank.html"
       ]
      },
      {
       "output_type": "stream",
       "stream": "stdout",
       "text": [
        "\n",
        "http://www.nytimes.com/reuters/2013/09/19/world/asia/19reuters-afghanistan-nato-drone.html"
       ]
      },
      {
       "output_type": "stream",
       "stream": "stdout",
       "text": [
        "\n",
        "http://www.nytimes.com/aponline/2013/09/19/world/europe/ap-eu-austria-hunters-tale.html"
       ]
      },
      {
       "output_type": "stream",
       "stream": "stdout",
       "text": [
        "\n",
        "http://www.nytimes.com/reuters/2013/09/19/business/19reuters-ireland-economy.html"
       ]
      },
      {
       "output_type": "stream",
       "stream": "stdout",
       "text": [
        "\n",
        "http://www.nytimes.com/reuters/2013/09/19/us/19reuters-usa-colorado-flooding-ages.html"
       ]
      },
      {
       "output_type": "stream",
       "stream": "stdout",
       "text": [
        "\n",
        "http://www.nytimes.com/reuters/2013/09/19/sports/soccer/19reuters-soccer-champions-marseille.html"
       ]
      },
      {
       "output_type": "stream",
       "stream": "stdout",
       "text": [
        "\n",
        "http://www.nytimes.com/aponline/2013/09/19/business/ap-as-japan-obit-hiroshi-yamauchi.html"
       ]
      },
      {
       "output_type": "stream",
       "stream": "stdout",
       "text": [
        "\n",
        "http://www.nytimes.com/reuters/2013/09/19/business/19reuters-airbus-china.html"
       ]
      },
      {
       "output_type": "stream",
       "stream": "stdout",
       "text": [
        "\n",
        "http://www.nytimes.com/aponline/2013/09/19/business/ap-as-japan-honda-recall.html"
       ]
      },
      {
       "output_type": "stream",
       "stream": "stdout",
       "text": [
        "\n",
        "http://www.nytimes.com/aponline/2013/09/19/world/asia/ap-as-asia-storm.html"
       ]
      },
      {
       "output_type": "stream",
       "stream": "stdout",
       "text": [
        "\n",
        "http://www.nytimes.com/reuters/2013/09/19/business/19reuters-lufthansa-fleet-a350-1000.html"
       ]
      },
      {
       "output_type": "stream",
       "stream": "stdout",
       "text": [
        "\n",
        "http://www.nytimes.com/aponline/2013/09/19/world/europe/ap-eu-britain-rhodes-scholarship.html"
       ]
      },
      {
       "output_type": "stream",
       "stream": "stdout",
       "text": [
        "\n",
        "http://www.nytimes.com/reuters/2013/09/19/business/19reuters-embraer-kc390-factbox.html"
       ]
      },
      {
       "output_type": "stream",
       "stream": "stdout",
       "text": [
        "\n",
        "http://www.nytimes.com/reuters/2013/09/19/world/europe/19reuters-syria-crisis-turkey.html"
       ]
      },
      {
       "output_type": "stream",
       "stream": "stdout",
       "text": [
        "\n",
        "http://www.nytimes.com/aponline/2013/09/19/world/asia/ap-as-philippines-rebel-standoff.html"
       ]
      },
      {
       "output_type": "stream",
       "stream": "stdout",
       "text": [
        "\n",
        "http://www.nytimes.com/reuters/2013/09/19/business/19reuters-embraer-kc390-insight.html"
       ]
      },
      {
       "output_type": "stream",
       "stream": "stdout",
       "text": [
        "\n",
        "http://www.nytimes.com/aponline/2013/09/19/business/ap-eu-germany-lufthansa-aircraft-order.html"
       ]
      },
      {
       "output_type": "stream",
       "stream": "stdout",
       "text": [
        "\n",
        "http://www.nytimes.com/reuters/2013/09/19/world/europe/19reuters-greece-funeral.html"
       ]
      },
      {
       "output_type": "stream",
       "stream": "stdout",
       "text": [
        "\n",
        "http://www.nytimes.com/reuters/2013/09/19/business/19reuters-britain-watchdog-libor.html"
       ]
      },
      {
       "output_type": "stream",
       "stream": "stdout",
       "text": [
        "\n",
        "http://www.nytimes.com/aponline/2013/09/19/us/ap-10-things-to-know-today.html"
       ]
      },
      {
       "output_type": "stream",
       "stream": "stdout",
       "text": [
        "\n",
        "http://www.nytimes.com/reuters/2013/09/19/business/19reuters-britain-manufacturing-cbi.html"
       ]
      },
      {
       "output_type": "stream",
       "stream": "stdout",
       "text": [
        "\n",
        "http://www.nytimes.com/aponline/2013/09/19/world/middleeast/ap-ml-syria-back-to-school.html"
       ]
      },
      {
       "output_type": "stream",
       "stream": "stdout",
       "text": [
        "\n",
        "http://www.nytimes.com/reuters/2013/09/19/technology/19reuters-facebook-ads.html"
       ]
      },
      {
       "output_type": "stream",
       "stream": "stdout",
       "text": [
        "\n",
        "http://www.nytimes.com/aponline/2013/09/19/us/ap-us-powerball-jackpot-sc.html"
       ]
      },
      {
       "output_type": "stream",
       "stream": "stdout",
       "text": [
        "\n",
        "http://www.nytimes.com/reuters/2013/09/19/sports/soccer/19reuters-soccer-champions-chelsea.html"
       ]
      },
      {
       "output_type": "stream",
       "stream": "stdout",
       "text": [
        "\n",
        "http://www.nytimes.com/reuters/2013/09/19/business/19reuters-cyprus-centralbank.html"
       ]
      },
      {
       "output_type": "stream",
       "stream": "stdout",
       "text": [
        "\n",
        "http://www.nytimes.com/reuters/2013/09/19/technology/19reuters-helium-shortage-analysis.html"
       ]
      },
      {
       "output_type": "stream",
       "stream": "stdout",
       "text": [
        "\n",
        "http://www.nytimes.com/aponline/2013/09/19/us/ap-us-gulf-oil-spill-halliburton.html"
       ]
      },
      {
       "output_type": "stream",
       "stream": "stdout",
       "text": [
        "\n",
        "http://www.nytimes.com/aponline/2013/09/19/sports/ap-ski-schild-retires.html"
       ]
      },
      {
       "output_type": "stream",
       "stream": "stdout",
       "text": [
        "\n",
        "http://www.nytimes.com/aponline/2013/09/19/world/middleeast/ap-ml-libya.html"
       ]
      },
      {
       "output_type": "stream",
       "stream": "stdout",
       "text": [
        "\n",
        "http://www.nytimes.com/aponline/2013/09/19/world/europe/ap-eu-kosovo-shooting.html"
       ]
      },
      {
       "output_type": "stream",
       "stream": "stdout",
       "text": [
        "\n",
        "http://www.nytimes.com/reuters/2013/09/19/world/middleeast/19reuters-usa-guantanamo.html"
       ]
      },
      {
       "output_type": "stream",
       "stream": "stdout",
       "text": [
        "\n",
        "http://www.nytimes.com/reuters/2013/09/19/sports/soccer/19reuters-soccer-spain-arda-contract.html"
       ]
      },
      {
       "output_type": "stream",
       "stream": "stdout",
       "text": [
        "\n",
        "http://www.nytimes.com/reuters/2013/09/19/sports/soccer/19reuters-soccer-champions-milan.html"
       ]
      },
      {
       "output_type": "stream",
       "stream": "stdout",
       "text": [
        "\n",
        "http://www.nytimes.com/reuters/2013/09/19/world/europe/19reuters-russia-usa-mccain.html"
       ]
      },
      {
       "output_type": "stream",
       "stream": "stdout",
       "text": [
        "\n",
        "http://www.nytimes.com/aponline/2013/09/19/world/europe/ap-eu-germany-syria-chemical-weapons.html"
       ]
      },
      {
       "output_type": "stream",
       "stream": "stdout",
       "text": [
        "\n",
        "http://www.nytimes.com/reuters/2013/09/19/world/middleeast/19reuters-iraq-violence-corpses.html"
       ]
      },
      {
       "output_type": "stream",
       "stream": "stdout",
       "text": [
        "\n",
        "http://www.nytimes.com/reuters/2013/09/19/business/19reuters-greece-unemployment.html"
       ]
      },
      {
       "output_type": "stream",
       "stream": "stdout",
       "text": [
        "\n",
        "http://www.nytimes.com/aponline/2013/09/19/world/africa/ap-af-kenya-icc.html"
       ]
      },
      {
       "output_type": "stream",
       "stream": "stdout",
       "text": [
        "\n",
        "http://www.nytimes.com/aponline/2013/09/19/world/europe/ap-eu-greece-stabbing.html"
       ]
      },
      {
       "output_type": "stream",
       "stream": "stdout",
       "text": [
        "\n",
        "http://www.nytimes.com/reuters/2013/09/19/world/europe/19reuters-britain-poll.html"
       ]
      },
      {
       "output_type": "stream",
       "stream": "stdout",
       "text": [
        "\n",
        "http://www.nytimes.com/aponline/2013/09/19/technology/ap-as-tec-japan-tokyo-game-show.html"
       ]
      },
      {
       "output_type": "stream",
       "stream": "stdout",
       "text": [
        "\n",
        "http://www.nytimes.com/reuters/2013/09/19/sports/soccer/19reuters-soccer-champions-dortmund-klopp.html"
       ]
      },
      {
       "output_type": "stream",
       "stream": "stdout",
       "text": [
        "\n",
        "http://www.nytimes.com/reuters/2013/09/19/sports/soccer/19reuters-soccer-spain.html"
       ]
      },
      {
       "output_type": "stream",
       "stream": "stdout",
       "text": [
        "\n",
        "http://www.nytimes.com/reuters/2013/09/19/sports/soccer/19reuters-soccer-germany.html"
       ]
      },
      {
       "output_type": "stream",
       "stream": "stdout",
       "text": [
        "\n",
        "http://www.nytimes.com/reuters/2013/09/19/world/europe/19reuters-britain-blair-daughter.html"
       ]
      },
      {
       "output_type": "stream",
       "stream": "stdout",
       "text": [
        "\n",
        "http://www.nytimes.com/aponline/2013/09/19/sports/tennis/ap-ten-korea-open.html"
       ]
      },
      {
       "output_type": "stream",
       "stream": "stdout",
       "text": [
        "\n",
        "http://www.nytimes.com/reuters/2013/09/19/sports/soccer/19reuters-soccer-bruges.html"
       ]
      },
      {
       "output_type": "stream",
       "stream": "stdout",
       "text": [
        "\n",
        "http://www.nytimes.com/reuters/2013/09/19/sports/soccer/19reuters-soccer-champions-atletico.html"
       ]
      },
      {
       "output_type": "stream",
       "stream": "stdout",
       "text": [
        "\n",
        "http://www.nytimes.com/reuters/2013/09/19/world/middleeast/19reuters-egypt-protests-curfew.html"
       ]
      },
      {
       "output_type": "stream",
       "stream": "stdout",
       "text": [
        "\n",
        "http://www.nytimes.com/aponline/2013/09/19/world/asia/ap-as-japan-nuclear.html"
       ]
      },
      {
       "output_type": "stream",
       "stream": "stdout",
       "text": [
        "\n",
        "http://www.nytimes.com/reuters/2013/09/19/sports/olympics/19reuters-japan-fukushima-abe.html"
       ]
      },
      {
       "output_type": "stream",
       "stream": "stdout",
       "text": [
        "\n",
        "http://www.nytimes.com/reuters/2013/09/19/business/19reuters-lufthansa-fleet-order.html"
       ]
      },
      {
       "output_type": "stream",
       "stream": "stdout",
       "text": [
        "\n",
        "http://www.nytimes.com/reuters/2013/09/19/business/19reuters-japan-economy-land.html"
       ]
      },
      {
       "output_type": "stream",
       "stream": "stdout",
       "text": [
        "\n",
        "http://www.nytimes.com/reuters/2013/09/19/business/19reuters-britain-retail.html"
       ]
      },
      {
       "output_type": "stream",
       "stream": "stdout",
       "text": [
        "\n",
        "http://www.nytimes.com/reuters/2013/09/19/business/19reuters-scania.html"
       ]
      },
      {
       "output_type": "stream",
       "stream": "stdout",
       "text": [
        "\n",
        "http://www.nytimes.com/reuters/2013/09/19/business/19reuters-huishan-ipo-banks.html"
       ]
      },
      {
       "output_type": "stream",
       "stream": "stdout",
       "text": [
        "\n",
        "http://www.nytimes.com/reuters/2013/09/19/business/19reuters-economy-global-housing.html"
       ]
      },
      {
       "output_type": "stream",
       "stream": "stdout",
       "text": [
        "\n",
        "http://www.nytimes.com/reuters/2013/09/19/business/19reuters-usa-fed-banks-analysis.html"
       ]
      },
      {
       "output_type": "stream",
       "stream": "stdout",
       "text": [
        "\n",
        "http://www.nytimes.com/aponline/2013/09/19/sports/golf/ap-glf-tour-championship.html"
       ]
      },
      {
       "output_type": "stream",
       "stream": "stdout",
       "text": [
        "\n",
        "http://www.nytimes.com/aponline/2013/09/19/us/ap-us-oklahoma-plant-fire.html"
       ]
      },
      {
       "output_type": "stream",
       "stream": "stdout",
       "text": [
        "\n",
        "http://www.nytimes.com/aponline/2013/09/19/sports/ap-box-obit-ken-norton.html"
       ]
      },
      {
       "output_type": "stream",
       "stream": "stdout",
       "text": [
        "\n",
        "http://www.nytimes.com/reuters/2013/09/19/world/asia/19reuters-afghanistan-violence.html"
       ]
      },
      {
       "output_type": "stream",
       "stream": "stdout",
       "text": [
        "\n",
        "http://www.nytimes.com/reuters/2013/09/19/business/19reuters-microsoft-infraware.html"
       ]
      },
      {
       "output_type": "stream",
       "stream": "stdout",
       "text": [
        "\n",
        "http://www.nytimes.com/reuters/2013/09/19/world/middleeast/19reuters-yemen-journalists.html"
       ]
      },
      {
       "output_type": "stream",
       "stream": "stdout",
       "text": [
        "\n",
        "http://www.nytimes.com/reuters/2013/09/19/business/19reuters-markets-britain-stocks.html"
       ]
      },
      {
       "output_type": "stream",
       "stream": "stdout",
       "text": [
        "\n",
        "http://www.nytimes.com/reuters/2013/09/19/world/europe/19reuters-germany-election.html"
       ]
      },
      {
       "output_type": "stream",
       "stream": "stdout",
       "text": [
        "\n",
        "http://www.nytimes.com/reuters/2013/09/19/world/19reuters-kosovo-eu-attack.html"
       ]
      },
      {
       "output_type": "stream",
       "stream": "stdout",
       "text": [
        "\n",
        "http://www.nytimes.com/aponline/2013/09/19/world/asia/ap-as-bangladesh-war-crimes.html"
       ]
      },
      {
       "output_type": "stream",
       "stream": "stdout",
       "text": [
        "\n",
        "http://www.nytimes.com/reuters/2013/09/19/business/19reuters-officeoffairtrading-brief.html"
       ]
      },
      {
       "output_type": "stream",
       "stream": "stdout",
       "text": [
        "\n",
        "http://www.nytimes.com/aponline/2013/09/19/world/middleeast/ap-ml-iraq.html"
       ]
      },
      {
       "output_type": "stream",
       "stream": "stdout",
       "text": [
        "\n",
        "http://www.nytimes.com/reuters/2013/09/19/sports/golf/19reuters-golf-asia-fiji.html"
       ]
      },
      {
       "output_type": "stream",
       "stream": "stdout",
       "text": [
        "\n",
        "http://www.nytimes.com/aponline/2013/09/19/world/europe/ap-eu-germany-steinbrueck-profile.html"
       ]
      },
      {
       "output_type": "stream",
       "stream": "stdout",
       "text": [
        "\n",
        "http://www.nytimes.com/aponline/2013/09/19/world/europe/ap-eu-germany-merkel-profile.html"
       ]
      },
      {
       "output_type": "stream",
       "stream": "stdout",
       "text": [
        "\n",
        "http://www.nytimes.com/aponline/2013/09/19/world/asia/ap-as-vietnam-runaway-developer.html"
       ]
      },
      {
       "output_type": "stream",
       "stream": "stdout",
       "text": [
        "\n",
        "http://www.nytimes.com/aponline/2013/09/19/sports/baseball/ap-bbn-dodgers.html"
       ]
      },
      {
       "output_type": "stream",
       "stream": "stdout",
       "text": [
        "\n",
        "http://www.nytimes.com/reuters/2013/09/19/world/middleeast/19reuters-syria-crisis-nato.html"
       ]
      },
      {
       "output_type": "stream",
       "stream": "stdout",
       "text": [
        "\n",
        "http://www.nytimes.com/reuters/2013/09/19/sports/soccer/19reuters-soccer-brazil-championship.html"
       ]
      },
      {
       "output_type": "stream",
       "stream": "stdout",
       "text": [
        "\n",
        "http://www.nytimes.com/aponline/2013/09/19/world/asia/ap-as-afghan-college-boom.html"
       ]
      },
      {
       "output_type": "stream",
       "stream": "stdout",
       "text": [
        "\n",
        "http://www.nytimes.com/aponline/2013/09/19/us/politics/ap-us-online-piracy.html"
       ]
      },
      {
       "output_type": "stream",
       "stream": "stdout",
       "text": [
        "\n",
        "http://www.nytimes.com/aponline/2013/09/19/us/politics/ap-us-budget-house-republicans.html"
       ]
      },
      {
       "output_type": "stream",
       "stream": "stdout",
       "text": [
        "\n",
        "http://www.nytimes.com/reuters/2013/09/19/business/19reuters-jpmorgan-whale.html"
       ]
      },
      {
       "output_type": "stream",
       "stream": "stdout",
       "text": [
        "\n",
        "http://www.nytimes.com/aponline/2013/09/19/us/ap-us-home-invasion-girl-found.html"
       ]
      },
      {
       "output_type": "stream",
       "stream": "stdout",
       "text": [
        "\n",
        "http://www.nytimes.com/aponline/2013/09/19/us/politics/ap-us-budget-battle-.html"
       ]
      },
      {
       "output_type": "stream",
       "stream": "stdout",
       "text": [
        "\n",
        "http://www.nytimes.com/aponline/2013/09/19/us/politics/ap-us-caroline-kennedy-japan.html"
       ]
      },
      {
       "output_type": "stream",
       "stream": "stdout",
       "text": [
        "\n",
        "http://www.nytimes.com/reuters/2013/09/19/business/19reuters-greece-economy.html"
       ]
      },
      {
       "output_type": "stream",
       "stream": "stdout",
       "text": [
        "\n",
        "http://www.nytimes.com/aponline/2013/09/19/us/politics/ap-us-obama-exports.html"
       ]
      },
      {
       "output_type": "stream",
       "stream": "stdout",
       "text": [
        "\n",
        "http://www.nytimes.com/aponline/2013/09/19/world/middleeast/ap-ml-egypt-christian-fears.html"
       ]
      },
      {
       "output_type": "stream",
       "stream": "stdout",
       "text": [
        "\n",
        "http://www.nytimes.com/aponline/2013/09/19/us/politics/ap-us-security-guard-shooting.html"
       ]
      },
      {
       "output_type": "stream",
       "stream": "stdout",
       "text": [
        "\n",
        "http://www.nytimes.com/reuters/2013/09/19/sports/tennis/19reuters-tennis-japan-williams.html"
       ]
      },
      {
       "output_type": "stream",
       "stream": "stdout",
       "text": [
        "\n",
        "http://www.nytimes.com/aponline/2013/09/19/us/politics/ap-us-malaria-military.html"
       ]
      },
      {
       "output_type": "stream",
       "stream": "stdout",
       "text": [
        "\n",
        "http://www.nytimes.com/aponline/2013/09/19/us/ap-us-western-wildfires-yosemite.html"
       ]
      },
      {
       "output_type": "stream",
       "stream": "stdout",
       "text": [
        "\n",
        "http://www.nytimes.com/aponline/2013/09/19/world/middleeast/ap-ml-syria.html"
       ]
      },
      {
       "output_type": "stream",
       "stream": "stdout",
       "text": [
        "\n",
        "http://www.nytimes.com/aponline/2013/09/19/us/politics/ap-us-food-stamps-.html"
       ]
      },
      {
       "output_type": "stream",
       "stream": "stdout",
       "text": [
        "\n",
        "http://www.nytimes.com/reuters/2013/09/19/business/19reuters-booker.html"
       ]
      },
      {
       "output_type": "stream",
       "stream": "stdout",
       "text": [
        "\n",
        "http://www.nytimes.com/aponline/2013/09/19/us/politics/ap-us-navy-yard-shooting.html"
       ]
      },
      {
       "output_type": "stream",
       "stream": "stdout",
       "text": [
        "\n",
        "http://www.nytimes.com/aponline/2013/09/19/world/middleeast/ap-ml-egypt.html"
       ]
      },
      {
       "output_type": "stream",
       "stream": "stdout",
       "text": [
        "\n",
        "http://www.nytimes.com/reuters/2013/09/19/technology/19reuters-sony-ps4sales-profit.html"
       ]
      },
      {
       "output_type": "stream",
       "stream": "stdout",
       "text": [
        "\n",
        "http://www.nytimes.com/reuters/2013/09/19/world/middleeast/19reuters-egypt-protests-metro.html"
       ]
      },
      {
       "output_type": "stream",
       "stream": "stdout",
       "text": [
        "\n",
        "http://www.nytimes.com/aponline/2013/09/19/world/asia/ap-as-china-bo-xilai-defiant-letter.html"
       ]
      },
      {
       "output_type": "stream",
       "stream": "stdout",
       "text": [
        "\n",
        "http://www.nytimes.com/aponline/2013/09/19/world/asia/ap-as-new-zealand-missing-canadians.html"
       ]
      },
      {
       "output_type": "stream",
       "stream": "stdout",
       "text": [
        "\n",
        "http://www.nytimes.com/reuters/2013/09/19/business/19reuters-asos-sales.html"
       ]
      },
      {
       "output_type": "stream",
       "stream": "stdout",
       "text": [
        "\n",
        "http://www.nytimes.com/aponline/2013/09/19/us/ap-us-honest-homeless-man-fund.html"
       ]
      },
      {
       "output_type": "stream",
       "stream": "stdout",
       "text": [
        "\n",
        "http://www.nytimes.com/reuters/2013/09/19/business/19reuters-honda-recall.html"
       ]
      },
      {
       "output_type": "stream",
       "stream": "stdout",
       "text": [
        "\n",
        "http://www.nytimes.com/reuters/2013/09/19/business/19reuters-emirates-india-etihad.html"
       ]
      },
      {
       "output_type": "stream",
       "stream": "stdout",
       "text": [
        "\n",
        "http://www.nytimes.com/aponline/2013/09/19/sports/baseball/ap-bbn-dodgers-diamondbacks.html"
       ]
      },
      {
       "output_type": "stream",
       "stream": "stdout",
       "text": [
        "\n",
        "http://www.nytimes.com/aponline/2013/09/19/sports/baseball/ap-bbo-reds-astros.html"
       ]
      },
      {
       "output_type": "stream",
       "stream": "stdout",
       "text": [
        "\n",
        "http://www.nytimes.com/reuters/2013/09/19/world/middleeast/19reuters-egypt-protests-kerdasah.html"
       ]
      },
      {
       "output_type": "stream",
       "stream": "stdout",
       "text": [
        "\n",
        "http://www.nytimes.com/aponline/2013/09/19/us/ap-us-purple-heart-daughter.html"
       ]
      },
      {
       "output_type": "stream",
       "stream": "stdout",
       "text": [
        "\n",
        "http://www.nytimes.com/reuters/2013/09/19/us/19reuters-usa-colorado-flooding.html"
       ]
      },
      {
       "output_type": "stream",
       "stream": "stdout",
       "text": [
        "\n",
        "http://www.nytimes.com/aponline/2013/09/19/world/asia/ap-as-indonesia-volcano-eruption.html"
       ]
      },
      {
       "output_type": "stream",
       "stream": "stdout",
       "text": [
        "\n",
        "http://www.nytimes.com/aponline/2013/09/19/us/ap-us-missing-vehicles-bodies.html"
       ]
      },
      {
       "output_type": "stream",
       "stream": "stdout",
       "text": [
        "\n",
        "http://www.nytimes.com/aponline/2013/09/19/health/ap-us-med-right-sizing-chemo.html"
       ]
      },
      {
       "output_type": "stream",
       "stream": "stdout",
       "text": [
        "\n",
        "http://www.nytimes.com/aponline/2013/09/19/world/asia/ap-oil-prices.html"
       ]
      },
      {
       "output_type": "stream",
       "stream": "stdout",
       "text": [
        "\n",
        "http://www.nytimes.com/aponline/2013/09/19/world/americas/ap-tropical-weather.html"
       ]
      },
      {
       "output_type": "stream",
       "stream": "stdout",
       "text": [
        "\n",
        "http://www.nytimes.com/reuters/2013/09/19/us/19reuters-usa-lottery-powerball.html"
       ]
      },
      {
       "output_type": "stream",
       "stream": "stdout",
       "text": [
        "\n",
        "http://www.nytimes.com/aponline/2013/09/19/world/asia/ap-world-markets.html"
       ]
      },
      {
       "output_type": "stream",
       "stream": "stdout",
       "text": [
        "\n",
        "http://www.nytimes.com/aponline/2013/09/19/us/ap-us-nfl-player-house-trashed.html"
       ]
      },
      {
       "output_type": "stream",
       "stream": "stdout",
       "text": [
        "\n",
        "http://www.nytimes.com/aponline/2013/09/19/us/ap-us-joking-judge.html"
       ]
      },
      {
       "output_type": "stream",
       "stream": "stdout",
       "text": [
        "\n",
        "http://www.nytimes.com/aponline/2013/09/19/us/ap-us-911-calls-evictions.html"
       ]
      },
      {
       "output_type": "stream",
       "stream": "stdout",
       "text": [
        "\n",
        "http://www.nytimes.com/aponline/2013/09/19/us/ap-us-aaron-hernandez.html"
       ]
      },
      {
       "output_type": "stream",
       "stream": "stdout",
       "text": [
        "\n",
        "http://www.nytimes.com/aponline/2013/09/19/us/ap-us-police-chief-video-controversy.html"
       ]
      },
      {
       "output_type": "stream",
       "stream": "stdout",
       "text": [
        "\n",
        "http://www.nytimes.com/aponline/2013/09/19/sports/hockey/ap-hkn-oilers-canucks.html"
       ]
      },
      {
       "output_type": "stream",
       "stream": "stdout",
       "text": [
        "\n",
        "http://www.nytimes.com/reuters/2013/09/19/us/19reuters-usa-lottery-powerball-winner.html"
       ]
      },
      {
       "output_type": "stream",
       "stream": "stdout",
       "text": [
        "\n",
        "http://www.nytimes.com/aponline/2013/09/19/us/ap-us-inmate-escape-killings.html"
       ]
      },
      {
       "output_type": "stream",
       "stream": "stdout",
       "text": [
        "\n",
        "http://www.nytimes.com/aponline/2013/09/19/us/ap-us-colorado-flooding.html"
       ]
      },
      {
       "output_type": "stream",
       "stream": "stdout",
       "text": [
        "\n",
        "http://www.nytimes.com/reuters/2013/09/19/business/19reuters-chrysler-jpmorgan.html"
       ]
      },
      {
       "output_type": "stream",
       "stream": "stdout",
       "text": [
        "\n",
        "http://www.nytimes.com/aponline/2013/09/19/us/ap-us-powerball-jackpot.html"
       ]
      },
      {
       "output_type": "stream",
       "stream": "stdout",
       "text": [
        "\n",
        "http://www.nytimes.com/reuters/2013/09/19/world/middleeast/19reuters-egypt-clashes.html"
       ]
      },
      {
       "output_type": "stream",
       "stream": "stdout",
       "text": [
        "\n",
        "http://www.nytimes.com/reuters/2013/09/19/business/19reuters-goldman-mirae-funds.html"
       ]
      },
      {
       "output_type": "stream",
       "stream": "stdout",
       "text": [
        "\n",
        "http://www.nytimes.com/aponline/2013/09/19/world/americas/ap-lt-paraguay-presidential-interview.html"
       ]
      },
      {
       "output_type": "stream",
       "stream": "stdout",
       "text": [
        "\n",
        "http://www.nytimes.com/aponline/2013/09/19/business/ap-us-federal-reserve-global-economy.html"
       ]
      },
      {
       "output_type": "stream",
       "stream": "stdout",
       "text": [
        "\n",
        "http://www.nytimes.com/aponline/2013/09/19/us/ap-us-bounty-hunter-harassment.html"
       ]
      },
      {
       "output_type": "stream",
       "stream": "stdout",
       "text": [
        "\n",
        "http://www.nytimes.com/reuters/2013/09/19/technology/19reuters-sony-ps4sales.html"
       ]
      },
      {
       "output_type": "stream",
       "stream": "stdout",
       "text": [
        "\n",
        "http://www.nytimes.com/reuters/2013/09/19/business/19reuters-banks-physicalcommodities-study.html"
       ]
      },
      {
       "output_type": "stream",
       "stream": "stdout",
       "text": [
        "\n",
        "http://www.nytimes.com/reuters/2013/09/19/sports/19reuters-sailing-americascup.html"
       ]
      },
      {
       "output_type": "stream",
       "stream": "stdout",
       "text": [
        "\n",
        "http://www.nytimes.com/aponline/2013/09/19/us/politics/ap-us-federal-reserve-the-great-debate.html"
       ]
      },
      {
       "output_type": "stream",
       "stream": "stdout",
       "text": [
        "\n",
        "http://www.nytimes.com/aponline/2013/09/19/us/politics/ap-us-census-uneven-recovery.html"
       ]
      },
      {
       "output_type": "stream",
       "stream": "stdout",
       "text": [
        "\n",
        "http://www.nytimes.com/reuters/2013/09/19/business/19reuters-japan-economy-boj.html"
       ]
      },
      {
       "output_type": "stream",
       "stream": "stdout",
       "text": [
        "\n",
        "http://www.nytimes.com/aponline/2013/09/19/us/politics/ap-us-russia-mccain.html"
       ]
      },
      {
       "output_type": "stream",
       "stream": "stdout",
       "text": [
        "\n",
        "http://www.nytimes.com/reuters/2013/09/19/us/19reuters-usa-colorado-flooding-spill.html"
       ]
      },
      {
       "output_type": "stream",
       "stream": "stdout",
       "text": [
        "\n",
        "http://www.nytimes.com/reuters/2013/09/19/business/19reuters-markets-global.html"
       ]
      },
      {
       "output_type": "stream",
       "stream": "stdout",
       "text": [
        "\n",
        "http://www.nytimes.com/aponline/2013/09/19/us/ap-history.html"
       ]
      },
      {
       "output_type": "stream",
       "stream": "stdout",
       "text": [
        "\n",
        "http://query.nytimes.com/gst/fullpage.html?res=9801EFDB123AF93AA2575AC0A9659D8B63"
       ]
      },
      {
       "output_type": "stream",
       "stream": "stdout",
       "text": [
        "\n",
        "http://query.nytimes.com/gst/fullpage.html?res=9F06EFDB123AF93AA2575AC0A9659D8B63"
       ]
      },
      {
       "output_type": "stream",
       "stream": "stdout",
       "text": [
        "\n",
        "http://query.nytimes.com/gst/fullpage.html?res=9D04EFDB123AF93AA2575AC0A9659D8B63\n",
        "http://query.nytimes.com/gst/fullpage.html?res=9E07EFDB123AF93AA2575AC0A9659D8B63"
       ]
      },
      {
       "output_type": "stream",
       "stream": "stdout",
       "text": [
        "\n",
        "http://query.nytimes.com/gst/fullpage.html?res=9C05EFDB123AF93AA2575AC0A9659D8B63"
       ]
      },
      {
       "output_type": "stream",
       "stream": "stdout",
       "text": [
        "\n",
        "http://query.nytimes.com/gst/fullpage.html?res=940CE0DB123AF93AA2575AC0A9659D8B63"
       ]
      },
      {
       "output_type": "stream",
       "stream": "stdout",
       "text": [
        "\n",
        "http://query.nytimes.com/gst/fullpage.html?res=9B0DE0DB123AF93AA2575AC0A9659D8B63"
       ]
      },
      {
       "output_type": "stream",
       "stream": "stdout",
       "text": [
        "\n",
        "http://query.nytimes.com/gst/fullpage.html?res=9A02E0DB123AF93AA2575AC0A9659D8B63"
       ]
      },
      {
       "output_type": "stream",
       "stream": "stdout",
       "text": [
        "\n",
        "http://query.nytimes.com/gst/fullpage.html?res=9903E0DB123AF93AA2575AC0A9659D8B63\n",
        "http://query.nytimes.com/gst/fullpage.html?res=9800E0DB123AF93AA2575AC0A9659D8B63"
       ]
      },
      {
       "output_type": "stream",
       "stream": "stdout",
       "text": [
        "\n",
        "http://query.nytimes.com/gst/fullpage.html?res=9F01E0DB123AF93AA2575AC0A9659D8B63"
       ]
      },
      {
       "output_type": "stream",
       "stream": "stdout",
       "text": [
        "\n",
        "http://query.nytimes.com/gst/fullpage.html?res=9E06E0DB123AF93AA2575AC0A9659D8B63"
       ]
      },
      {
       "output_type": "stream",
       "stream": "stdout",
       "text": [
        "\n",
        "http://query.nytimes.com/gst/fullpage.html?res=9D07E0DB123AF93AA2575AC0A9659D8B63\n",
        "http://query.nytimes.com/gst/fullpage.html?res=9C04E0DB123AF93AA2575AC0A9659D8B63"
       ]
      },
      {
       "output_type": "stream",
       "stream": "stdout",
       "text": [
        "\n",
        "http://query.nytimes.com/gst/fullpage.html?res=9505E0DB123AF93AA2575AC0A9659D8B63"
       ]
      },
      {
       "output_type": "stream",
       "stream": "stdout",
       "text": [
        "\n",
        "http://www.nytimes.com/aponline/2013/09/18/sports/hockey/ap-hkn-ducks-avalanche-.html\n",
        "http://www.nytimes.com/aponline/2013/09/18/sports/baseball/ap-bba-rangers-rays.html"
       ]
      },
      {
       "output_type": "stream",
       "stream": "stdout",
       "text": [
        "\n",
        "http://www.nytimes.com/aponline/2013/09/18/sports/hockey/ap-hkn-panthers-stars.html"
       ]
      },
      {
       "output_type": "stream",
       "stream": "stdout",
       "text": [
        "\n",
        "http://www.nytimes.com/aponline/2013/09/18/sports/baseball/ap-bba-orioles-red-sox.html"
       ]
      },
      {
       "output_type": "stream",
       "stream": "stdout",
       "text": [
        "\n",
        "http://www.nytimes.com/aponline/2013/09/18/sports/baseball/ap-bba-indians-royals.html"
       ]
      },
      {
       "output_type": "stream",
       "stream": "stdout",
       "text": [
        "\n",
        "http://www.nytimes.com/aponline/2013/09/18/sports/baseball/ap-bbn-cubs-brewers.html"
       ]
      },
      {
       "output_type": "stream",
       "stream": "stdout",
       "text": [
        "\n",
        "http://www.nytimes.com/aponline/2013/09/18/world/americas/ap-lt-tropical-weather.html"
       ]
      },
      {
       "output_type": "stream",
       "stream": "stdout",
       "text": [
        "\n",
        "http://www.nytimes.com/aponline/2013/09/18/us/ap-us-music-americana-awards.html"
       ]
      },
      {
       "output_type": "stream",
       "stream": "stdout",
       "text": [
        "\n",
        "http://www.nytimes.com/aponline/2013/09/18/sports/baseball/ap-bbn-marlins-phillies.html"
       ]
      },
      {
       "output_type": "stream",
       "stream": "stdout",
       "text": [
        "\n",
        "http://www.nytimes.com/aponline/2013/09/18/sports/baseball/ap-bbn-braves-nationals.html"
       ]
      },
      {
       "output_type": "stream",
       "stream": "stdout",
       "text": [
        "\n",
        "http://www.nytimes.com/aponline/2013/09/18/sports/baseball/ap-bbn-giants-mets.html"
       ]
      },
      {
       "output_type": "stream",
       "stream": "stdout",
       "text": [
        "\n",
        "http://www.nytimes.com/reuters/2013/09/18/technology/18reuters-sony-ps4sales.html"
       ]
      },
      {
       "output_type": "stream",
       "stream": "stdout",
       "text": [
        "\n",
        "http://www.nytimes.com/aponline/2013/09/18/sports/hockey/ap-hkn-blues-lightning.html"
       ]
      },
      {
       "output_type": "stream",
       "stream": "stdout",
       "text": [
        "\n",
        "http://www.nytimes.com/aponline/2013/09/18/sports/baseball/ap-bba-yankees-blue-jays.html"
       ]
      },
      {
       "output_type": "stream",
       "stream": "stdout",
       "text": [
        "\n",
        "http://www.nytimes.com/aponline/2013/09/18/sports/baseball/ap-bba-mariners-tigers.html"
       ]
      },
      {
       "output_type": "stream",
       "stream": "stdout",
       "text": [
        "\n",
        "http://www.nytimes.com/reuters/2013/09/18/sports/soccer/18reuters-soccer-england.html"
       ]
      },
      {
       "output_type": "stream",
       "stream": "stdout",
       "text": [
        "\n",
        "http://www.nytimes.com/reuters/2013/09/18/us/18reuters-usa-fossil-alaska.html"
       ]
      },
      {
       "output_type": "stream",
       "stream": "stdout",
       "text": [
        "\n",
        "http://www.nytimes.com/reuters/2013/09/18/us/18reuters-usa-newmexico-prisons.html"
       ]
      },
      {
       "output_type": "stream",
       "stream": "stdout",
       "text": [
        "\n",
        "http://www.nytimes.com/reuters/2013/09/18/business/18reuters-huishan-ipo.html"
       ]
      },
      {
       "output_type": "stream",
       "stream": "stdout",
       "text": [
        "\n",
        "http://www.nytimes.com/reuters/2013/09/18/world/asia/18reuters-china-children.html"
       ]
      },
      {
       "output_type": "stream",
       "stream": "stdout",
       "text": [
        "\n",
        "http://www.nytimes.com/aponline/2013/09/18/us/ap-us-mother-assaulted.html"
       ]
      },
      {
       "output_type": "stream",
       "stream": "stdout",
       "text": [
        "\n",
        "http://www.nytimes.com/aponline/2013/09/18/sports/baseball/ap-bbn-padres-pirates.html"
       ]
      },
      {
       "output_type": "stream",
       "stream": "stdout",
       "text": [
        "\n",
        "http://www.nytimes.com/reuters/2013/09/18/us/18reuters-usa-colorado-flooding-spill.html"
       ]
      },
      {
       "output_type": "stream",
       "stream": "stdout",
       "text": [
        "\n",
        "http://www.nytimes.com/aponline/2013/09/18/sports/hockey/ap-hkn-blue-jackets-hurricanes.html"
       ]
      },
      {
       "output_type": "stream",
       "stream": "stdout",
       "text": [
        "\n",
        "http://www.nytimes.com/reuters/2013/09/18/us/18reuters-usa-university-mansion.html"
       ]
      },
      {
       "output_type": "stream",
       "stream": "stdout",
       "text": [
        "\n",
        "http://www.nytimes.com/aponline/2013/09/18/us/ap-us-girl-scouts-extortion.html"
       ]
      },
      {
       "output_type": "stream",
       "stream": "stdout",
       "text": [
        "\n",
        "http://www.nytimes.com/reuters/2013/09/18/us/18reuters-usa-wisconsin-shooting.html"
       ]
      },
      {
       "output_type": "stream",
       "stream": "stdout",
       "text": [
        "\n",
        "http://www.nytimes.com/reuters/2013/09/18/business/18reuters-usa-fed-poll.html"
       ]
      },
      {
       "output_type": "stream",
       "stream": "stdout",
       "text": [
        "\n",
        "http://www.nytimes.com/aponline/2013/09/18/world/asia/ap-as-japan-trade.html"
       ]
      },
      {
       "output_type": "stream",
       "stream": "stdout",
       "text": [
        "\n",
        "http://www.nytimes.com/reuters/2013/09/18/business/18reuters-australia-companies-billabong.html"
       ]
      },
      {
       "output_type": "stream",
       "stream": "stdout",
       "text": [
        "\n",
        "http://www.nytimes.com/reuters/2013/09/18/us/18reuters-usa-greenriver-killer.html"
       ]
      },
      {
       "output_type": "stream",
       "stream": "stdout",
       "text": [
        "\n",
        "http://www.nytimes.com/aponline/2013/09/18/world/asia/ap-as-japan-nuclear.html"
       ]
      },
      {
       "output_type": "stream",
       "stream": "stdout",
       "text": [
        "\n",
        "http://www.nytimes.com/aponline/2013/09/18/us/ap-10-things-to-know-thursday.html"
       ]
      },
      {
       "output_type": "stream",
       "stream": "stdout",
       "text": [
        "\n",
        "http://www.nytimes.com/reuters/2013/09/18/sports/18reuters-boxing-kennorton.html"
       ]
      },
      {
       "output_type": "stream",
       "stream": "stdout",
       "text": [
        "\n",
        "http://www.nytimes.com/reuters/2013/09/18/world/americas/18reuters-usa-arizona-immigration.html"
       ]
      },
      {
       "output_type": "stream",
       "stream": "stdout",
       "text": [
        "\n",
        "http://www.nytimes.com/reuters/2013/09/18/us/18reuters-usa-tornado-shelters.html"
       ]
      },
      {
       "output_type": "stream",
       "stream": "stdout",
       "text": [
        "\n",
        "http://www.nytimes.com/reuters/2013/09/18/business/18reuters-wison-cfo.html"
       ]
      },
      {
       "output_type": "stream",
       "stream": "stdout",
       "text": [
        "\n",
        "http://www.nytimes.com/aponline/2013/09/18/sports/baseball/ap-bba-athletics.html"
       ]
      },
      {
       "output_type": "stream",
       "stream": "stdout",
       "text": [
        "\n",
        "http://www.nytimes.com/reuters/2013/09/18/sports/rugby/18reuters-rugby-australia-oconnor.html"
       ]
      },
      {
       "output_type": "stream",
       "stream": "stdout",
       "text": [
        "\n",
        "http://www.nytimes.com/reuters/2013/09/18/business/18reuters-usa-fed-fiscal.html"
       ]
      },
      {
       "output_type": "stream",
       "stream": "stdout",
       "text": [
        "\n",
        "http://www.nytimes.com/reuters/2013/09/18/technology/18reuters-venture-lawsuit-sexdiscrimination.html"
       ]
      },
      {
       "output_type": "stream",
       "stream": "stdout",
       "text": [
        "\n",
        "http://www.nytimes.com/reuters/2013/09/18/us/18reuters-usa-alaska-dividend.html"
       ]
      },
      {
       "output_type": "stream",
       "stream": "stdout",
       "text": [
        "\n",
        "http://www.nytimes.com/reuters/2013/09/18/business/18reuters-china-property.html"
       ]
      },
      {
       "output_type": "stream",
       "stream": "stdout",
       "text": [
        "\n",
        "http://www.nytimes.com/aponline/2013/09/18/us/ap-us-dish-hopper.html"
       ]
      },
      {
       "output_type": "stream",
       "stream": "stdout",
       "text": [
        "\n",
        "http://www.nytimes.com/aponline/2013/09/18/sports/ap-sai-americas-cup.html"
       ]
      },
      {
       "output_type": "stream",
       "stream": "stdout",
       "text": [
        "\n",
        "http://www.nytimes.com/reuters/2013/09/18/us/18reuters-usa-navy-shooting-background.html"
       ]
      },
      {
       "output_type": "stream",
       "stream": "stdout",
       "text": [
        "\n",
        "http://www.nytimes.com/aponline/2013/09/18/us/ap-us-new-lizard-species.html"
       ]
      },
      {
       "output_type": "stream",
       "stream": "stdout",
       "text": [
        "\n",
        "http://www.nytimes.com/reuters/2013/09/18/business/18reuters-jpmorgan-whale.html"
       ]
      },
      {
       "output_type": "stream",
       "stream": "stdout",
       "text": [
        "\n",
        "http://www.nytimes.com/reuters/2013/09/18/business/18reuters-ge-oilandgas-analysis.html"
       ]
      },
      {
       "output_type": "stream",
       "stream": "stdout",
       "text": [
        "\n",
        "http://www.nytimes.com/aponline/2013/09/18/us/ap-box-obit-ken-norton.html"
       ]
      },
      {
       "output_type": "stream",
       "stream": "stdout",
       "text": [
        "\n",
        "http://www.nytimes.com/reuters/2013/09/18/business/18reuters-sac-steinberg.html"
       ]
      },
      {
       "output_type": "stream",
       "stream": "stdout",
       "text": [
        "\n",
        "http://www.nytimes.com/reuters/2013/09/18/arts/18reuters-sailing-americascup-viewers.html"
       ]
      },
      {
       "output_type": "stream",
       "stream": "stdout",
       "text": [
        "\n",
        "http://www.nytimes.com/aponline/2013/09/18/us/ap-us-molasses-spill.html"
       ]
      },
      {
       "output_type": "stream",
       "stream": "stdout",
       "text": [
        "\n",
        "http://www.nytimes.com/reuters/2013/09/18/sports/soccer/18reuters-soccer-champions-barcelona-messi.html"
       ]
      },
      {
       "output_type": "stream",
       "stream": "stdout",
       "text": [
        "\n",
        "http://www.nytimes.com/reuters/2013/09/18/us/18reuters-usa-lottery-powerball.html"
       ]
      },
      {
       "output_type": "stream",
       "stream": "stdout",
       "text": [
        "\n",
        "http://www.nytimes.com/reuters/2013/09/18/business/18reuters-usa-fed-markets-analysis.html"
       ]
      },
      {
       "output_type": "stream",
       "stream": "stdout",
       "text": [
        "\n",
        "http://www.nytimes.com/aponline/2013/09/18/us/politics/ap-us-obama-exports.html"
       ]
      },
      {
       "output_type": "stream",
       "stream": "stdout",
       "text": [
        "\n",
        "http://www.nytimes.com/reuters/2013/09/18/world/americas/18reuters-brazil-politics-party.html"
       ]
      },
      {
       "output_type": "stream",
       "stream": "stdout",
       "text": [
        "\n",
        "http://www.nytimes.com/reuters/2013/09/18/business/18reuters-generaldynamics-shipyards.html"
       ]
      },
      {
       "output_type": "stream",
       "stream": "stdout",
       "text": [
        "\n",
        "http://www.nytimes.com/reuters/2013/09/18/us/18reuters-usa-alabama-sororities.html"
       ]
      },
      {
       "output_type": "stream",
       "stream": "stdout",
       "text": [
        "\n",
        "http://www.nytimes.com/reuters/2013/09/18/business/18reuters-wellsfargo-jobs.html"
       ]
      },
      {
       "output_type": "stream",
       "stream": "stdout",
       "text": [
        "\n",
        "http://www.nytimes.com/reuters/2013/09/18/us/18reuters-usa-colorado-flooding.html"
       ]
      },
      {
       "output_type": "stream",
       "stream": "stdout",
       "text": [
        "\n",
        "http://www.nytimes.com/reuters/2013/09/18/business/18reuters-usa-fed-markets-factbox.html"
       ]
      },
      {
       "output_type": "stream",
       "stream": "stdout",
       "text": [
        "\n",
        "http://www.nytimes.com/aponline/2013/09/18/us/politics/ap-us-syria-assad-interview.html"
       ]
      },
      {
       "output_type": "stream",
       "stream": "stdout",
       "text": [
        "\n",
        "http://www.nytimes.com/aponline/2013/09/18/business/ap-us-activision-vivendi.html"
       ]
      },
      {
       "output_type": "stream",
       "stream": "stdout",
       "text": [
        "\n",
        "http://www.nytimes.com/reuters/2013/09/18/technology/18reuters-vivendi-activision.html"
       ]
      },
      {
       "output_type": "stream",
       "stream": "stdout",
       "text": [
        "\n",
        "http://www.nytimes.com/reuters/2013/09/18/world/middleeast/18reuters-usa-guantanamo-syria.html"
       ]
      },
      {
       "output_type": "stream",
       "stream": "stdout",
       "text": [
        "\n",
        "http://www.nytimes.com/aponline/2013/09/18/us/ap-us-western-wildfires-yosemite.html"
       ]
      },
      {
       "output_type": "stream",
       "stream": "stdout",
       "text": [
        "\n",
        "http://www.nytimes.com/reuters/2013/09/18/us/18reuters-usa-ashes-lawsuit.html"
       ]
      },
      {
       "output_type": "stream",
       "stream": "stdout",
       "text": [
        "\n",
        "http://www.nytimes.com/reuters/2013/09/18/us/politics/18reuters-usa-employment-gay-benefits.html"
       ]
      },
      {
       "output_type": "stream",
       "stream": "stdout",
       "text": [
        "\n",
        "http://www.nytimes.com/reuters/2013/09/18/world/americas/18reuters-usa-florida-fraud.html"
       ]
      },
      {
       "output_type": "stream",
       "stream": "stdout",
       "text": [
        "\n",
        "http://www.nytimes.com/reuters/2013/09/18/world/middleeast/18reuters-syria-usa-fox-weapons.html"
       ]
      },
      {
       "output_type": "stream",
       "stream": "stdout",
       "text": [
        "\n",
        "http://www.nytimes.com/reuters/2013/09/18/technology/18reuters-usa-facebook-washington.html"
       ]
      },
      {
       "output_type": "stream",
       "stream": "stdout",
       "text": [
        "\n",
        "http://www.nytimes.com/reuters/2013/09/18/business/18reuters-autos-chrysler-veba.html"
       ]
      },
      {
       "output_type": "stream",
       "stream": "stdout",
       "text": [
        "\n",
        "http://www.nytimes.com/aponline/2013/09/18/sports/football/ap-fbn-browns-richardson-trade.html"
       ]
      },
      {
       "output_type": "stream",
       "stream": "stdout",
       "text": [
        "\n",
        "http://www.nytimes.com/aponline/2013/09/18/us/ap-us-logging-bill.html"
       ]
      },
      {
       "output_type": "stream",
       "stream": "stdout",
       "text": [
        "\n",
        "http://www.nytimes.com/aponline/2013/09/18/sports/baseball/ap-bbn-tim-dahlberg-091813.html"
       ]
      },
      {
       "output_type": "stream",
       "stream": "stdout",
       "text": [
        "\n",
        "http://www.nytimes.com/reuters/2013/09/18/sports/soccer/18reuters-soccer-champions.html"
       ]
      },
      {
       "output_type": "stream",
       "stream": "stdout",
       "text": [
        "\n",
        "http://www.nytimes.com/reuters/2013/09/18/world/americas/18reuters-brazil-corruption.html"
       ]
      },
      {
       "output_type": "stream",
       "stream": "stdout",
       "text": [
        "\n",
        "http://www.nytimes.com/reuters/2013/09/18/business/18reuters-worldbank-miga.html"
       ]
      },
      {
       "output_type": "stream",
       "stream": "stdout",
       "text": [
        "\n",
        "http://www.nytimes.com/aponline/2013/09/18/us/ap-us-louisiana-twerking-hoax.html"
       ]
      },
      {
       "output_type": "stream",
       "stream": "stdout",
       "text": [
        "\n",
        "http://www.nytimes.com/reuters/2013/09/18/sports/golf/18reuters-golf-pga-haas.html"
       ]
      },
      {
       "output_type": "stream",
       "stream": "stdout",
       "text": [
        "\n",
        "http://www.nytimes.com/reuters/2013/09/18/world/africa/18reuters-angola-protest.html"
       ]
      },
      {
       "output_type": "stream",
       "stream": "stdout",
       "text": [
        "\n",
        "http://www.nytimes.com/aponline/2013/09/18/us/ap-us-jackson-aeg-suit.html"
       ]
      },
      {
       "output_type": "stream",
       "stream": "stdout",
       "text": [
        "\n",
        "http://www.nytimes.com/aponline/2013/09/18/us/politics/ap-us-navy-yard-shooting-capitol-police.html"
       ]
      },
      {
       "output_type": "stream",
       "stream": "stdout",
       "text": [
        "\n",
        "http://www.nytimes.com/reuters/2013/09/18/us/18reuters-usa-detroit-bankruptcy.html"
       ]
      },
      {
       "output_type": "stream",
       "stream": "stdout",
       "text": [
        "\n",
        "http://www.nytimes.com/reuters/2013/09/18/business/18reuters-occ-chairman-donohue.html"
       ]
      },
      {
       "output_type": "stream",
       "stream": "stdout",
       "text": [
        "\n",
        "http://www.nytimes.com/aponline/2013/09/18/us/politics/ap-us-navy-yard-shooting-shotgun.html"
       ]
      },
      {
       "output_type": "stream",
       "stream": "stdout",
       "text": [
        "\n",
        "http://www.nytimes.com/reuters/2013/09/18/business/18reuters-jpmorgan-posoli.html"
       ]
      },
      {
       "output_type": "stream",
       "stream": "stdout",
       "text": [
        "\n",
        "http://www.nytimes.com/aponline/2013/09/18/us/ap-us-florida-chase-deaths.html"
       ]
      },
      {
       "output_type": "stream",
       "stream": "stdout",
       "text": [
        "\n",
        "http://www.nytimes.com/reuters/2013/09/18/business/18reuters-usa-military-industry-budget.html"
       ]
      },
      {
       "output_type": "stream",
       "stream": "stdout",
       "text": [
        "\n",
        "http://www.nytimes.com/aponline/2013/09/18/us/ap-us-obit-patsy-swayze.html"
       ]
      },
      {
       "output_type": "stream",
       "stream": "stdout",
       "text": [
        "\n",
        "http://www.nytimes.com/reuters/2013/09/18/world/middleeast/18reuters-syria-usa-fox.html"
       ]
      },
      {
       "output_type": "stream",
       "stream": "stdout",
       "text": [
        "\n",
        "http://www.nytimes.com/reuters/2013/09/18/us/18reuters-usa-worldtradecenter-airlines.html"
       ]
      },
      {
       "output_type": "stream",
       "stream": "stdout",
       "text": [
        "\n",
        "http://www.nytimes.com/aponline/2013/09/18/us/ap-us-pacific-walrus.html"
       ]
      },
      {
       "output_type": "stream",
       "stream": "stdout",
       "text": [
        "\n",
        "http://www.nytimes.com/aponline/2013/09/18/us/politics/ap-us-biden-navy-yard-shooting.html"
       ]
      },
      {
       "output_type": "stream",
       "stream": "stdout",
       "text": [
        "\n",
        "http://www.nytimes.com/reuters/2013/09/18/business/18reuters-usa-newyork-railcars.html"
       ]
      },
      {
       "output_type": "stream",
       "stream": "stdout",
       "text": [
        "\n",
        "http://www.nytimes.com/reuters/2013/09/18/us/18reuters-usa-gayrights-oklahoma.html"
       ]
      },
      {
       "output_type": "stream",
       "stream": "stdout",
       "text": [
        "\n",
        "http://www.nytimes.com/reuters/2013/09/18/us/politics/18reuters-usa-tax-teaparty.html"
       ]
      },
      {
       "output_type": "stream",
       "stream": "stdout",
       "text": [
        "\n",
        "http://www.nytimes.com/reuters/2013/09/18/arts/18reuters-usa-congress-fcc-ftc.html"
       ]
      },
      {
       "output_type": "stream",
       "stream": "stdout",
       "text": [
        "\n",
        "http://www.nytimes.com/aponline/2013/09/18/us/politics/ap-us-navy-yard-shooting-base.html"
       ]
      },
      {
       "output_type": "stream",
       "stream": "stdout",
       "text": [
        "\n",
        "http://www.nytimes.com/aponline/2013/09/18/us/ap-us-navy-base-evacuation.html"
       ]
      },
      {
       "output_type": "stream",
       "stream": "stdout",
       "text": [
        "\n",
        "http://www.nytimes.com/reuters/2013/09/18/us/18reuters-books-award-youngreaders.html"
       ]
      },
      {
       "output_type": "stream",
       "stream": "stdout",
       "text": [
        "\n",
        "http://www.nytimes.com/reuters/2013/09/18/us/18reuters-usa-colorado-flooding-losses.html"
       ]
      },
      {
       "output_type": "stream",
       "stream": "stdout",
       "text": [
        "\n",
        "http://www.nytimes.com/aponline/2013/09/18/us/ap-us-rhino-horns-arrest.html"
       ]
      },
      {
       "output_type": "stream",
       "stream": "stdout",
       "text": [
        "\n",
        "http://www.nytimes.com/aponline/2013/09/18/sports/ap-car-nascar-kwasniewski-flat-out.html"
       ]
      },
      {
       "output_type": "stream",
       "stream": "stdout",
       "text": [
        "\n",
        "http://www.nytimes.com/reuters/2013/09/18/us/18reuters-usa-guantanamo.html"
       ]
      },
      {
       "output_type": "stream",
       "stream": "stdout",
       "text": [
        "\n",
        "http://www.nytimes.com/reuters/2013/09/18/world/middleeast/18reuters-egypt-palestinians-court.html"
       ]
      },
      {
       "output_type": "stream",
       "stream": "stdout",
       "text": [
        "\n",
        "http://www.nytimes.com/aponline/2013/09/18/business/ap-us-grand-theft-auto-sales.html"
       ]
      },
      {
       "output_type": "stream",
       "stream": "stdout",
       "text": [
        "\n",
        "http://www.nytimes.com/reuters/2013/09/18/arts/18reuters-keithurban-charts.html"
       ]
      },
      {
       "output_type": "stream",
       "stream": "stdout",
       "text": [
        "\n",
        "http://www.nytimes.com/reuters/2013/09/18/arts/18reuters-rugby-europe-irb.html"
       ]
      },
      {
       "output_type": "stream",
       "stream": "stdout",
       "text": [
        "\n",
        "http://www.nytimes.com/reuters/2013/09/18/sports/soccer/18reuters-soccer-champions-milan.html"
       ]
      },
      {
       "output_type": "stream",
       "stream": "stdout",
       "text": [
        "\n",
        "http://www.nytimes.com/reuters/2013/09/18/us/politics/18reuters-usa-politics-virginia-chef.html"
       ]
      },
      {
       "output_type": "stream",
       "stream": "stdout",
       "text": [
        "\n",
        "http://www.nytimes.com/reuters/2013/09/18/us/18reuters-usa-biofuels-fraud.html"
       ]
      },
      {
       "output_type": "stream",
       "stream": "stdout",
       "text": [
        "\n",
        "http://www.nytimes.com/reuters/2013/09/18/sports/soccer/18reuters-soccer-champions-barcelona.html"
       ]
      },
      {
       "output_type": "stream",
       "stream": "stdout",
       "text": [
        "\n",
        "http://www.nytimes.com/aponline/2013/09/18/business/ap-us-gov-finances.html"
       ]
      },
      {
       "output_type": "stream",
       "stream": "stdout",
       "text": [
        "\n",
        "http://www.nytimes.com/aponline/2013/09/18/us/ap-us-illinois-senator-pen-pal.html"
       ]
      },
      {
       "output_type": "stream",
       "stream": "stdout",
       "text": [
        "\n",
        "http://www.nytimes.com/aponline/2013/09/18/us/politics/ap-us-hardrock-mining.html"
       ]
      },
      {
       "output_type": "stream",
       "stream": "stdout",
       "text": [
        "\n",
        "http://www.nytimes.com/reuters/2013/09/18/technology/18reuters-usa-tax-bmc.html"
       ]
      },
      {
       "output_type": "stream",
       "stream": "stdout",
       "text": [
        "\n",
        "http://www.nytimes.com/reuters/2013/09/18/world/asia/18reuters-usa-navy-bribery.html"
       ]
      },
      {
       "output_type": "stream",
       "stream": "stdout",
       "text": [
        "\n",
        "http://www.nytimes.com/reuters/2013/09/18/sports/soccer/18reuters-soccer-champions-chelsea.html"
       ]
      },
      {
       "output_type": "stream",
       "stream": "stdout",
       "text": [
        "\n",
        "http://www.nytimes.com/reuters/2013/09/18/sports/basketball/18reuters-basketball-euro-spain.html"
       ]
      },
      {
       "output_type": "stream",
       "stream": "stdout",
       "text": [
        "\n",
        "http://www.nytimes.com/aponline/2013/09/18/arts/ap-us-tv-sound-of-music.html"
       ]
      },
      {
       "output_type": "stream",
       "stream": "stdout",
       "text": [
        "\n",
        "http://www.nytimes.com/reuters/2013/09/18/sports/18reuters-sailing-americascup-delay.html"
       ]
      },
      {
       "output_type": "stream",
       "stream": "stdout",
       "text": [
        "\n",
        "http://www.nytimes.com/reuters/2013/09/18/technology/18reuters-oracle-results-outlook.html"
       ]
      },
      {
       "output_type": "stream",
       "stream": "stdout",
       "text": [
        "\n",
        "http://www.nytimes.com/aponline/2013/09/18/us/politics/ap-us-navy-yard-shooting.html"
       ]
      },
      {
       "output_type": "stream",
       "stream": "stdout",
       "text": [
        "\n",
        "http://www.nytimes.com/aponline/2013/09/18/us/ap-us-colorado-flooding-insurance.html"
       ]
      },
      {
       "output_type": "stream",
       "stream": "stdout",
       "text": [
        "\n",
        "http://www.nytimes.com/reuters/2013/09/18/business/18reuters-lufthansa-fleet-boeing.html"
       ]
      },
      {
       "output_type": "stream",
       "stream": "stdout",
       "text": [
        "\n",
        "http://www.nytimes.com/aponline/2013/09/18/sports/football/ap-fbn-bears-hester.html"
       ]
      },
      {
       "output_type": "stream",
       "stream": "stdout",
       "text": [
        "\n",
        "http://www.nytimes.com/aponline/2013/09/18/us/ap-us-world-trade-center-naming-rights.html"
       ]
      },
      {
       "output_type": "stream",
       "stream": "stdout",
       "text": [
        "\n",
        "http://www.nytimes.com/aponline/2013/09/18/sports/football/ap-fbn-goodell-safety.html"
       ]
      },
      {
       "output_type": "stream",
       "stream": "stdout",
       "text": [
        "\n",
        "http://www.nytimes.com/reuters/2013/09/18/world/europe/18reuters-nato-europe.html"
       ]
      },
      {
       "output_type": "stream",
       "stream": "stdout",
       "text": [
        "\n",
        "http://www.nytimes.com/aponline/2013/09/18/world/europe/ap-eu-france-syria.html"
       ]
      },
      {
       "output_type": "stream",
       "stream": "stdout",
       "text": [
        "\n",
        "http://www.nytimes.com/reuters/2013/09/18/business/18reuters-india-retail-realestate.html"
       ]
      },
      {
       "output_type": "stream",
       "stream": "stdout",
       "text": [
        "\n",
        "http://www.nytimes.com/aponline/2013/09/18/us/ap-us-infomercial-pitchman.html"
       ]
      },
      {
       "output_type": "stream",
       "stream": "stdout",
       "text": [
        "\n",
        "http://www.nytimes.com/reuters/2013/09/18/business/18reuters-usa-surveilliance-verizon.html"
       ]
      },
      {
       "output_type": "stream",
       "stream": "stdout",
       "text": [
        "\n",
        "http://www.nytimes.com/reuters/2013/09/18/arts/18reuters-emmys.html"
       ]
      },
      {
       "output_type": "stream",
       "stream": "stdout",
       "text": [
        "\n",
        "http://www.nytimes.com/aponline/2013/09/18/technology/ap-us-tec-apple-tech-talk.html"
       ]
      },
      {
       "output_type": "stream",
       "stream": "stdout",
       "text": [
        "\n",
        "http://www.nytimes.com/reuters/2013/09/18/business/18reuters-ubs-libor.html"
       ]
      },
      {
       "output_type": "stream",
       "stream": "stdout",
       "text": [
        "\n",
        "http://www.nytimes.com/aponline/2013/09/18/business/ap-us-wall-street-summary-box.html"
       ]
      },
      {
       "output_type": "stream",
       "stream": "stdout",
       "text": [
        "\n",
        "http://www.nytimes.com/aponline/2013/09/18/sports/football/ap-fbn-jaguars-jones-drew.html"
       ]
      },
      {
       "output_type": "stream",
       "stream": "stdout",
       "text": [
        "\n",
        "http://www.nytimes.com/reuters/2013/09/18/business/18reuters-financial-crime-sentences.html"
       ]
      },
      {
       "output_type": "stream",
       "stream": "stdout",
       "text": [
        "\n",
        "http://www.nytimes.com/reuters/2013/09/18/world/europe/18reuters-greece-cyprus.html"
       ]
      },
      {
       "output_type": "stream",
       "stream": "stdout",
       "text": [
        "\n",
        "http://www.nytimes.com/aponline/2013/09/18/sports/golf/ap-glf-tour-championship-notebook.html"
       ]
      },
      {
       "output_type": "stream",
       "stream": "stdout",
       "text": [
        "\n",
        "http://www.nytimes.com/reuters/2013/09/18/us/18reuters-usa-connecticut-schools.html"
       ]
      },
      {
       "output_type": "stream",
       "stream": "stdout",
       "text": [
        "\n",
        "http://www.nytimes.com/reuters/2013/09/18/us/politics/18reuters-usa-obama-food.html"
       ]
      },
      {
       "output_type": "stream",
       "stream": "stdout",
       "text": [
        "\n",
        "http://www.nytimes.com/aponline/2013/09/18/sports/baseball/ap-bba-twins-white-sox.html"
       ]
      },
      {
       "output_type": "stream",
       "stream": "stdout",
       "text": [
        "\n",
        "http://www.nytimes.com/aponline/2013/09/18/us/politics/ap-us-food-stamps.html"
       ]
      },
      {
       "output_type": "stream",
       "stream": "stdout",
       "text": [
        "\n",
        "http://www.nytimes.com/aponline/2013/09/18/world/americas/ap-cb-guantanamo-sept-11-trial.html"
       ]
      },
      {
       "output_type": "stream",
       "stream": "stdout",
       "text": [
        "\n",
        "http://www.nytimes.com/aponline/2013/09/18/us/politics/ap-us-fed-yellen.html"
       ]
      },
      {
       "output_type": "stream",
       "stream": "stdout",
       "text": [
        "\n",
        "http://www.nytimes.com/aponline/2013/09/18/technology/ap-us-tec-digital-life-tech-test-new-iphones-and-ios-7-not-to-mi.html"
       ]
      },
      {
       "output_type": "stream",
       "stream": "stdout",
       "text": [
        "\n",
        "http://www.nytimes.com/aponline/2013/09/18/world/americas/ap-lt-brazil-corruption-case.html"
       ]
      },
      {
       "output_type": "stream",
       "stream": "stdout",
       "text": [
        "\n",
        "http://www.nytimes.com/reuters/2013/09/18/sports/18reuters-sailing-americascup-newzealand.html"
       ]
      },
      {
       "output_type": "stream",
       "stream": "stdout",
       "text": [
        "\n",
        "http://www.nytimes.com/aponline/2013/09/18/us/ap-us-smartphone-theft-operating-system.html"
       ]
      },
      {
       "output_type": "stream",
       "stream": "stdout",
       "text": [
        "\n",
        "http://www.nytimes.com/aponline/2013/09/18/us/politics/ap-us-navy-yard-shooting-gun.html"
       ]
      },
      {
       "output_type": "stream",
       "stream": "stdout",
       "text": [
        "\n",
        "http://www.nytimes.com/aponline/2013/09/18/business/ap-us-mcdonalds-dividend.html"
       ]
      },
      {
       "output_type": "stream",
       "stream": "stdout",
       "text": [
        "\n",
        "http://www.nytimes.com/reuters/2013/09/18/sports/soccer/18reuters-soccer-champions-marseille.html"
       ]
      },
      {
       "output_type": "stream",
       "stream": "stdout",
       "text": [
        "\n",
        "http://www.nytimes.com/aponline/2013/09/18/sports/ap-car-around-the-track-.html"
       ]
      },
      {
       "output_type": "stream",
       "stream": "stdout",
       "text": [
        "\n",
        "http://www.nytimes.com/aponline/2013/09/18/business/ap-us-wall-street-box.html"
       ]
      },
      {
       "output_type": "stream",
       "stream": "stdout",
       "text": [
        "\n",
        "http://www.nytimes.com/aponline/2013/09/18/world/americas/ap-lt-brazil-emperors-toothbrush.html"
       ]
      },
      {
       "output_type": "stream",
       "stream": "stdout",
       "text": [
        "\n",
        "http://www.nytimes.com/reuters/2013/09/18/business/18reuters-boeing-c17closure.html"
       ]
      },
      {
       "output_type": "stream",
       "stream": "stdout",
       "text": [
        "\n",
        "http://www.nytimes.com/aponline/2013/09/18/us/ap-us-interstate-stalking-charge.html"
       ]
      },
      {
       "output_type": "stream",
       "stream": "stdout",
       "text": [
        "\n",
        "http://www.nytimes.com/reuters/2013/09/18/sports/football/18reuters-nfl-giants.html"
       ]
      },
      {
       "output_type": "stream",
       "stream": "stdout",
       "text": [
        "\n",
        "http://www.nytimes.com/aponline/2013/09/18/us/ap-us-qa-test-aerazo-09182013-163719-001.html"
       ]
      },
      {
       "output_type": "stream",
       "stream": "stdout",
       "text": [
        "\n",
        "http://www.nytimes.com/aponline/2013/09/18/sports/ap-car-f1-singapore-gp.html"
       ]
      },
      {
       "output_type": "stream",
       "stream": "stdout",
       "text": [
        "\n",
        "http://www.nytimes.com/aponline/2013/09/18/us/ap-us-emmy-governors-ball-preview.html"
       ]
      },
      {
       "output_type": "stream",
       "stream": "stdout",
       "text": [
        "\n",
        "http://www.nytimes.com/reuters/2013/09/18/us/18reuters-usa-tennessee-judge.html"
       ]
      },
      {
       "output_type": "stream",
       "stream": "stdout",
       "text": [
        "\n",
        "http://www.nytimes.com/reuters/2013/09/18/world/africa/18reuters-usa-niger-shooting.html"
       ]
      },
      {
       "output_type": "stream",
       "stream": "stdout",
       "text": [
        "\n",
        "http://www.nytimes.com/aponline/2013/09/18/us/ap-us-truck-caltrans-crash.html"
       ]
      },
      {
       "output_type": "stream",
       "stream": "stdout",
       "text": [
        "\n",
        "http://www.nytimes.com/aponline/2013/09/18/sports/football/ap-fbn-redskins-rg3.html"
       ]
      },
      {
       "output_type": "stream",
       "stream": "stdout",
       "text": [
        "\n",
        "http://www.nytimes.com/aponline/2013/09/18/us/ap-us-swan-rescue.html"
       ]
      },
      {
       "output_type": "stream",
       "stream": "stdout",
       "text": [
        "\n",
        "http://www.nytimes.com/aponline/2013/09/18/business/ap-us-earns-oracle.html"
       ]
      },
      {
       "output_type": "stream",
       "stream": "stdout",
       "text": [
        "\n",
        "http://www.nytimes.com/reuters/2013/09/18/world/europe/18reuters-mali-chad-troops.html"
       ]
      },
      {
       "output_type": "stream",
       "stream": "stdout",
       "text": [
        "\n",
        "http://www.nytimes.com/aponline/2013/09/18/us/politics/ap-us-navy-yard-shooter-mental-health.html"
       ]
      },
      {
       "output_type": "stream",
       "stream": "stdout",
       "text": [
        "\n",
        "http://www.nytimes.com/aponline/2013/09/18/world/middleeast/ap-ml-morocco-media.html"
       ]
      },
      {
       "output_type": "stream",
       "stream": "stdout",
       "text": [
        "\n",
        "http://www.nytimes.com/aponline/2013/09/18/us/politics/ap-us-united-states-indonesia-militants.html"
       ]
      },
      {
       "output_type": "stream",
       "stream": "stdout",
       "text": [
        "\n",
        "http://www.nytimes.com/aponline/2013/09/18/us/politics/ap-us-iran-president.html"
       ]
      },
      {
       "output_type": "stream",
       "stream": "stdout",
       "text": [
        "\n",
        "http://www.nytimes.com/aponline/2013/09/18/us/ap-us-film-pixar-push.html"
       ]
      },
      {
       "output_type": "stream",
       "stream": "stdout",
       "text": [
        "\n",
        "http://www.nytimes.com/reuters/2013/09/18/us/18reuters-usa-shooter-va-mentalhealth.html"
       ]
      },
      {
       "output_type": "stream",
       "stream": "stdout",
       "text": [
        "\n",
        "http://www.nytimes.com/aponline/2013/09/18/sports/ap-wre-world-worlds.html"
       ]
      },
      {
       "output_type": "stream",
       "stream": "stdout",
       "text": [
        "\n",
        "http://www.nytimes.com/reuters/2013/09/18/technology/18reuters-oracle-results.html"
       ]
      },
      {
       "output_type": "stream",
       "stream": "stdout",
       "text": [
        "\n",
        "http://www.nytimes.com/aponline/2013/09/18/us/ap-us-wall-street-close.html"
       ]
      },
      {
       "output_type": "stream",
       "stream": "stdout",
       "text": [
        "\n",
        "http://www.nytimes.com/aponline/2013/09/18/business/ap-eu-germany-reluctant-giant-summary-box.html"
       ]
      },
      {
       "output_type": "stream",
       "stream": "stdout",
       "text": [
        "\n",
        "http://www.nytimes.com/aponline/2013/09/18/us/ap-va-virginia-mansion-chef.html"
       ]
      },
      {
       "output_type": "stream",
       "stream": "stdout",
       "text": [
        "\n",
        "http://www.nytimes.com/reuters/2013/09/18/us/politics/18reuters-usa-elections-fec.html"
       ]
      },
      {
       "output_type": "stream",
       "stream": "stdout",
       "text": [
        "\n",
        "http://www.nytimes.com/aponline/2013/09/18/arts/ap-us-music-midtown.html"
       ]
      },
      {
       "output_type": "stream",
       "stream": "stdout",
       "text": [
        "\n",
        "http://www.nytimes.com/aponline/2013/09/18/us/ap-us-emmy-red-carpet-rollout.html"
       ]
      },
      {
       "output_type": "stream",
       "stream": "stdout",
       "text": [
        "\n",
        "http://www.nytimes.com/aponline/2013/09/18/us/ap-us-boeing-c-17.html"
       ]
      },
      {
       "output_type": "stream",
       "stream": "stdout",
       "text": [
        "\n",
        "http://www.nytimes.com/reuters/2013/09/18/us/politics/18reuters-usa-fiscal-debtlimit.html"
       ]
      },
      {
       "output_type": "stream",
       "stream": "stdout",
       "text": [
        "\n",
        "http://www.nytimes.com/reuters/2013/09/18/us/politics/18reuters-usa-healthcare-spending.html"
       ]
      },
      {
       "output_type": "stream",
       "stream": "stdout",
       "text": [
        "\n",
        "http://www.nytimes.com/reuters/2013/09/18/world/middleeast/18reuters-iran-nuclear-rouhani.html"
       ]
      },
      {
       "output_type": "stream",
       "stream": "stdout",
       "text": [
        "\n",
        "http://www.nytimes.com/reuters/2013/09/18/us/politics/18reuters-usa-benghazi-congress.html"
       ]
      },
      {
       "output_type": "stream",
       "stream": "stdout",
       "text": [
        "\n",
        "http://www.nytimes.com/aponline/2013/09/18/us/politics/ap-us-health-care-spending.html"
       ]
      },
      {
       "output_type": "stream",
       "stream": "stdout",
       "text": [
        "\n",
        "http://www.nytimes.com/aponline/2013/09/18/us/politics/ap-us-gay-marriage-benefits.html"
       ]
      },
      {
       "output_type": "stream",
       "stream": "stdout",
       "text": [
        "\n",
        "http://www.nytimes.com/aponline/2013/09/18/us/ap-us-olympus-fraud-plea.html"
       ]
      },
      {
       "output_type": "stream",
       "stream": "stdout",
       "text": [
        "\n",
        "http://www.nytimes.com/aponline/2013/09/18/us/ap-us-film-salinger.html"
       ]
      },
      {
       "output_type": "stream",
       "stream": "stdout",
       "text": [
        "\n",
        "http://www.nytimes.com/reuters/2013/09/18/arts/18reuters-golf-pga-woods-tv.html"
       ]
      },
      {
       "output_type": "stream",
       "stream": "stdout",
       "text": [
        "\n",
        "http://www.nytimes.com/reuters/2013/09/18/us/18reuters-starbucks-policy-shift-is-small-win-for-gun.html"
       ]
      },
      {
       "output_type": "stream",
       "stream": "stdout",
       "text": [
        "\n",
        "http://www.nytimes.com/aponline/2013/09/18/world/europe/ap-eu-italy-milan-fashion-week-day-1.html"
       ]
      },
      {
       "output_type": "stream",
       "stream": "stdout",
       "text": [
        "\n",
        "http://www.nytimes.com/aponline/2013/09/18/us/politics/ap-us-immigration-facebook.html"
       ]
      },
      {
       "output_type": "stream",
       "stream": "stdout",
       "text": [
        "\n",
        "http://www.nytimes.com/aponline/2013/09/18/sports/soccer/ap-soc-2022-wcup-europe.html"
       ]
      },
      {
       "output_type": "stream",
       "stream": "stdout",
       "text": [
        "\n",
        "http://www.nytimes.com/reuters/2013/09/18/business/18reuters-americanairlines-usairways-rally.html"
       ]
      },
      {
       "output_type": "stream",
       "stream": "stdout",
       "text": [
        "\n",
        "http://www.nytimes.com/reuters/2013/09/18/world/americas/18reuters-brazil-us-diplomacy-analysis.html"
       ]
      },
      {
       "output_type": "stream",
       "stream": "stdout",
       "text": [
        "\n",
        "http://www.nytimes.com/reuters/2013/09/18/us/18reuters-what-is-next-for-syrias-opposition.html"
       ]
      },
      {
       "output_type": "stream",
       "stream": "stdout",
       "text": [
        "\n",
        "http://www.nytimes.com/aponline/2013/09/18/business/ap-us-commodities-review.html"
       ]
      },
      {
       "output_type": "stream",
       "stream": "stdout",
       "text": [
        "\n",
        "http://www.nytimes.com/reuters/2013/09/18/us/18reuters-brazil-us-diplomacy.html"
       ]
      },
      {
       "output_type": "stream",
       "stream": "stdout",
       "text": [
        "\n",
        "http://www.nytimes.com/reuters/2013/09/18/world/europe/18reuters-syria-crisis-jihadists.html"
       ]
      },
      {
       "output_type": "stream",
       "stream": "stdout",
       "text": [
        "\n",
        "http://www.nytimes.com/reuters/2013/09/18/sports/soccer/18reuters-soccer-matchfixing-singapore.html"
       ]
      },
      {
       "output_type": "stream",
       "stream": "stdout",
       "text": [
        "\n",
        "http://www.nytimes.com/aponline/2013/09/18/world/europe/ap-soc-match-fixing-arrests.html"
       ]
      },
      {
       "output_type": "stream",
       "stream": "stdout",
       "text": [
        "\n",
        "http://www.nytimes.com/reuters/2013/09/18/world/europe/18reuters-nato-exercise.html"
       ]
      },
      {
       "output_type": "stream",
       "stream": "stdout",
       "text": [
        "\n",
        "http://www.nytimes.com/aponline/2013/09/18/us/ap-us-recluse-cabin-burglar.html"
       ]
      },
      {
       "output_type": "stream",
       "stream": "stdout",
       "text": [
        "\n",
        "http://www.nytimes.com/aponline/2013/09/18/us/politics/ap-us-federal-reserve-bond-purchases-glance.html"
       ]
      },
      {
       "output_type": "stream",
       "stream": "stdout",
       "text": [
        "\n",
        "http://www.nytimes.com/reuters/2013/09/18/us/18reuters-blocking-syrias-chemical-network.html"
       ]
      },
      {
       "output_type": "stream",
       "stream": "stdout",
       "text": [
        "\n",
        "http://www.nytimes.com/reuters/2013/09/18/business/18reuters-fund-commodities-arbalet.html"
       ]
      },
      {
       "output_type": "stream",
       "stream": "stdout",
       "text": [
        "\n",
        "http://www.nytimes.com/aponline/2013/09/18/us/ap-us-low-carbon-fuels.html"
       ]
      },
      {
       "output_type": "stream",
       "stream": "stdout",
       "text": [
        "\n",
        "http://www.nytimes.com/reuters/2013/09/18/world/africa/18reuters-icc-sudan.html"
       ]
      },
      {
       "output_type": "stream",
       "stream": "stdout",
       "text": [
        "\n",
        "http://www.nytimes.com/reuters/2013/09/18/world/europe/18reuters-britain-europe-rompuy.html"
       ]
      },
      {
       "output_type": "stream",
       "stream": "stdout",
       "text": [
        "\n",
        "http://www.nytimes.com/reuters/2013/09/18/us/politics/18reuters-usa-fiscal-shutdown.html"
       ]
      },
      {
       "output_type": "stream",
       "stream": "stdout",
       "text": [
        "\n",
        "http://www.nytimes.com/aponline/2013/09/18/us/ap-us-utah-mine-collapse.html"
       ]
      },
      {
       "output_type": "stream",
       "stream": "stdout",
       "text": [
        "\n",
        "http://www.nytimes.com/reuters/2013/09/18/us/politics/18reuters-usa-energy-coal.html"
       ]
      },
      {
       "output_type": "stream",
       "stream": "stdout",
       "text": [
        "\n",
        "http://www.nytimes.com/aponline/2013/09/18/us/politics/ap-us-bernanke-news-conference-.html"
       ]
      },
      {
       "output_type": "stream",
       "stream": "stdout",
       "text": [
        "\n",
        "http://www.nytimes.com/reuters/2013/09/18/technology/18reuters-taketwo-gta.html"
       ]
      },
      {
       "output_type": "stream",
       "stream": "stdout",
       "text": [
        "\n",
        "http://www.nytimes.com/reuters/2013/09/18/business/18reuters-usa-fed-bernanke.html"
       ]
      },
      {
       "output_type": "stream",
       "stream": "stdout",
       "text": [
        "\n",
        "http://www.nytimes.com/aponline/2013/09/18/us/ap-us-navy-yard-shooting-sense-of-security.html"
       ]
      },
      {
       "output_type": "stream",
       "stream": "stdout",
       "text": [
        "\n",
        "http://www.nytimes.com/reuters/2013/09/18/technology/18reuters-facebook-ad.html"
       ]
      },
      {
       "output_type": "stream",
       "stream": "stdout",
       "text": [
        "\n",
        "http://www.nytimes.com/reuters/2013/09/18/us/18reuters-usa-oklahoma-skeletons.html"
       ]
      },
      {
       "output_type": "stream",
       "stream": "stdout",
       "text": [
        "\n",
        "http://www.nytimes.com/aponline/2013/09/18/us/ap-us-white-house-health-care-summary-box.html"
       ]
      },
      {
       "output_type": "stream",
       "stream": "stdout",
       "text": [
        "\n",
        "http://www.nytimes.com/aponline/2013/09/18/world/europe/ap-eu-ireland-protests.html"
       ]
      },
      {
       "output_type": "stream",
       "stream": "stdout",
       "text": [
        "\n",
        "http://www.nytimes.com/reuters/2013/09/18/us/18reuters-usa-prisons-sentencing.html"
       ]
      },
      {
       "output_type": "stream",
       "stream": "stdout",
       "text": [
        "\n",
        "http://www.nytimes.com/reuters/2013/09/18/business/18reuters-olympus-banker-plea.html"
       ]
      },
      {
       "output_type": "stream",
       "stream": "stdout",
       "text": [
        "\n",
        "http://www.nytimes.com/reuters/2013/09/18/world/asia/18reuters-books-manbooker-prize.html"
       ]
      },
      {
       "output_type": "stream",
       "stream": "stdout",
       "text": [
        "\n",
        "http://www.nytimes.com/aponline/2013/09/18/business/ap-us-facebook-unprotected-speech.html"
       ]
      },
      {
       "output_type": "stream",
       "stream": "stdout",
       "text": [
        "\n",
        "http://www.nytimes.com/reuters/2013/09/18/us/18reuters-usa-navy-shooting-victims.html"
       ]
      },
      {
       "output_type": "stream",
       "stream": "stdout",
       "text": [
        "\n",
        "http://www.nytimes.com/reuters/2013/09/18/us/18reuters-california-emissions.html"
       ]
      },
      {
       "output_type": "stream",
       "stream": "stdout",
       "text": [
        "\n",
        "http://www.nytimes.com/aponline/2013/09/18/world/middleeast/ap-ml-libya.html"
       ]
      },
      {
       "output_type": "stream",
       "stream": "stdout",
       "text": [
        "\n",
        "http://www.nytimes.com/reuters/2013/09/18/technology/18reuters-reuters-next.html"
       ]
      },
      {
       "output_type": "stream",
       "stream": "stdout",
       "text": [
        "\n",
        "http://www.nytimes.com/reuters/2013/09/18/sports/golf/18reuters-golf-pga-stenson.html"
       ]
      },
      {
       "output_type": "stream",
       "stream": "stdout",
       "text": [
        "\n",
        "http://www.nytimes.com/reuters/2013/09/18/technology/18reuters-usa-speech-facebook.html"
       ]
      },
      {
       "output_type": "stream",
       "stream": "stdout",
       "text": [
        "\n",
        "http://www.nytimes.com/aponline/2013/09/18/us/ap-us-bloomberg-guns.html"
       ]
      },
      {
       "output_type": "stream",
       "stream": "stdout",
       "text": [
        "\n",
        "http://www.nytimes.com/aponline/2013/09/18/us/ap-us-eminem-childhood-home.html"
       ]
      },
      {
       "output_type": "stream",
       "stream": "stdout",
       "text": [
        "\n",
        "http://www.nytimes.com/reuters/2013/09/18/technology/18reuters-blackberry-bbm.html"
       ]
      },
      {
       "output_type": "stream",
       "stream": "stdout",
       "text": [
        "\n",
        "http://www.nytimes.com/reuters/2013/09/18/world/middleeast/18reuters-sudan-iran.html"
       ]
      },
      {
       "output_type": "stream",
       "stream": "stdout",
       "text": [
        "\n",
        "http://www.nytimes.com/reuters/2013/09/18/business/18reuters-usa-economy-instant.html"
       ]
      },
      {
       "output_type": "stream",
       "stream": "stdout",
       "text": [
        "\n",
        "http://www.nytimes.com/reuters/2013/09/18/world/africa/18reuters-nigeria-violence.html"
       ]
      },
      {
       "output_type": "stream",
       "stream": "stdout",
       "text": [
        "\n",
        "http://www.nytimes.com/aponline/2013/09/18/us/ap-us-nuclear-lab-lawsuit.html"
       ]
      },
      {
       "output_type": "stream",
       "stream": "stdout",
       "text": [
        "\n",
        "http://www.nytimes.com/aponline/2013/09/18/us/ap-us-federal-reserve-comparing-statements.html"
       ]
      },
      {
       "output_type": "stream",
       "stream": "stdout",
       "text": [
        "\n",
        "http://www.nytimes.com/aponline/2013/09/18/us/politics/ap-us-irs-investigation.html"
       ]
      },
      {
       "output_type": "stream",
       "stream": "stdout",
       "text": [
        "\n",
        "http://www.nytimes.com/aponline/2013/09/18/us/ap-us-tv-emmys-1960s-tribute.html"
       ]
      },
      {
       "output_type": "stream",
       "stream": "stdout",
       "text": [
        "\n",
        "http://www.nytimes.com/aponline/2013/09/18/us/ap-us-people-magic-johnson.html"
       ]
      },
      {
       "output_type": "stream",
       "stream": "stdout",
       "text": [
        "\n",
        "http://www.nytimes.com/reuters/2013/09/18/business/18reuters-blackberry-layoffs.html"
       ]
      },
      {
       "output_type": "stream",
       "stream": "stdout",
       "text": [
        "\n",
        "http://www.nytimes.com/aponline/2013/09/18/us/ap-us-wall-street-afternoon.html"
       ]
      },
      {
       "output_type": "stream",
       "stream": "stdout",
       "text": [
        "\n",
        "http://www.nytimes.com/reuters/2013/09/18/sports/golf/18reuters-golf-pga-scott.html"
       ]
      },
      {
       "output_type": "stream",
       "stream": "stdout",
       "text": [
        "\n",
        "http://www.nytimes.com/reuters/2013/09/18/world/middleeast/18reuters-tanzania-tankers-iran.html"
       ]
      },
      {
       "output_type": "stream",
       "stream": "stdout",
       "text": [
        "\n",
        "http://www.nytimes.com/reuters/2013/09/18/us/18reuters-syria-crisis-russia-un.html"
       ]
      },
      {
       "output_type": "stream",
       "stream": "stdout",
       "text": [
        "\n",
        "http://www.nytimes.com/reuters/2013/09/18/us/politics/18reuters-usa-politics-virginia.html"
       ]
      },
      {
       "output_type": "stream",
       "stream": "stdout",
       "text": [
        "\n",
        "http://www.nytimes.com/reuters/2013/09/18/business/18reuters-italy-budget.html"
       ]
      },
      {
       "output_type": "stream",
       "stream": "stdout",
       "text": [
        "\n",
        "http://www.nytimes.com/aponline/2013/09/18/us/politics/ap-us-federal-reserve-statement-text.html"
       ]
      },
      {
       "output_type": "stream",
       "stream": "stdout",
       "text": [
        "\n",
        "http://www.nytimes.com/aponline/2013/09/18/sports/basketball/ap-bko-euro-championships.html"
       ]
      },
      {
       "output_type": "stream",
       "stream": "stdout",
       "text": [
        "\n",
        "http://www.nytimes.com/aponline/2013/09/18/us/politics/ap-us-louisiana-school-vouchers.html"
       ]
      },
      {
       "output_type": "stream",
       "stream": "stdout",
       "text": [
        "\n",
        "http://www.nytimes.com/reuters/2013/09/18/business/18reuters-cme-sef.html"
       ]
      },
      {
       "output_type": "stream",
       "stream": "stdout",
       "text": [
        "\n",
        "http://www.nytimes.com/reuters/2013/09/18/world/americas/18reuters-cuba-censorship.html"
       ]
      },
      {
       "output_type": "stream",
       "stream": "stdout",
       "text": [
        "\n",
        "http://www.nytimes.com/aponline/2013/09/18/health/ap-us-med-healthbeat-virus-test.html"
       ]
      },
      {
       "output_type": "stream",
       "stream": "stdout",
       "text": [
        "\n",
        "http://www.nytimes.com/aponline/2013/09/18/us/politics/ap-us-federal-reserve.html"
       ]
      },
      {
       "output_type": "stream",
       "stream": "stdout",
       "text": [
        "\n",
        "http://www.nytimes.com/aponline/2013/09/18/us/politics/ap-us-fed-forecasts.html"
       ]
      },
      {
       "output_type": "stream",
       "stream": "stdout",
       "text": [
        "\n",
        "http://www.nytimes.com/aponline/2013/09/18/arts/ap-us-tv-susan-lacy-hbo.html"
       ]
      },
      {
       "output_type": "stream",
       "stream": "stdout",
       "text": [
        "\n",
        "http://www.nytimes.com/aponline/2013/09/18/business/ap-us-pandora-ascap.html"
       ]
      },
      {
       "output_type": "stream",
       "stream": "stdout",
       "text": [
        "\n",
        "http://www.nytimes.com/reuters/2013/09/18/business/18reuters-usa-fed-yellen.html"
       ]
      },
      {
       "output_type": "stream",
       "stream": "stdout",
       "text": [
        "\n",
        "http://www.nytimes.com/aponline/2013/09/18/sports/ncaafootball/ap-fbc-concussion-testing.html"
       ]
      },
      {
       "output_type": "stream",
       "stream": "stdout",
       "text": [
        "\n",
        "http://www.nytimes.com/reuters/2013/09/18/us/politics/18reuters-usa-healthcare-exchanges.html"
       ]
      },
      {
       "output_type": "stream",
       "stream": "stdout",
       "text": [
        "\n",
        "http://www.nytimes.com/reuters/2013/09/18/world/europe/18reuters-turkey-greeks-island.html"
       ]
      },
      {
       "output_type": "stream",
       "stream": "stdout",
       "text": [
        "\n",
        "http://www.nytimes.com/aponline/2013/09/18/world/middleeast/ap-ml-israel-syria.html"
       ]
      },
      {
       "output_type": "stream",
       "stream": "stdout",
       "text": [
        "\n",
        "http://www.nytimes.com/aponline/2013/09/18/world/europe/ap-eu-italy-ship-aground-tourism.html"
       ]
      },
      {
       "output_type": "stream",
       "stream": "stdout",
       "text": [
        "\n",
        "http://www.nytimes.com/reuters/2013/09/18/us/18reuters-column-serwer.html"
       ]
      },
      {
       "output_type": "stream",
       "stream": "stdout",
       "text": [
        "\n",
        "http://www.nytimes.com/reuters/2013/09/18/business/18reuters-usa-housing.html"
       ]
      },
      {
       "output_type": "stream",
       "stream": "stdout",
       "text": [
        "\n",
        "http://www.nytimes.com/reuters/2013/09/18/world/europe/18reuters-syria-crisis-russia-damascus.html"
       ]
      },
      {
       "output_type": "stream",
       "stream": "stdout",
       "text": [
        "\n",
        "http://www.nytimes.com/aponline/2013/09/18/us/ap-us-inmate-escape-killings.html"
       ]
      },
      {
       "output_type": "stream",
       "stream": "stdout",
       "text": [
        "\n",
        "http://www.nytimes.com/reuters/2013/09/18/business/18reuters-autos-gm-evs.html"
       ]
      },
      {
       "output_type": "stream",
       "stream": "stdout",
       "text": [
        "\n",
        "http://www.nytimes.com/reuters/2013/09/18/us/politics/18reuters-usa-fed-schumer.html"
       ]
      },
      {
       "output_type": "stream",
       "stream": "stdout",
       "text": [
        "\n",
        "http://www.nytimes.com/aponline/2013/09/18/world/middleeast/ap-ml-egypt-economy.html"
       ]
      },
      {
       "output_type": "stream",
       "stream": "stdout",
       "text": [
        "\n",
        "http://www.nytimes.com/reuters/2013/09/18/us/politics/18reuters-usa-obama-counsel.html"
       ]
      },
      {
       "output_type": "stream",
       "stream": "stdout",
       "text": [
        "\n",
        "http://www.nytimes.com/reuters/2013/09/18/world/middleeast/18reuters-syria-crisis-qaeda.html"
       ]
      },
      {
       "output_type": "stream",
       "stream": "stdout",
       "text": [
        "\n",
        "http://www.nytimes.com/reuters/2013/09/18/sports/soccer/18reuters-soccer-qatar-blatter.html"
       ]
      },
      {
       "output_type": "stream",
       "stream": "stdout",
       "text": [
        "\n",
        "http://www.nytimes.com/reuters/2013/09/18/world/middleeast/18reuters-syria-crisis-usa-pentagon.html"
       ]
      },
      {
       "output_type": "stream",
       "stream": "stdout",
       "text": [
        "\n",
        "http://www.nytimes.com/reuters/2013/09/18/us/politics/18reuters-usa-iran-whitehouse.html"
       ]
      },
      {
       "output_type": "stream",
       "stream": "stdout",
       "text": [
        "\n",
        "http://www.nytimes.com/reuters/2013/09/18/business/18reuters-lufthansa-fleet.html"
       ]
      },
      {
       "output_type": "stream",
       "stream": "stdout",
       "text": [
        "\n",
        "http://www.nytimes.com/reuters/2013/09/18/world/europe/18reuters-germany-reich-ranicki.html"
       ]
      },
      {
       "output_type": "stream",
       "stream": "stdout",
       "text": [
        "\n",
        "http://www.nytimes.com/aponline/2013/09/18/sports/football/ap-fbn-broncos-clady.html"
       ]
      },
      {
       "output_type": "stream",
       "stream": "stdout",
       "text": [
        "\n",
        "http://www.nytimes.com/aponline/2013/09/18/us/ap-us-marine-killed.html"
       ]
      },
      {
       "output_type": "stream",
       "stream": "stdout",
       "text": [
        "\n",
        "http://www.nytimes.com/aponline/2013/09/18/business/ap-us-toys-r-us-hot-toys-glance.html"
       ]
      },
      {
       "output_type": "stream",
       "stream": "stdout",
       "text": [
        "\n",
        "http://www.nytimes.com/aponline/2013/09/18/us/ap-us-travel-brief-detroit-zoo-exhibit.html"
       ]
      },
      {
       "output_type": "stream",
       "stream": "stdout",
       "text": [
        "\n",
        "http://www.nytimes.com/reuters/2013/09/18/business/18reuters-financial-regulation-cyber.html"
       ]
      },
      {
       "output_type": "stream",
       "stream": "stdout",
       "text": [
        "\n",
        "http://www.nytimes.com/reuters/2013/09/18/us/18reuters-usa-security-whitehouse.html"
       ]
      },
      {
       "output_type": "stream",
       "stream": "stdout",
       "text": [
        "\n",
        "http://www.nytimes.com/aponline/2013/09/18/world/europe/ap-eu-germany-syria.html"
       ]
      },
      {
       "output_type": "stream",
       "stream": "stdout",
       "text": [
        "\n",
        "http://www.nytimes.com/reuters/2013/09/18/us/politics/18reuters-usa-fiscal-whitehouse.html"
       ]
      },
      {
       "output_type": "stream",
       "stream": "stdout",
       "text": [
        "\n",
        "http://www.nytimes.com/aponline/2013/09/18/sports/ncaafootball/ap-fbc-nebraska-pelini.html"
       ]
      },
      {
       "output_type": "stream",
       "stream": "stdout",
       "text": [
        "\n",
        "http://www.nytimes.com/aponline/2013/09/18/us/ap-mi-detroit-zoo-exhibit.html"
       ]
      },
      {
       "output_type": "stream",
       "stream": "stdout",
       "text": [
        "\n",
        "http://www.nytimes.com/aponline/2013/09/18/sports/tennis/ap-ten-coppola-suspended.html"
       ]
      },
      {
       "output_type": "stream",
       "stream": "stdout",
       "text": [
        "\n",
        "http://www.nytimes.com/aponline/2013/09/18/technology/ap-us-tec-google-health-.html"
       ]
      },
      {
       "output_type": "stream",
       "stream": "stdout",
       "text": [
        "\n",
        "http://www.nytimes.com/aponline/2013/09/18/us/politics/ap-us-mandatory-sentences-washington.html"
       ]
      },
      {
       "output_type": "stream",
       "stream": "stdout",
       "text": [
        "\n",
        "http://www.nytimes.com/reuters/2013/09/18/business/18reuters-usa-fed-banks-analysis.html"
       ]
      },
      {
       "output_type": "stream",
       "stream": "stdout",
       "text": [
        "\n",
        "http://www.nytimes.com/aponline/2013/09/18/us/ap-us-whale-spotting-app.html"
       ]
      },
      {
       "output_type": "stream",
       "stream": "stdout",
       "text": [
        "\n",
        "http://www.nytimes.com/aponline/2013/09/18/us/ap-us-navy-vets-scam-political-giving.html"
       ]
      },
      {
       "output_type": "stream",
       "stream": "stdout",
       "text": [
        "\n",
        "http://www.nytimes.com/reuters/2013/09/18/us/politics/18reuters-usa-congress-debt.html"
       ]
      },
      {
       "output_type": "stream",
       "stream": "stdout",
       "text": [
        "\n",
        "http://www.nytimes.com/reuters/2013/09/18/us/18reuters-column-kuttner.html"
       ]
      },
      {
       "output_type": "stream",
       "stream": "stdout",
       "text": [
        "\n",
        "http://query.nytimes.com/gst/fullpage.html?res=9D01E2DB123AF93BA2575AC0A9659D8B63"
       ]
      },
      {
       "output_type": "stream",
       "stream": "stdout",
       "text": [
        "\n",
        "http://query.nytimes.com/gst/fullpage.html?res=9C06E2DB123AF93BA2575AC0A9659D8B63"
       ]
      },
      {
       "output_type": "stream",
       "stream": "stdout",
       "text": [
        "\n",
        "http://query.nytimes.com/gst/fullpage.html?res=9507E2DB123AF93BA2575AC0A9659D8B63\n",
        "http://query.nytimes.com/gst/fullpage.html?res=9404E2DB123AF93BA2575AC0A9659D8B63"
       ]
      },
      {
       "output_type": "stream",
       "stream": "stdout",
       "text": [
        "\n",
        "http://query.nytimes.com/gst/fullpage.html?res=9B05E2DB123AF93BA2575AC0A9659D8B63\n",
        "http://query.nytimes.com/gst/fullpage.html?res=990CE3DB123AF93BA2575AC0A9659D8B63"
       ]
      },
      {
       "output_type": "stream",
       "stream": "stdout",
       "text": [
        "\n",
        "http://query.nytimes.com/gst/fullpage.html?res=980DE3DB123AF93BA2575AC0A9659D8B63\n",
        "http://query.nytimes.com/gst/fullpage.html?res=9E03E3DB123AF93BA2575AC0A9659D8B63"
       ]
      },
      {
       "output_type": "stream",
       "stream": "stdout",
       "text": [
        "\n",
        "http://query.nytimes.com/gst/fullpage.html?res=9F02E3DB123AF93BA2575AC0A9659D8B63\n",
        "http://query.nytimes.com/gst/fullpage.html?res=9D00E3DB123AF93BA2575AC0A9659D8B63"
       ]
      },
      {
       "output_type": "stream",
       "stream": "stdout",
       "text": [
        "\n",
        "http://query.nytimes.com/gst/fullpage.html?res=9C01E3DB123AF93BA2575AC0A9659D8B63\n",
        "http://query.nytimes.com/gst/fullpage.html?res=9506E3DB123AF93BA2575AC0A9659D8B63"
       ]
      },
      {
       "output_type": "stream",
       "stream": "stdout",
       "text": [
        "\n",
        "http://query.nytimes.com/gst/fullpage.html?res=9407E3DB123AF93BA2575AC0A9659D8B63\n",
        "http://query.nytimes.com/gst/fullpage.html?res=9B04E3DB123AF93BA2575AC0A9659D8B63"
       ]
      },
      {
       "output_type": "stream",
       "stream": "stdout",
       "text": [
        "\n",
        "http://query.nytimes.com/gst/fullpage.html?res=9A05E3DB123AF93BA2575AC0A9659D8B63"
       ]
      },
      {
       "output_type": "stream",
       "stream": "stdout",
       "text": [
        "\n",
        "http://query.nytimes.com/gst/fullpage.html?res=980CE4DB123AF93BA2575AC0A9659D8B63\n",
        "http://query.nytimes.com/gst/fullpage.html?res=9F0DE4DB123AF93BA2575AC0A9659D8B63"
       ]
      },
      {
       "output_type": "stream",
       "stream": "stdout",
       "text": [
        "\n",
        "http://query.nytimes.com/gst/fullpage.html?res=9E02E4DB123AF93BA2575AC0A9659D8B63\n",
        "http://www.nytimes.com/aponline/2013/09/17/sports/baseball/ap-bba-twins-white-sox.html"
       ]
      },
      {
       "output_type": "stream",
       "stream": "stdout",
       "text": [
        "\n",
        "http://www.nytimes.com/reuters/2013/09/17/us/17reuters-mining-alaska-pebble.html"
       ]
      },
      {
       "output_type": "stream",
       "stream": "stdout",
       "text": [
        "\n",
        "http://www.nytimes.com/aponline/2013/09/17/sports/baseball/ap-bba-indians-royals.html"
       ]
      },
      {
       "output_type": "stream",
       "stream": "stdout",
       "text": [
        "\n",
        "http://www.nytimes.com/aponline/2013/09/17/sports/baseball/ap-bbn-cubs-brewers.html"
       ]
      },
      {
       "output_type": "stream",
       "stream": "stdout",
       "text": [
        "\n",
        "http://www.nytimes.com/reuters/2013/09/17/business/17reuters-asia-companies-sentiment.html"
       ]
      },
      {
       "output_type": "stream",
       "stream": "stdout",
       "text": [
        "\n",
        "http://www.nytimes.com/aponline/2013/09/17/sports/baseball/ap-bbn-giants-mets.html"
       ]
      },
      {
       "output_type": "stream",
       "stream": "stdout",
       "text": [
        "\n",
        "http://www.nytimes.com/reuters/2013/09/17/business/17reuters-healthcare-exchanges-private.html"
       ]
      },
      {
       "output_type": "stream",
       "stream": "stdout",
       "text": [
        "\n",
        "http://www.nytimes.com/reuters/2013/09/17/technology/17reuters-att-americamovil.html"
       ]
      },
      {
       "output_type": "stream",
       "stream": "stdout",
       "text": [
        "\n",
        "http://www.nytimes.com/aponline/2013/09/17/sports/hockey/ap-hkn-oilers-jets.html"
       ]
      },
      {
       "output_type": "stream",
       "stream": "stdout",
       "text": [
        "\n",
        "http://www.nytimes.com/aponline/2013/09/17/sports/baseball/ap-bba-mariners-tigers.html"
       ]
      },
      {
       "output_type": "stream",
       "stream": "stdout",
       "text": [
        "\n",
        "http://www.nytimes.com/aponline/2013/09/17/sports/baseball/ap-bbo-reds-astros.html"
       ]
      },
      {
       "output_type": "stream",
       "stream": "stdout",
       "text": [
        "\n",
        "http://www.nytimes.com/aponline/2013/09/17/sports/baseball/ap-bbn-marlins.html"
       ]
      },
      {
       "output_type": "stream",
       "stream": "stdout",
       "text": [
        "\n",
        "http://www.nytimes.com/aponline/2013/09/17/sports/hockey/ap-hkn-blue-jackets-wild.html"
       ]
      },
      {
       "output_type": "stream",
       "stream": "stdout",
       "text": [
        "\n",
        "http://www.nytimes.com/aponline/2013/09/17/us/ap-us-navy-bribery-scheme.html"
       ]
      },
      {
       "output_type": "stream",
       "stream": "stdout",
       "text": [
        "\n",
        "http://www.nytimes.com/aponline/2013/09/17/sports/hockey/ap-hkn-red-wings-blackhawks.html"
       ]
      },
      {
       "output_type": "stream",
       "stream": "stdout",
       "text": [
        "\n",
        "http://www.nytimes.com/reuters/2013/09/17/technology/17reuters-publishing-pandora.html"
       ]
      },
      {
       "output_type": "stream",
       "stream": "stdout",
       "text": [
        "\n",
        "http://query.nytimes.com/gst/fullpage.html?res=9D0DE6DB123AF934A2575AC0A9659D8B63"
       ]
      },
      {
       "output_type": "stream",
       "stream": "stdout",
       "text": [
        "\n",
        "http://query.nytimes.com/gst/fullpage.html?res=9C02E6DB123AF934A2575AC0A9659D8B63"
       ]
      },
      {
       "output_type": "stream",
       "stream": "stdout",
       "text": [
        "\n",
        "http://query.nytimes.com/gst/fullpage.html?res=9503E6DB123AF934A2575AC0A9659D8B63"
       ]
      },
      {
       "output_type": "stream",
       "stream": "stdout",
       "text": [
        "\n",
        "http://query.nytimes.com/gst/fullpage.html?res=9400E6DB123AF934A2575AC0A9659D8B63"
       ]
      },
      {
       "output_type": "stream",
       "stream": "stdout",
       "text": [
        "\n",
        "http://query.nytimes.com/gst/fullpage.html?res=9B01E6DB123AF934A2575AC0A9659D8B63"
       ]
      },
      {
       "output_type": "stream",
       "stream": "stdout",
       "text": [
        "\n",
        "http://query.nytimes.com/gst/fullpage.html?res=9A06E6DB123AF934A2575AC0A9659D8B63"
       ]
      },
      {
       "output_type": "stream",
       "stream": "stdout",
       "text": [
        "\n",
        "http://query.nytimes.com/gst/fullpage.html?res=9907E6DB123AF934A2575AC0A9659D8B63"
       ]
      },
      {
       "output_type": "stream",
       "stream": "stdout",
       "text": [
        "\n",
        "http://query.nytimes.com/gst/fullpage.html?res=9804E6DB123AF934A2575AC0A9659D8B63"
       ]
      },
      {
       "output_type": "stream",
       "stream": "stdout",
       "text": [
        "\n",
        "http://query.nytimes.com/gst/fullpage.html?res=9F05E6DB123AF934A2575AC0A9659D8B63"
       ]
      },
      {
       "output_type": "stream",
       "stream": "stdout",
       "text": [
        "\n",
        "http://query.nytimes.com/gst/fullpage.html?res=9D0CE7DB123AF934A2575AC0A9659D8B63\n",
        "http://query.nytimes.com/gst/fullpage.html?res=9C0DE7DB123AF934A2575AC0A9659D8B63"
       ]
      },
      {
       "output_type": "stream",
       "stream": "stdout",
       "text": [
        "\n",
        "http://www.nytimes.com/2013/09/17/science/gearlike-legs-propel-a-european-jumper.html"
       ]
      },
      {
       "ename": "AttributeError",
       "evalue": "'module' object has no attribute 'OperationalFailureError'",
       "output_type": "pyerr",
       "traceback": [
        "\u001b[1;31m---------------------------------------------------------------------------\u001b[0m\n\u001b[1;31mAttributeError\u001b[0m                            Traceback (most recent call last)",
        "\u001b[1;32m<ipython-input-27-198c610d04d2>\u001b[0m in \u001b[0;36m<module>\u001b[1;34m()\u001b[0m\n\u001b[0;32m     20\u001b[0m \u001b[1;32mtry\u001b[0m\u001b[1;33m:\u001b[0m\u001b[1;33m\u001b[0m\u001b[0m\n\u001b[0;32m     21\u001b[0m     \u001b[0mscrape_html\u001b[0m\u001b[1;33m(\u001b[0m\u001b[1;33m)\u001b[0m\u001b[1;33m\u001b[0m\u001b[0m\n\u001b[1;32m---> 22\u001b[1;33m \u001b[1;32mexcept\u001b[0m \u001b[0merrors\u001b[0m\u001b[1;33m.\u001b[0m\u001b[0mOperationalFailureError\u001b[0m\u001b[1;33m:\u001b[0m\u001b[1;33m\u001b[0m\u001b[0m\n\u001b[0m\u001b[0;32m     23\u001b[0m     \u001b[0mscrape_html\u001b[0m\u001b[1;33m(\u001b[0m\u001b[1;33m)\u001b[0m\u001b[1;33m\u001b[0m\u001b[0m\n",
        "\u001b[1;31mAttributeError\u001b[0m: 'module' object has no attribute 'OperationalFailureError'"
       ]
      },
      {
       "output_type": "stream",
       "stream": "stdout",
       "text": [
        "\n"
       ]
      }
     ],
     "prompt_number": 27
    },
    {
     "cell_type": "markdown",
     "metadata": {},
     "source": [
      "### Now we Vector!\n",
      "\n",
      "Lets make sense of this mess of data"
     ]
    },
    {
     "cell_type": "code",
     "collapsed": false,
     "input": [
      "import string\n",
      "import collections"
     ],
     "language": "python",
     "metadata": {},
     "outputs": [],
     "prompt_number": 37
    },
    {
     "cell_type": "code",
     "collapsed": false,
     "input": [
      "# now we can vectorize the articles!\n",
      "\n",
      "# first we create the reference word vector\n",
      "\n",
      "# iterate over all the articles stored in our MongoDB\n",
      "for article in collection.find():\n",
      "    \n",
      "    # check to see if the article has already been vectorized and if it has associated html/content\n",
      "    if not article.has_key('vector') and article.has_key('content'):\n",
      "        \n",
      "        # create a 'bag' of words \n",
      "        bag = collecitons.Counter()\n",
      "        text = article['content']\n",
      "        sentences = sent_tokenize(\"\".join(text))\n",
      "        words = []\n",
      "        for sent in sentences:\n",
      "            words.extend(word_tokenize(sent))\n",
      "            \n",
      "        # remove stop words and punctuation from word token array \n",
      "        filtered = [ word for word in words if word not in stopwords.words('english') and word not in string.punctuation ]                "
     ],
     "language": "python",
     "metadata": {},
     "outputs": [
      {
       "output_type": "pyout",
       "prompt_number": 35,
       "text": [
        "[u'DETROIT',\n",
        " u'\\xe2\\x80\\x94',\n",
        " u'A',\n",
        " u'tense',\n",
        " u'standoff',\n",
        " u'Chrysler',\n",
        " u'federal',\n",
        " u'regulators',\n",
        " u'safety',\n",
        " u'millions',\n",
        " u'Jeep',\n",
        " u'sport',\n",
        " u'utility',\n",
        " u'vehicles',\n",
        " u'resolved',\n",
        " u'one',\n",
        " u'last',\n",
        " u'high-level',\n",
        " u'phone',\n",
        " u'call',\n",
        " u'The',\n",
        " u'call',\n",
        " u'took',\n",
        " u'place',\n",
        " u'Monday',\n",
        " u'Sergio',\n",
        " u'Marchionne',\n",
        " u'Chrysler\\xe2\\x80\\x99s',\n",
        " u'chief',\n",
        " u'executive',\n",
        " u'David',\n",
        " u'Strickland',\n",
        " u'head',\n",
        " u'National',\n",
        " u'Highway',\n",
        " u'Traffic',\n",
        " u'Safety',\n",
        " u'Administration',\n",
        " u'according',\n",
        " u'person',\n",
        " u'knowledge',\n",
        " u'call',\n",
        " u'spoke',\n",
        " u'condition',\n",
        " u'anonymity',\n",
        " u'conversation',\n",
        " u'private',\n",
        " u'When',\n",
        " u'Chrysler',\n",
        " u'agreed',\n",
        " u'voluntary',\n",
        " u'campaign',\n",
        " u'announced',\n",
        " u'Tuesday',\n",
        " u'inspect',\n",
        " u'upgrade',\n",
        " u'2.7',\n",
        " u'million',\n",
        " u'Jeeps',\n",
        " u'government',\n",
        " u'claimed',\n",
        " u'prone',\n",
        " u'catastrophic',\n",
        " u'fires',\n",
        " u'rear-end',\n",
        " u'collisions',\n",
        " u'The',\n",
        " u'move',\n",
        " u'Chrysler',\n",
        " u'nation\\xe2\\x80\\x99s',\n",
        " u'third-largest',\n",
        " u'automaker',\n",
        " u'behind',\n",
        " u'General',\n",
        " u'Motors',\n",
        " u'Ford',\n",
        " u'defused',\n",
        " u'become',\n",
        " u'unusual',\n",
        " u'confrontation',\n",
        " u'car',\n",
        " u'company',\n",
        " u'nation\\xe2\\x80\\x99s',\n",
        " u'auto-safety',\n",
        " u'agency',\n",
        " u'Chrysler',\n",
        " u'initially',\n",
        " u'rejected',\n",
        " u'recall',\n",
        " u'It',\n",
        " u'also',\n",
        " u'helped',\n",
        " u'automaker',\n",
        " u'allay',\n",
        " u'growing',\n",
        " u'concerns',\n",
        " u'customers',\n",
        " u'safety',\n",
        " u'quality',\n",
        " u'popular',\n",
        " u'Jeep',\n",
        " u'brand',\n",
        " u'vehicles',\n",
        " u'On',\n",
        " u'Monday\\xe2\\x80\\x99s',\n",
        " u'call',\n",
        " u'Mr.',\n",
        " u'Marchionne',\n",
        " u'agreed',\n",
        " u'Chrysler',\n",
        " u'would',\n",
        " u'voluntarily',\n",
        " u'put',\n",
        " u'trailer',\n",
        " u'hitches',\n",
        " u'older-model',\n",
        " u'Jeeps',\n",
        " u'protect',\n",
        " u'event',\n",
        " u'rear-end',\n",
        " u'accidents',\n",
        " u'In',\n",
        " u'return',\n",
        " u'Mr.',\n",
        " u'Marchionne',\n",
        " u'asked',\n",
        " u'regulators',\n",
        " u'refrain',\n",
        " u'continuing',\n",
        " u'describe',\n",
        " u'vehicles',\n",
        " u'defective',\n",
        " u'That',\n",
        " u'crucial',\n",
        " u'point',\n",
        " u'Chrysler',\n",
        " u'seeking',\n",
        " u'avoid',\n",
        " u'lawsuits',\n",
        " u'generated',\n",
        " u'safety',\n",
        " u'agency\\xe2\\x80\\x99s',\n",
        " u'three-year',\n",
        " u'investigation',\n",
        " u'Jeeps',\n",
        " u'Mr.',\n",
        " u'Marchionne\\xe2\\x80\\x99s',\n",
        " u'offer',\n",
        " u'satisfied',\n",
        " u'Mr.',\n",
        " u'Strickland',\n",
        " u'whose',\n",
        " u'agency',\n",
        " u'recommended',\n",
        " u'early',\n",
        " u'June',\n",
        " u'Chrysler',\n",
        " u'recall',\n",
        " u'1993',\n",
        " u'2004',\n",
        " u'Jeep',\n",
        " u'Grand',\n",
        " u'Cherokees',\n",
        " u'2002',\n",
        " u'2007',\n",
        " u'Jeep',\n",
        " u'Liberty',\n",
        " u'sport',\n",
        " u'utility',\n",
        " u'vehicles',\n",
        " u'At',\n",
        " u'issue',\n",
        " u'placement',\n",
        " u'fuel',\n",
        " u'tanks',\n",
        " u'whether',\n",
        " u'made',\n",
        " u'S.U.V.\\xe2\\x80\\x99s',\n",
        " u'vulnerable',\n",
        " u'collisions',\n",
        " u'prone',\n",
        " u'gasoline',\n",
        " u'leaks',\n",
        " u'fires',\n",
        " u'\\xe2\\x80\\x9cThough',\n",
        " u'Chrysler',\n",
        " u'data',\n",
        " u'points',\n",
        " u'flaws',\n",
        " u'vehicles',\n",
        " u'voluntary',\n",
        " u'recalls',\n",
        " u'show',\n",
        " u'important',\n",
        " u'want',\n",
        " u'drivers',\n",
        " u'vehicles',\n",
        " u'feel',\n",
        " u'safe',\n",
        " u'\\xe2\\x80\\x9d',\n",
        " u'said',\n",
        " u'Jared',\n",
        " u'Rowe',\n",
        " u'president',\n",
        " u'auto-research',\n",
        " u'firm',\n",
        " u'Kelley',\n",
        " u'Blue',\n",
        " u'Book',\n",
        " u'In',\n",
        " u'statement',\n",
        " u'Tuesday',\n",
        " u'Chrysler',\n",
        " u'maintained',\n",
        " u'Jeeps',\n",
        " u'defective',\n",
        " u'among',\n",
        " u'safest',\n",
        " u'group',\n",
        " u'similar',\n",
        " u'sport',\n",
        " u'utility',\n",
        " u'vehicles',\n",
        " u'made',\n",
        " u'manufacturers',\n",
        " u'But',\n",
        " u'company',\n",
        " u'said',\n",
        " u'plans',\n",
        " u'inspect',\n",
        " u'Jeeps',\n",
        " u'included',\n",
        " u'government\\xe2\\x80\\x99s',\n",
        " u'original',\n",
        " u'recall',\n",
        " u'request',\n",
        " u'install',\n",
        " u'trailer',\n",
        " u'hitches',\n",
        " u'\\xe2\\x80\\x9cChrysler',\n",
        " u'Group',\n",
        " u'conduct',\n",
        " u'voluntary',\n",
        " u'campaign',\n",
        " u'respect',\n",
        " u'vehicles',\n",
        " u'question',\n",
        " u'addition',\n",
        " u'visual',\n",
        " u'inspection',\n",
        " u'vehicle',\n",
        " u'necessary',\n",
        " u'provide',\n",
        " u'upgrade',\n",
        " u'rear',\n",
        " u'structure',\n",
        " u'vehicle',\n",
        " u'better',\n",
        " u'manage',\n",
        " u'crash',\n",
        " u'forces',\n",
        " u'low-speed',\n",
        " u'impacts',\n",
        " u'\\xe2\\x80\\x9d',\n",
        " u'company',\n",
        " u'said',\n",
        " u'The',\n",
        " u'safety',\n",
        " u'agency',\n",
        " u'said',\n",
        " u'statement',\n",
        " u'satisfied',\n",
        " u'move',\n",
        " u'\\xe2\\x80\\x94',\n",
        " u'without',\n",
        " u'including',\n",
        " u'comments',\n",
        " u'whether',\n",
        " u'vehicles',\n",
        " u'defects',\n",
        " u'\\xe2\\x80\\x9cThe',\n",
        " u'National',\n",
        " u'Highway',\n",
        " u'Traffic',\n",
        " u'Safety',\n",
        " u'Administration\\xe2\\x80\\x99s',\n",
        " u'top',\n",
        " u'priority',\n",
        " u'safety',\n",
        " u'recall',\n",
        " u'vehicles',\n",
        " u'supported',\n",
        " u'data',\n",
        " u'\\xe2\\x80\\x9d',\n",
        " u'agency',\n",
        " u'said',\n",
        " u'\\xe2\\x80\\x9cAs',\n",
        " u'pleased',\n",
        " u'Chrysler',\n",
        " u'agreed',\n",
        " u'take',\n",
        " u'action',\n",
        " u'protect',\n",
        " u'customers',\n",
        " u'driving',\n",
        " u'public.\\xe2\\x80\\x9d',\n",
        " u'The',\n",
        " u'agency',\n",
        " u'also',\n",
        " u'said',\n",
        " u'would',\n",
        " u'continue',\n",
        " u'investigation',\n",
        " u'Jeeps',\n",
        " u'including',\n",
        " u'review',\n",
        " u'new',\n",
        " u'documents',\n",
        " u'provided',\n",
        " u'Chrysler',\n",
        " u'In',\n",
        " u'original',\n",
        " u'recall',\n",
        " u'letter',\n",
        " u'Chrysler',\n",
        " u'early',\n",
        " u'June',\n",
        " u'agency',\n",
        " u'cited',\n",
        " u'32',\n",
        " u'rear-impact',\n",
        " u'collisions',\n",
        " u'caused',\n",
        " u'fatal',\n",
        " u'fires',\n",
        " u'resulting',\n",
        " u'44',\n",
        " u'deaths',\n",
        " u'Grand',\n",
        " u'Cherokees',\n",
        " u'five',\n",
        " u'accidents',\n",
        " u'resulted',\n",
        " u'seven',\n",
        " u'deaths',\n",
        " u'Jeep',\n",
        " u'Libertys',\n",
        " u'But',\n",
        " u'rather',\n",
        " u'agree',\n",
        " u'recall',\n",
        " u'Chrysler',\n",
        " u'aggressively',\n",
        " u'defended',\n",
        " u'Jeeps',\n",
        " u'That',\n",
        " u'set',\n",
        " u'round',\n",
        " u'meetings',\n",
        " u'company',\n",
        " u'regulators',\n",
        " u'comparing',\n",
        " u'Jeeps',\n",
        " u'fared',\n",
        " u'crashes',\n",
        " u'S.U.V',\n",
        " u'models',\n",
        " u'As',\n",
        " u'late',\n",
        " u'last',\n",
        " u'week',\n",
        " u'appeared',\n",
        " u'Chrysler',\n",
        " u'would',\n",
        " u'formally',\n",
        " u'refuse',\n",
        " u'recall',\n",
        " u'Tuesday',\n",
        " u'deadline',\n",
        " u'The',\n",
        " u'moves',\n",
        " u'announced',\n",
        " u'Chrysler',\n",
        " u'Tuesday',\n",
        " u'combination',\n",
        " u'voluntary',\n",
        " u'safety',\n",
        " u'recall',\n",
        " u'\\xe2\\x80\\x9ccustomer',\n",
        " u'service',\n",
        " u'action',\n",
        " u'\\xe2\\x80\\x9d',\n",
        " u'according',\n",
        " u'Eric',\n",
        " u'Mayne',\n",
        " u'company',\n",
        " u'spokesman',\n",
        " u'Essentially',\n",
        " u'company',\n",
        " u'planning',\n",
        " u'install',\n",
        " u'factory-built',\n",
        " u'trailer',\n",
        " u'hitch',\n",
        " u'Jeeps',\n",
        " u'don\\xe2\\x80\\x99t',\n",
        " u'already',\n",
        " u'one',\n",
        " u'The',\n",
        " u'hitches',\n",
        " u'somewhat',\n",
        " u'common',\n",
        " u'equipment',\n",
        " u'used',\n",
        " u'tow',\n",
        " u'trailer',\n",
        " u'added',\n",
        " u'benefit',\n",
        " u'absorbing',\n",
        " u'force',\n",
        " u'vehicle',\n",
        " u'struck',\n",
        " u'rear',\n",
        " u'Analysts',\n",
        " u'said',\n",
        " u'Chrysler',\n",
        " u'wise',\n",
        " u'choose',\n",
        " u'voluntary',\n",
        " u'safety',\n",
        " u'actions',\n",
        " u'protracted',\n",
        " u'battle',\n",
        " u'government',\n",
        " u'\\xe2\\x80\\x9cThis',\n",
        " u'probably',\n",
        " u'right',\n",
        " u'decision',\n",
        " u'Chrysler',\n",
        " u'\\xe2\\x80\\x9d',\n",
        " u'said',\n",
        " u'Michelle',\n",
        " u'Krebs',\n",
        " u'analyst',\n",
        " u'automotive',\n",
        " u'site',\n",
        " u'Edmunds.com',\n",
        " u'\\xe2\\x80\\x9cOnce',\n",
        " u'smoke',\n",
        " u'settles',\n",
        " u'I',\n",
        " u'expect',\n",
        " u'minor',\n",
        " u'blip',\n",
        " u'Jeep\\xe2\\x80\\x99s',\n",
        " u'history.\\xe2\\x80\\x9d']"
       ]
      }
     ],
     "prompt_number": 35
    },
    {
     "cell_type": "code",
     "collapsed": false,
     "input": [],
     "language": "python",
     "metadata": {},
     "outputs": []
    }
   ],
   "metadata": {}
  }
 ]
}